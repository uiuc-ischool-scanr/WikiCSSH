{
 "cells": [
  {
   "cell_type": "code",
   "execution_count": 1,
   "metadata": {},
   "outputs": [],
   "source": [
    "import findspark\n",
    "findspark.init('drive/My Drive/spark-2.4.5-bin-hadoop2.7')\n",
    "\n",
    "import pandas as pd\n",
    "\n",
    "import pyspark\n",
    "from pyspark.sql.types import *\n",
    "\n",
    "from IPython.display import display\n",
    "\n",
    "from collections import Counter\n",
    "import json\n",
    "import re"
   ]
  },
  {
   "cell_type": "code",
   "execution_count": 2,
   "metadata": {},
   "outputs": [],
   "source": [
    "sparkConf = pyspark.SparkConf()\n",
    "sparkConf.setAppName(\"WikiCSSH\")\n",
    "sparkConf.setMaster(\"local\")\n",
    "sparkConf.setAll([\n",
    "    (\"spark.local.dir\", \"./tmp\",),\n",
    "    ('spark.driver.memory', '10G')\n",
    "])\n",
    "\n",
    "sc = pyspark.SparkContext(conf=sparkConf)\n",
    "sc.setCheckpointDir(\"./spark_checkpoints\")\n",
    "spark = pyspark.sql.SparkSession(sc)"
   ]
  },
  {
   "cell_type": "code",
   "execution_count": 3,
   "metadata": {},
   "outputs": [],
   "source": [
    "df = spark.read.parquet(\"drive/My Drive/categorylinks_category_page.parquet\")"
   ]
  },
  {
   "cell_type": "code",
   "execution_count": 4,
   "metadata": {},
   "outputs": [
    {
     "data": {
      "text/plain": [
       "DataFrame[cl_from: int, cl_to: string, cl_type: string, cat_id: int, cat_title: string, cat_pages: int, cat_subcats: int, cat_files: int, cat_page_id: int, cat_page_namespace: int, cat_page_title: string, cat_page_is_redirect: int, page_id: int, page_namespace: int, page_title: string, page_is_redirect: int]"
      ]
     },
     "execution_count": 4,
     "metadata": {},
     "output_type": "execute_result"
    }
   ],
   "source": [
    "df"
   ]
  },
  {
   "cell_type": "code",
   "execution_count": 6,
   "metadata": {},
   "outputs": [],
   "source": [
    "dd=pd.read_csv('drive/My Drive/categories.csv')"
   ]
  },
  {
   "cell_type": "code",
   "execution_count": 7,
   "metadata": {},
   "outputs": [],
   "source": [
    "dd = list(dd.itertuples(index=False, name=None))"
   ]
  },
  {
   "cell_type": "code",
   "execution_count": 8,
   "metadata": {},
   "outputs": [],
   "source": [
    "df_categories = sc.parallelize(dd).toDF(StructType([\n",
    "    StructField(\"cat_title\", StringType(), False),\n",
    "    StructField(\"min_level\", IntegerType(), False)\n",
    "]))"
   ]
  },
  {
   "cell_type": "code",
   "execution_count": 9,
   "metadata": {},
   "outputs": [
    {
     "data": {
      "text/plain": [
       "DataFrame[cat_title: string, min_level: int]"
      ]
     },
     "execution_count": 9,
     "metadata": {},
     "output_type": "execute_result"
    }
   ],
   "source": [
    "df_categories"
   ]
  },
  {
   "cell_type": "code",
   "execution_count": 10,
   "metadata": {},
   "outputs": [],
   "source": [
    "df_cat_pages = df_categories.join(\n",
    "    df.filter(\"cl_type=='page' and page_namespace == 0\"),\n",
    "    on=\"cat_title\").toPandas().sort_values(\"min_level\")"
   ]
  },
  {
   "cell_type": "code",
   "execution_count": 11,
   "metadata": {},
   "outputs": [
    {
     "data": {
      "text/html": [
       "<div>\n",
       "<style scoped>\n",
       "    .dataframe tbody tr th:only-of-type {\n",
       "        vertical-align: middle;\n",
       "    }\n",
       "\n",
       "    .dataframe tbody tr th {\n",
       "        vertical-align: top;\n",
       "    }\n",
       "\n",
       "    .dataframe thead th {\n",
       "        text-align: right;\n",
       "    }\n",
       "</style>\n",
       "<table border=\"1\" class=\"dataframe\">\n",
       "  <thead>\n",
       "    <tr style=\"text-align: right;\">\n",
       "      <th></th>\n",
       "      <th>cat_title</th>\n",
       "      <th>min_level</th>\n",
       "      <th>cl_from</th>\n",
       "      <th>cl_to</th>\n",
       "      <th>cl_type</th>\n",
       "      <th>cat_id</th>\n",
       "      <th>cat_pages</th>\n",
       "      <th>cat_subcats</th>\n",
       "      <th>cat_files</th>\n",
       "      <th>cat_page_id</th>\n",
       "      <th>cat_page_namespace</th>\n",
       "      <th>cat_page_title</th>\n",
       "      <th>cat_page_is_redirect</th>\n",
       "      <th>page_id</th>\n",
       "      <th>page_namespace</th>\n",
       "      <th>page_title</th>\n",
       "      <th>page_is_redirect</th>\n",
       "    </tr>\n",
       "  </thead>\n",
       "  <tbody>\n",
       "    <tr>\n",
       "      <th>749335</th>\n",
       "      <td>Information_science</td>\n",
       "      <td>1</td>\n",
       "      <td>2843041</td>\n",
       "      <td>Information_science</td>\n",
       "      <td>page</td>\n",
       "      <td>166907</td>\n",
       "      <td>247</td>\n",
       "      <td>26</td>\n",
       "      <td>0</td>\n",
       "      <td>10246341</td>\n",
       "      <td>100</td>\n",
       "      <td>Information_science</td>\n",
       "      <td>1</td>\n",
       "      <td>2843041</td>\n",
       "      <td>0</td>\n",
       "      <td>Information_professional</td>\n",
       "      <td>0</td>\n",
       "    </tr>\n",
       "    <tr>\n",
       "      <th>23246</th>\n",
       "      <td>Computer_science</td>\n",
       "      <td>1</td>\n",
       "      <td>44409131</td>\n",
       "      <td>Computer_science</td>\n",
       "      <td>page</td>\n",
       "      <td>98333</td>\n",
       "      <td>50</td>\n",
       "      <td>17</td>\n",
       "      <td>0</td>\n",
       "      <td>1472580</td>\n",
       "      <td>100</td>\n",
       "      <td>Computer_science</td>\n",
       "      <td>0</td>\n",
       "      <td>44409131</td>\n",
       "      <td>0</td>\n",
       "      <td>Technology_transfer_in_computer_science</td>\n",
       "      <td>0</td>\n",
       "    </tr>\n",
       "    <tr>\n",
       "      <th>23245</th>\n",
       "      <td>Computer_science</td>\n",
       "      <td>1</td>\n",
       "      <td>44409131</td>\n",
       "      <td>Computer_science</td>\n",
       "      <td>page</td>\n",
       "      <td>98333</td>\n",
       "      <td>50</td>\n",
       "      <td>17</td>\n",
       "      <td>0</td>\n",
       "      <td>691117</td>\n",
       "      <td>14</td>\n",
       "      <td>Computer_science</td>\n",
       "      <td>0</td>\n",
       "      <td>44409131</td>\n",
       "      <td>0</td>\n",
       "      <td>Technology_transfer_in_computer_science</td>\n",
       "      <td>0</td>\n",
       "    </tr>\n",
       "    <tr>\n",
       "      <th>23244</th>\n",
       "      <td>Computer_science</td>\n",
       "      <td>1</td>\n",
       "      <td>44409131</td>\n",
       "      <td>Computer_science</td>\n",
       "      <td>page</td>\n",
       "      <td>98333</td>\n",
       "      <td>50</td>\n",
       "      <td>17</td>\n",
       "      <td>0</td>\n",
       "      <td>7290</td>\n",
       "      <td>1</td>\n",
       "      <td>Computer_science</td>\n",
       "      <td>0</td>\n",
       "      <td>44409131</td>\n",
       "      <td>0</td>\n",
       "      <td>Technology_transfer_in_computer_science</td>\n",
       "      <td>0</td>\n",
       "    </tr>\n",
       "    <tr>\n",
       "      <th>23243</th>\n",
       "      <td>Computer_science</td>\n",
       "      <td>1</td>\n",
       "      <td>44409131</td>\n",
       "      <td>Computer_science</td>\n",
       "      <td>page</td>\n",
       "      <td>98333</td>\n",
       "      <td>50</td>\n",
       "      <td>17</td>\n",
       "      <td>0</td>\n",
       "      <td>5323</td>\n",
       "      <td>0</td>\n",
       "      <td>Computer_science</td>\n",
       "      <td>0</td>\n",
       "      <td>44409131</td>\n",
       "      <td>0</td>\n",
       "      <td>Technology_transfer_in_computer_science</td>\n",
       "      <td>0</td>\n",
       "    </tr>\n",
       "  </tbody>\n",
       "</table>\n",
       "</div>"
      ],
      "text/plain": [
       "                  cat_title  min_level   cl_from                cl_to cl_type  \\\n",
       "749335  Information_science          1   2843041  Information_science    page   \n",
       "23246      Computer_science          1  44409131     Computer_science    page   \n",
       "23245      Computer_science          1  44409131     Computer_science    page   \n",
       "23244      Computer_science          1  44409131     Computer_science    page   \n",
       "23243      Computer_science          1  44409131     Computer_science    page   \n",
       "\n",
       "        cat_id  cat_pages  cat_subcats  cat_files  cat_page_id  \\\n",
       "749335  166907        247           26          0     10246341   \n",
       "23246    98333         50           17          0      1472580   \n",
       "23245    98333         50           17          0       691117   \n",
       "23244    98333         50           17          0         7290   \n",
       "23243    98333         50           17          0         5323   \n",
       "\n",
       "        cat_page_namespace       cat_page_title  cat_page_is_redirect  \\\n",
       "749335                 100  Information_science                     1   \n",
       "23246                  100     Computer_science                     0   \n",
       "23245                   14     Computer_science                     0   \n",
       "23244                    1     Computer_science                     0   \n",
       "23243                    0     Computer_science                     0   \n",
       "\n",
       "         page_id  page_namespace                               page_title  \\\n",
       "749335   2843041               0                 Information_professional   \n",
       "23246   44409131               0  Technology_transfer_in_computer_science   \n",
       "23245   44409131               0  Technology_transfer_in_computer_science   \n",
       "23244   44409131               0  Technology_transfer_in_computer_science   \n",
       "23243   44409131               0  Technology_transfer_in_computer_science   \n",
       "\n",
       "        page_is_redirect  \n",
       "749335                 0  \n",
       "23246                  0  \n",
       "23245                  0  \n",
       "23244                  0  \n",
       "23243                  0  "
      ]
     },
     "execution_count": 11,
     "metadata": {},
     "output_type": "execute_result"
    }
   ],
   "source": [
    "df_cat_pages.head(5)"
   ]
  },
  {
   "cell_type": "code",
   "execution_count": 14,
   "metadata": {},
   "outputs": [
    {
     "data": {
      "text/plain": [
       "Row(redirect_id=1190, redirected_page_title='Alternate_history', redirect_page_title='Alternative_history')"
      ]
     },
     "execution_count": 14,
     "metadata": {},
     "output_type": "execute_result"
    }
   ],
   "source": [
    "df_redirects = spark.read.parquet(\"drive/My Drive/redirects_page.parquet\").withColumnRenamed(\n",
    "    \"page_title\", \"redirect_page_title\").drop(\"page_id\")\n",
    "df_redirects.head()"
   ]
  },
  {
   "cell_type": "code",
   "execution_count": 15,
   "metadata": {},
   "outputs": [],
   "source": [
    "df_cat_pages_spark = df_categories.join(\n",
    "    df.filter(\"cl_type=='page' and page_namespace == 0\"),\n",
    "    on=\"cat_title\")\n",
    "\n",
    "re_page = df_redirects.join(\n",
    "    df_cat_pages_spark.filter(\"page_namespace == 0\").select(\n",
    "        \"page_title\", \"page_id\"\n",
    "    ),\n",
    "    df_redirects.redirected_page_title == df_cat_pages_spark.page_title\n",
    ").select(\"redirect_id\", \"redirect_page_title\", \"page_title\", \"page_id\").distinct().toPandas()"
   ]
  },
  {
   "cell_type": "code",
   "execution_count": 16,
   "metadata": {},
   "outputs": [
    {
     "data": {
      "text/plain": [
       "580313"
      ]
     },
     "execution_count": 16,
     "metadata": {},
     "output_type": "execute_result"
    }
   ],
   "source": [
    "len(re_page['redirect_page_title'].unique())"
   ]
  },
  {
   "cell_type": "code",
   "execution_count": 17,
   "metadata": {},
   "outputs": [
    {
     "data": {
      "text/plain": [
       "752246"
      ]
     },
     "execution_count": 17,
     "metadata": {},
     "output_type": "execute_result"
    }
   ],
   "source": [
    "len(set(re_page['redirect_page_title'].tolist()) | set(df_cat_pages['page_title'].tolist()))"
   ]
  },
  {
   "cell_type": "code",
   "execution_count": 18,
   "metadata": {},
   "outputs": [],
   "source": [
    "total = pd.merge(df_cat_pages[['cat_title','page_title', 'min_level']].drop_duplicates(), re_page, 'left')[['page_title', 'min_level', \n",
    "                                                                                                    'redirect_page_title']].drop_duplicates()"
   ]
  }
 ],
 "metadata": {
  "kernelspec": {
   "display_name": "Python 3",
   "language": "python",
   "name": "python3"
  },
  "language_info": {
   "codemirror_mode": {
    "name": "ipython",
    "version": 3
   },
   "file_extension": ".py",
   "mimetype": "text/x-python",
   "name": "python",
   "nbconvert_exporter": "python",
   "pygments_lexer": "ipython3",
   "version": "3.7.3"
  }
 },
 "nbformat": 4,
 "nbformat_minor": 2
}
