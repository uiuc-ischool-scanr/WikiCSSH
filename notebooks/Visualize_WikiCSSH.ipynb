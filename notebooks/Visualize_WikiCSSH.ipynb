{
 "cells": [
  {
   "cell_type": "code",
   "execution_count": 1,
   "metadata": {},
   "outputs": [],
   "source": [
    "import pandas as pd\n",
    "import matplotlib.pyplot as plt\n",
    "import networkx as nx\n",
    "from pathlib import Path\n",
    "from collections import OrderedDict"
   ]
  },
  {
   "cell_type": "code",
   "execution_count": 2,
   "metadata": {},
   "outputs": [
    {
     "data": {
      "text/plain": [
       "[WindowsPath('../data/v1/WikiCSSH_categories.csv'),\n",
       " WindowsPath('../data/v1/WikiCSSH_category2page.csv'),\n",
       " WindowsPath('../data/v1/WikiCSSH_category_links.csv'),\n",
       " WindowsPath('../data/v1/WikiCSSH_category_links_all.csv'),\n",
       " WindowsPath('../data/v1/Wikicssh_core_categories.csv'),\n",
       " WindowsPath('../data/v1/WikiCSSH_page2redirect.csv')]"
      ]
     },
     "execution_count": 2,
     "metadata": {},
     "output_type": "execute_result"
    }
   ],
   "source": [
    "wikicssh_path = Path(\"../data/v1\")\n",
    "wikicssh_files = list(wikicssh_path.glob(\"./*.csv\"))\n",
    "wikicssh_files"
   ]
  },
  {
   "cell_type": "code",
   "execution_count": 3,
   "metadata": {},
   "outputs": [
    {
     "data": {
      "text/html": [
       "<div>\n",
       "<style scoped>\n",
       "    .dataframe tbody tr th:only-of-type {\n",
       "        vertical-align: middle;\n",
       "    }\n",
       "\n",
       "    .dataframe tbody tr th {\n",
       "        vertical-align: top;\n",
       "    }\n",
       "\n",
       "    .dataframe thead th {\n",
       "        text-align: right;\n",
       "    }\n",
       "</style>\n",
       "<table border=\"1\" class=\"dataframe\">\n",
       "  <thead>\n",
       "    <tr style=\"text-align: right;\">\n",
       "      <th></th>\n",
       "      <th>category</th>\n",
       "      <th>level</th>\n",
       "    </tr>\n",
       "  </thead>\n",
       "  <tbody>\n",
       "    <tr>\n",
       "      <td>0</td>\n",
       "      <td>Computer_science</td>\n",
       "      <td>1</td>\n",
       "    </tr>\n",
       "    <tr>\n",
       "      <td>1</td>\n",
       "      <td>Mathematics</td>\n",
       "      <td>1</td>\n",
       "    </tr>\n",
       "    <tr>\n",
       "      <td>2</td>\n",
       "      <td>Information_science</td>\n",
       "      <td>1</td>\n",
       "    </tr>\n",
       "    <tr>\n",
       "      <td>3</td>\n",
       "      <td>Computer_engineering</td>\n",
       "      <td>1</td>\n",
       "    </tr>\n",
       "    <tr>\n",
       "      <td>4</td>\n",
       "      <td>Statistics</td>\n",
       "      <td>1</td>\n",
       "    </tr>\n",
       "  </tbody>\n",
       "</table>\n",
       "</div>"
      ],
      "text/plain": [
       "               category  level\n",
       "0      Computer_science      1\n",
       "1           Mathematics      1\n",
       "2   Information_science      1\n",
       "3  Computer_engineering      1\n",
       "4            Statistics      1"
      ]
     },
     "execution_count": 3,
     "metadata": {},
     "output_type": "execute_result"
    }
   ],
   "source": [
    "df_categories = pd.read_csv('../data/v1/WikiCSSH_categories.csv')\n",
    "df_categories.head()"
   ]
  },
  {
   "cell_type": "code",
   "execution_count": 4,
   "metadata": {},
   "outputs": [
    {
     "data": {
      "text/plain": [
       "(7354, 2)"
      ]
     },
     "execution_count": 4,
     "metadata": {},
     "output_type": "execute_result"
    }
   ],
   "source": [
    "df_categories.shape"
   ]
  },
  {
   "cell_type": "code",
   "execution_count": 5,
   "metadata": {},
   "outputs": [
    {
     "data": {
      "text/plain": [
       "0        Category:Computer_science\n",
       "1             Category:Mathematics\n",
       "2     Category:Information_science\n",
       "3    Category:Computer_engineering\n",
       "4              Category:Statistics\n",
       "Name: category, dtype: object"
      ]
     },
     "execution_count": 5,
     "metadata": {},
     "output_type": "execute_result"
    }
   ],
   "source": [
    "(\"Category:\"+ df_categories.category).head()"
   ]
  },
  {
   "cell_type": "code",
   "execution_count": 6,
   "metadata": {},
   "outputs": [
    {
     "data": {
      "text/plain": [
       "OrderedDict([('Computer_science', {'level': 1}),\n",
       "             ('Mathematics', {'level': 1}),\n",
       "             ('Information_science', {'level': 1}),\n",
       "             ('Computer_engineering', {'level': 1}),\n",
       "             ('Statistics', {'level': 1})])"
      ]
     },
     "execution_count": 6,
     "metadata": {},
     "output_type": "execute_result"
    }
   ],
   "source": [
    "df_categories.set_index(\"category\").head().to_dict(orient=\"index\", into=OrderedDict)"
   ]
  },
  {
   "cell_type": "code",
   "execution_count": 7,
   "metadata": {},
   "outputs": [
    {
     "data": {
      "text/html": [
       "<div>\n",
       "<style scoped>\n",
       "    .dataframe tbody tr th:only-of-type {\n",
       "        vertical-align: middle;\n",
       "    }\n",
       "\n",
       "    .dataframe tbody tr th {\n",
       "        vertical-align: top;\n",
       "    }\n",
       "\n",
       "    .dataframe thead th {\n",
       "        text-align: right;\n",
       "    }\n",
       "</style>\n",
       "<table border=\"1\" class=\"dataframe\">\n",
       "  <thead>\n",
       "    <tr style=\"text-align: right;\">\n",
       "      <th></th>\n",
       "      <th>parent_cat</th>\n",
       "      <th>child_cat</th>\n",
       "      <th>parent_level</th>\n",
       "      <th>child_level</th>\n",
       "    </tr>\n",
       "  </thead>\n",
       "  <tbody>\n",
       "    <tr>\n",
       "      <td>0</td>\n",
       "      <td>Computer_engineering</td>\n",
       "      <td>Electronic_engineering</td>\n",
       "      <td>1</td>\n",
       "      <td>2</td>\n",
       "    </tr>\n",
       "    <tr>\n",
       "      <td>1</td>\n",
       "      <td>Computer_engineering</td>\n",
       "      <td>Software_engineering</td>\n",
       "      <td>1</td>\n",
       "      <td>2</td>\n",
       "    </tr>\n",
       "    <tr>\n",
       "      <td>2</td>\n",
       "      <td>Computer_engineering</td>\n",
       "      <td>Computer_hardware</td>\n",
       "      <td>1</td>\n",
       "      <td>2</td>\n",
       "    </tr>\n",
       "    <tr>\n",
       "      <td>3</td>\n",
       "      <td>Computer_engineering</td>\n",
       "      <td>Computer_systems</td>\n",
       "      <td>1</td>\n",
       "      <td>2</td>\n",
       "    </tr>\n",
       "    <tr>\n",
       "      <td>4</td>\n",
       "      <td>Computer_engineering</td>\n",
       "      <td>Computer_engineering_stubs</td>\n",
       "      <td>1</td>\n",
       "      <td>2</td>\n",
       "    </tr>\n",
       "  </tbody>\n",
       "</table>\n",
       "</div>"
      ],
      "text/plain": [
       "             parent_cat                   child_cat  parent_level  child_level\n",
       "0  Computer_engineering      Electronic_engineering             1            2\n",
       "1  Computer_engineering        Software_engineering             1            2\n",
       "2  Computer_engineering           Computer_hardware             1            2\n",
       "3  Computer_engineering            Computer_systems             1            2\n",
       "4  Computer_engineering  Computer_engineering_stubs             1            2"
      ]
     },
     "execution_count": 7,
     "metadata": {},
     "output_type": "execute_result"
    }
   ],
   "source": [
    "df_category_links = pd.read_csv('../data/v1/WikiCSSH_category_links.csv')\n",
    "df_category_links.head()"
   ]
  },
  {
   "cell_type": "code",
   "execution_count": 8,
   "metadata": {},
   "outputs": [
    {
     "data": {
      "text/plain": [
       "(8323, 4)"
      ]
     },
     "execution_count": 8,
     "metadata": {},
     "output_type": "execute_result"
    }
   ],
   "source": [
    "df_category_links.shape"
   ]
  },
  {
   "cell_type": "code",
   "execution_count": 9,
   "metadata": {},
   "outputs": [
    {
     "data": {
      "text/plain": [
       "7354"
      ]
     },
     "execution_count": 9,
     "metadata": {},
     "output_type": "execute_result"
    }
   ],
   "source": [
    "len(set(df_categories.category.values))"
   ]
  },
  {
   "cell_type": "code",
   "execution_count": 10,
   "metadata": {},
   "outputs": [
    {
     "data": {
      "text/plain": [
       "7263"
      ]
     },
     "execution_count": 10,
     "metadata": {},
     "output_type": "execute_result"
    }
   ],
   "source": [
    "len(set(df_category_links.parent_cat.values) | set(df_category_links.child_cat.values))"
   ]
  },
  {
   "cell_type": "code",
   "execution_count": 11,
   "metadata": {},
   "outputs": [
    {
     "data": {
      "text/html": [
       "<div>\n",
       "<style scoped>\n",
       "    .dataframe tbody tr th:only-of-type {\n",
       "        vertical-align: middle;\n",
       "    }\n",
       "\n",
       "    .dataframe tbody tr th {\n",
       "        vertical-align: top;\n",
       "    }\n",
       "\n",
       "    .dataframe thead th {\n",
       "        text-align: right;\n",
       "    }\n",
       "</style>\n",
       "<table border=\"1\" class=\"dataframe\">\n",
       "  <thead>\n",
       "    <tr style=\"text-align: right;\">\n",
       "      <th></th>\n",
       "      <th>cat_title</th>\n",
       "      <th>cat_level</th>\n",
       "      <th>num_aff_pages</th>\n",
       "      <th>page_title</th>\n",
       "    </tr>\n",
       "  </thead>\n",
       "  <tbody>\n",
       "    <tr>\n",
       "      <td>0</td>\n",
       "      <td>Information_science</td>\n",
       "      <td>1</td>\n",
       "      <td>247</td>\n",
       "      <td>Information_professional</td>\n",
       "    </tr>\n",
       "    <tr>\n",
       "      <td>1</td>\n",
       "      <td>Computer_science</td>\n",
       "      <td>1</td>\n",
       "      <td>50</td>\n",
       "      <td>Technology_transfer_in_computer_science</td>\n",
       "    </tr>\n",
       "    <tr>\n",
       "      <td>2</td>\n",
       "      <td>Computer_science</td>\n",
       "      <td>1</td>\n",
       "      <td>50</td>\n",
       "      <td>Computational_social_choice</td>\n",
       "    </tr>\n",
       "    <tr>\n",
       "      <td>3</td>\n",
       "      <td>Computer_science</td>\n",
       "      <td>1</td>\n",
       "      <td>50</td>\n",
       "      <td>Outline_of_computer_science</td>\n",
       "    </tr>\n",
       "    <tr>\n",
       "      <td>4</td>\n",
       "      <td>Computer_science</td>\n",
       "      <td>1</td>\n",
       "      <td>50</td>\n",
       "      <td>Reduction_Operator</td>\n",
       "    </tr>\n",
       "  </tbody>\n",
       "</table>\n",
       "</div>"
      ],
      "text/plain": [
       "             cat_title  cat_level  num_aff_pages  \\\n",
       "0  Information_science          1            247   \n",
       "1     Computer_science          1             50   \n",
       "2     Computer_science          1             50   \n",
       "3     Computer_science          1             50   \n",
       "4     Computer_science          1             50   \n",
       "\n",
       "                                page_title  \n",
       "0                 Information_professional  \n",
       "1  Technology_transfer_in_computer_science  \n",
       "2              Computational_social_choice  \n",
       "3              Outline_of_computer_science  \n",
       "4                       Reduction_Operator  "
      ]
     },
     "execution_count": 11,
     "metadata": {},
     "output_type": "execute_result"
    }
   ],
   "source": [
    "df_pages = pd.read_csv('../data/v1/WikiCSSH_category2page.csv')\n",
    "df_pages.head()"
   ]
  },
  {
   "cell_type": "code",
   "execution_count": 12,
   "metadata": {},
   "outputs": [
    {
     "data": {
      "text/plain": [
       "(272747, 4)"
      ]
     },
     "execution_count": 12,
     "metadata": {},
     "output_type": "execute_result"
    }
   ],
   "source": [
    "df_pages.shape"
   ]
  },
  {
   "cell_type": "code",
   "execution_count": 13,
   "metadata": {},
   "outputs": [
    {
     "data": {
      "text/plain": [
       "(181070,)"
      ]
     },
     "execution_count": 13,
     "metadata": {},
     "output_type": "execute_result"
    }
   ],
   "source": [
    "df_pages.page_title.value_counts().shape"
   ]
  },
  {
   "cell_type": "code",
   "execution_count": 14,
   "metadata": {},
   "outputs": [
    {
     "data": {
      "text/html": [
       "<div>\n",
       "<style scoped>\n",
       "    .dataframe tbody tr th:only-of-type {\n",
       "        vertical-align: middle;\n",
       "    }\n",
       "\n",
       "    .dataframe tbody tr th {\n",
       "        vertical-align: top;\n",
       "    }\n",
       "\n",
       "    .dataframe thead th {\n",
       "        text-align: right;\n",
       "    }\n",
       "</style>\n",
       "<table border=\"1\" class=\"dataframe\">\n",
       "  <thead>\n",
       "    <tr style=\"text-align: right;\">\n",
       "      <th></th>\n",
       "      <th>page_title</th>\n",
       "      <th>min_level</th>\n",
       "      <th>redirect_page_title</th>\n",
       "    </tr>\n",
       "  </thead>\n",
       "  <tbody>\n",
       "    <tr>\n",
       "      <td>0</td>\n",
       "      <td>Information_professional</td>\n",
       "      <td>1</td>\n",
       "      <td>Information_Professional</td>\n",
       "    </tr>\n",
       "    <tr>\n",
       "      <td>1</td>\n",
       "      <td>Technology_transfer_in_computer_science</td>\n",
       "      <td>1</td>\n",
       "      <td>NaN</td>\n",
       "    </tr>\n",
       "    <tr>\n",
       "      <td>2</td>\n",
       "      <td>Computational_social_choice</td>\n",
       "      <td>1</td>\n",
       "      <td>Computational_social_choice</td>\n",
       "    </tr>\n",
       "    <tr>\n",
       "      <td>3</td>\n",
       "      <td>Outline_of_computer_science</td>\n",
       "      <td>1</td>\n",
       "      <td>Computer_science_basic_topics</td>\n",
       "    </tr>\n",
       "    <tr>\n",
       "      <td>4</td>\n",
       "      <td>Outline_of_computer_science</td>\n",
       "      <td>1</td>\n",
       "      <td>List_of_computer_science_topics</td>\n",
       "    </tr>\n",
       "  </tbody>\n",
       "</table>\n",
       "</div>"
      ],
      "text/plain": [
       "                                page_title  min_level  \\\n",
       "0                 Information_professional          1   \n",
       "1  Technology_transfer_in_computer_science          1   \n",
       "2              Computational_social_choice          1   \n",
       "3              Outline_of_computer_science          1   \n",
       "4              Outline_of_computer_science          1   \n",
       "\n",
       "               redirect_page_title  \n",
       "0         Information_Professional  \n",
       "1                              NaN  \n",
       "2      Computational_social_choice  \n",
       "3    Computer_science_basic_topics  \n",
       "4  List_of_computer_science_topics  "
      ]
     },
     "execution_count": 14,
     "metadata": {},
     "output_type": "execute_result"
    }
   ],
   "source": [
    "df_redirects = pd.read_csv('../data/v1/WikiCSSH_page2redirect.csv')\n",
    "df_redirects.head()"
   ]
  },
  {
   "cell_type": "code",
   "execution_count": 15,
   "metadata": {},
   "outputs": [
    {
     "data": {
      "text/plain": [
       "(580312,)"
      ]
     },
     "execution_count": 15,
     "metadata": {},
     "output_type": "execute_result"
    }
   ],
   "source": [
    "df_redirects.redirect_page_title.value_counts().shape"
   ]
  },
  {
   "cell_type": "code",
   "execution_count": 16,
   "metadata": {},
   "outputs": [
    {
     "data": {
      "text/plain": [
       "(942295, 3)"
      ]
     },
     "execution_count": 16,
     "metadata": {},
     "output_type": "execute_result"
    }
   ],
   "source": [
    "df_redirects.shape"
   ]
  },
  {
   "cell_type": "code",
   "execution_count": 17,
   "metadata": {},
   "outputs": [
    {
     "data": {
      "text/plain": [
       "91"
      ]
     },
     "execution_count": 17,
     "metadata": {},
     "output_type": "execute_result"
    }
   ],
   "source": [
    "isolate_cats = (\n",
    "    set(df_categories.category.values) \n",
    "    - set(\n",
    "        set(df_category_links.parent_cat.values) \n",
    "        | set(df_category_links.child_cat.values)\n",
    "    )\n",
    ")\n",
    "len(isolate_cats)"
   ]
  },
  {
   "cell_type": "code",
   "execution_count": 18,
   "metadata": {},
   "outputs": [
    {
     "data": {
      "text/plain": [
       "76"
      ]
     },
     "execution_count": 18,
     "metadata": {},
     "output_type": "execute_result"
    }
   ],
   "source": [
    "root_child_cats = set(\n",
    "    set(df_category_links.parent_cat.values) \n",
    "    - set(df_category_links.child_cat.values)\n",
    ")\n",
    "len(root_child_cats)"
   ]
  },
  {
   "cell_type": "code",
   "execution_count": 19,
   "metadata": {},
   "outputs": [
    {
     "data": {
      "text/plain": [
       "['Asbestos',\n",
       " 'Naming_conventions',\n",
       " 'Steampunk',\n",
       " 'Trains',\n",
       " 'French-language_media_in_Canada',\n",
       " 'Crops',\n",
       " 'Firearms',\n",
       " 'Information_science',\n",
       " 'Aviation_standards',\n",
       " 'Air_navigation']"
      ]
     },
     "execution_count": 19,
     "metadata": {},
     "output_type": "execute_result"
    }
   ],
   "source": [
    "list(root_child_cats)[:10]"
   ]
  },
  {
   "cell_type": "code",
   "execution_count": 20,
   "metadata": {},
   "outputs": [
    {
     "data": {
      "text/html": [
       "<div>\n",
       "<style scoped>\n",
       "    .dataframe tbody tr th:only-of-type {\n",
       "        vertical-align: middle;\n",
       "    }\n",
       "\n",
       "    .dataframe tbody tr th {\n",
       "        vertical-align: top;\n",
       "    }\n",
       "\n",
       "    .dataframe thead th {\n",
       "        text-align: right;\n",
       "    }\n",
       "</style>\n",
       "<table border=\"1\" class=\"dataframe\">\n",
       "  <thead>\n",
       "    <tr style=\"text-align: right;\">\n",
       "      <th></th>\n",
       "      <th>category</th>\n",
       "      <th>level</th>\n",
       "    </tr>\n",
       "  </thead>\n",
       "  <tbody>\n",
       "    <tr>\n",
       "      <td>0</td>\n",
       "      <td>Computer_science</td>\n",
       "      <td>1</td>\n",
       "    </tr>\n",
       "    <tr>\n",
       "      <td>1</td>\n",
       "      <td>Mathematics</td>\n",
       "      <td>1</td>\n",
       "    </tr>\n",
       "    <tr>\n",
       "      <td>2</td>\n",
       "      <td>Information_science</td>\n",
       "      <td>1</td>\n",
       "    </tr>\n",
       "    <tr>\n",
       "      <td>3</td>\n",
       "      <td>Computer_engineering</td>\n",
       "      <td>1</td>\n",
       "    </tr>\n",
       "    <tr>\n",
       "      <td>4</td>\n",
       "      <td>Statistics</td>\n",
       "      <td>1</td>\n",
       "    </tr>\n",
       "    <tr>\n",
       "      <td>...</td>\n",
       "      <td>...</td>\n",
       "      <td>...</td>\n",
       "    </tr>\n",
       "    <tr>\n",
       "      <td>6610</td>\n",
       "      <td>Plant_disease_scales</td>\n",
       "      <td>17</td>\n",
       "    </tr>\n",
       "    <tr>\n",
       "      <td>6629</td>\n",
       "      <td>Sustainable_design</td>\n",
       "      <td>17</td>\n",
       "    </tr>\n",
       "    <tr>\n",
       "      <td>6876</td>\n",
       "      <td>Masks</td>\n",
       "      <td>18</td>\n",
       "    </tr>\n",
       "    <tr>\n",
       "      <td>7118</td>\n",
       "      <td>Economic_reforms</td>\n",
       "      <td>19</td>\n",
       "    </tr>\n",
       "    <tr>\n",
       "      <td>7156</td>\n",
       "      <td>Change</td>\n",
       "      <td>19</td>\n",
       "    </tr>\n",
       "  </tbody>\n",
       "</table>\n",
       "<p>76 rows × 2 columns</p>\n",
       "</div>"
      ],
      "text/plain": [
       "                  category  level\n",
       "0         Computer_science      1\n",
       "1              Mathematics      1\n",
       "2      Information_science      1\n",
       "3     Computer_engineering      1\n",
       "4               Statistics      1\n",
       "...                    ...    ...\n",
       "6610  Plant_disease_scales     17\n",
       "6629    Sustainable_design     17\n",
       "6876                 Masks     18\n",
       "7118      Economic_reforms     19\n",
       "7156                Change     19\n",
       "\n",
       "[76 rows x 2 columns]"
      ]
     },
     "execution_count": 20,
     "metadata": {},
     "output_type": "execute_result"
    }
   ],
   "source": [
    "df_categories[df_categories.category.isin(root_child_cats)]"
   ]
  },
  {
   "cell_type": "code",
   "execution_count": 21,
   "metadata": {},
   "outputs": [
    {
     "data": {
      "text/html": [
       "<div>\n",
       "<style scoped>\n",
       "    .dataframe tbody tr th:only-of-type {\n",
       "        vertical-align: middle;\n",
       "    }\n",
       "\n",
       "    .dataframe tbody tr th {\n",
       "        vertical-align: top;\n",
       "    }\n",
       "\n",
       "    .dataframe thead th {\n",
       "        text-align: right;\n",
       "    }\n",
       "</style>\n",
       "<table border=\"1\" class=\"dataframe\">\n",
       "  <thead>\n",
       "    <tr style=\"text-align: right;\">\n",
       "      <th></th>\n",
       "      <th>category</th>\n",
       "      <th>level</th>\n",
       "    </tr>\n",
       "  </thead>\n",
       "  <tbody>\n",
       "    <tr>\n",
       "      <td>2390</td>\n",
       "      <td>Microphones</td>\n",
       "      <td>5</td>\n",
       "    </tr>\n",
       "    <tr>\n",
       "      <td>3166</td>\n",
       "      <td>Kernel_programmers</td>\n",
       "      <td>5</td>\n",
       "    </tr>\n",
       "    <tr>\n",
       "      <td>4332</td>\n",
       "      <td>Silicon_photonics</td>\n",
       "      <td>7</td>\n",
       "    </tr>\n",
       "    <tr>\n",
       "      <td>4404</td>\n",
       "      <td>Silicones</td>\n",
       "      <td>7</td>\n",
       "    </tr>\n",
       "    <tr>\n",
       "      <td>4578</td>\n",
       "      <td>ITU-T_recommendations</td>\n",
       "      <td>7</td>\n",
       "    </tr>\n",
       "  </tbody>\n",
       "</table>\n",
       "</div>"
      ],
      "text/plain": [
       "                   category  level\n",
       "2390            Microphones      5\n",
       "3166     Kernel_programmers      5\n",
       "4332      Silicon_photonics      7\n",
       "4404              Silicones      7\n",
       "4578  ITU-T_recommendations      7"
      ]
     },
     "execution_count": 21,
     "metadata": {},
     "output_type": "execute_result"
    }
   ],
   "source": [
    "df_categories[df_categories.category.isin(isolate_cats)].head()"
   ]
  },
  {
   "cell_type": "code",
   "execution_count": 22,
   "metadata": {},
   "outputs": [
    {
     "data": {
      "text/html": [
       "<div>\n",
       "<style scoped>\n",
       "    .dataframe tbody tr th:only-of-type {\n",
       "        vertical-align: middle;\n",
       "    }\n",
       "\n",
       "    .dataframe tbody tr th {\n",
       "        vertical-align: top;\n",
       "    }\n",
       "\n",
       "    .dataframe thead th {\n",
       "        text-align: right;\n",
       "    }\n",
       "</style>\n",
       "<table border=\"1\" class=\"dataframe\">\n",
       "  <thead>\n",
       "    <tr style=\"text-align: right;\">\n",
       "      <th></th>\n",
       "      <th>category</th>\n",
       "      <th>level</th>\n",
       "    </tr>\n",
       "  </thead>\n",
       "  <tbody>\n",
       "    <tr>\n",
       "      <td>0</td>\n",
       "      <td>Computer_science</td>\n",
       "      <td>1</td>\n",
       "    </tr>\n",
       "    <tr>\n",
       "      <td>1</td>\n",
       "      <td>Mathematics</td>\n",
       "      <td>1</td>\n",
       "    </tr>\n",
       "    <tr>\n",
       "      <td>2</td>\n",
       "      <td>Information_science</td>\n",
       "      <td>1</td>\n",
       "    </tr>\n",
       "    <tr>\n",
       "      <td>3</td>\n",
       "      <td>Computer_engineering</td>\n",
       "      <td>1</td>\n",
       "    </tr>\n",
       "    <tr>\n",
       "      <td>4</td>\n",
       "      <td>Statistics</td>\n",
       "      <td>1</td>\n",
       "    </tr>\n",
       "    <tr>\n",
       "      <td>...</td>\n",
       "      <td>...</td>\n",
       "      <td>...</td>\n",
       "    </tr>\n",
       "    <tr>\n",
       "      <td>7349</td>\n",
       "      <td>Techniques</td>\n",
       "      <td>20</td>\n",
       "    </tr>\n",
       "    <tr>\n",
       "      <td>7350</td>\n",
       "      <td>Streptococcal_proteins</td>\n",
       "      <td>20</td>\n",
       "    </tr>\n",
       "    <tr>\n",
       "      <td>7351</td>\n",
       "      <td>Catalysts</td>\n",
       "      <td>20</td>\n",
       "    </tr>\n",
       "    <tr>\n",
       "      <td>7352</td>\n",
       "      <td>Flax</td>\n",
       "      <td>20</td>\n",
       "    </tr>\n",
       "    <tr>\n",
       "      <td>7353</td>\n",
       "      <td>Gender</td>\n",
       "      <td>20</td>\n",
       "    </tr>\n",
       "  </tbody>\n",
       "</table>\n",
       "<p>7354 rows × 2 columns</p>\n",
       "</div>"
      ],
      "text/plain": [
       "                    category  level\n",
       "0           Computer_science      1\n",
       "1                Mathematics      1\n",
       "2        Information_science      1\n",
       "3       Computer_engineering      1\n",
       "4                 Statistics      1\n",
       "...                      ...    ...\n",
       "7349              Techniques     20\n",
       "7350  Streptococcal_proteins     20\n",
       "7351               Catalysts     20\n",
       "7352                    Flax     20\n",
       "7353                  Gender     20\n",
       "\n",
       "[7354 rows x 2 columns]"
      ]
     },
     "execution_count": 22,
     "metadata": {},
     "output_type": "execute_result"
    }
   ],
   "source": [
    "df_categories"
   ]
  },
  {
   "cell_type": "code",
   "execution_count": 23,
   "metadata": {},
   "outputs": [
    {
     "data": {
      "text/plain": [
       "(8400, 4)"
      ]
     },
     "execution_count": 23,
     "metadata": {},
     "output_type": "execute_result"
    }
   ],
   "source": [
    "df_category_links_all = pd.concat([\n",
    "    df_category_links,\n",
    "    df_categories[df_categories.category.isin(root_child_cats)].rename(columns={\n",
    "        \"category\": \"child_cat\", \n",
    "        \"level\": \"child_level\", #\tparent_level\tchild_level\n",
    "    }).assign(parent_cat=\"<ROOT>\", parent_level=0),\n",
    "    pd.DataFrame({\n",
    "        \"parent_cat\": [\"\"],\n",
    "        \"child_cat\": [\"<ROOT>\"],\n",
    "        \"parent_level\": [-1],\n",
    "        \"child_level\": [0],\n",
    "    })\n",
    "#     df_categories[df_categories.category.isin(isolate_cats)].rename(columns={\n",
    "#         \"category\": \"child_cat\", \n",
    "#         \"level\": \"child_level\", #\tparent_level\tchild_level\n",
    "#     }).assign(parent_cat=\"\", parent_level=0)\n",
    "    \n",
    "], axis=0, sort=True).sort_values([\"parent_level\", \"child_level\"])\n",
    "df_category_links_all.shape"
   ]
  },
  {
   "cell_type": "code",
   "execution_count": 24,
   "metadata": {},
   "outputs": [
    {
     "data": {
      "text/html": [
       "<div>\n",
       "<style scoped>\n",
       "    .dataframe tbody tr th:only-of-type {\n",
       "        vertical-align: middle;\n",
       "    }\n",
       "\n",
       "    .dataframe tbody tr th {\n",
       "        vertical-align: top;\n",
       "    }\n",
       "\n",
       "    .dataframe thead th {\n",
       "        text-align: right;\n",
       "    }\n",
       "</style>\n",
       "<table border=\"1\" class=\"dataframe\">\n",
       "  <thead>\n",
       "    <tr style=\"text-align: right;\">\n",
       "      <th></th>\n",
       "      <th>child_cat</th>\n",
       "      <th>child_level</th>\n",
       "      <th>parent_cat</th>\n",
       "      <th>parent_level</th>\n",
       "    </tr>\n",
       "  </thead>\n",
       "  <tbody>\n",
       "    <tr>\n",
       "      <td>0</td>\n",
       "      <td>&lt;ROOT&gt;</td>\n",
       "      <td>0</td>\n",
       "      <td></td>\n",
       "      <td>-1</td>\n",
       "    </tr>\n",
       "    <tr>\n",
       "      <td>0</td>\n",
       "      <td>Computer_science</td>\n",
       "      <td>1</td>\n",
       "      <td>&lt;ROOT&gt;</td>\n",
       "      <td>0</td>\n",
       "    </tr>\n",
       "    <tr>\n",
       "      <td>1</td>\n",
       "      <td>Mathematics</td>\n",
       "      <td>1</td>\n",
       "      <td>&lt;ROOT&gt;</td>\n",
       "      <td>0</td>\n",
       "    </tr>\n",
       "    <tr>\n",
       "      <td>2</td>\n",
       "      <td>Information_science</td>\n",
       "      <td>1</td>\n",
       "      <td>&lt;ROOT&gt;</td>\n",
       "      <td>0</td>\n",
       "    </tr>\n",
       "    <tr>\n",
       "      <td>3</td>\n",
       "      <td>Computer_engineering</td>\n",
       "      <td>1</td>\n",
       "      <td>&lt;ROOT&gt;</td>\n",
       "      <td>0</td>\n",
       "    </tr>\n",
       "  </tbody>\n",
       "</table>\n",
       "</div>"
      ],
      "text/plain": [
       "              child_cat  child_level parent_cat  parent_level\n",
       "0                <ROOT>            0                       -1\n",
       "0      Computer_science            1     <ROOT>             0\n",
       "1           Mathematics            1     <ROOT>             0\n",
       "2   Information_science            1     <ROOT>             0\n",
       "3  Computer_engineering            1     <ROOT>             0"
      ]
     },
     "execution_count": 24,
     "metadata": {},
     "output_type": "execute_result"
    }
   ],
   "source": [
    "df_category_links_all.head()"
   ]
  },
  {
   "cell_type": "code",
   "execution_count": 25,
   "metadata": {},
   "outputs": [
    {
     "data": {
      "text/html": [
       "<div>\n",
       "<style scoped>\n",
       "    .dataframe tbody tr th:only-of-type {\n",
       "        vertical-align: middle;\n",
       "    }\n",
       "\n",
       "    .dataframe tbody tr th {\n",
       "        vertical-align: top;\n",
       "    }\n",
       "\n",
       "    .dataframe thead th {\n",
       "        text-align: right;\n",
       "    }\n",
       "</style>\n",
       "<table border=\"1\" class=\"dataframe\">\n",
       "  <thead>\n",
       "    <tr style=\"text-align: right;\">\n",
       "      <th></th>\n",
       "      <th>child_cat</th>\n",
       "      <th>child_level</th>\n",
       "      <th>parent_cat</th>\n",
       "      <th>parent_level</th>\n",
       "    </tr>\n",
       "  </thead>\n",
       "  <tbody>\n",
       "    <tr>\n",
       "      <td>85</td>\n",
       "      <td>Artificial_intelligence</td>\n",
       "      <td>3</td>\n",
       "      <td>Areas_of_computer_science</td>\n",
       "      <td>2</td>\n",
       "    </tr>\n",
       "    <tr>\n",
       "      <td>492</td>\n",
       "      <td>Artificial_intelligence</td>\n",
       "      <td>3</td>\n",
       "      <td>Unsolved_problems_in_computer_science</td>\n",
       "      <td>2</td>\n",
       "    </tr>\n",
       "  </tbody>\n",
       "</table>\n",
       "</div>"
      ],
      "text/plain": [
       "                   child_cat  child_level  \\\n",
       "85   Artificial_intelligence            3   \n",
       "492  Artificial_intelligence            3   \n",
       "\n",
       "                                parent_cat  parent_level  \n",
       "85               Areas_of_computer_science             2  \n",
       "492  Unsolved_problems_in_computer_science             2  "
      ]
     },
     "execution_count": 25,
     "metadata": {},
     "output_type": "execute_result"
    }
   ],
   "source": [
    "df_category_links_all[\n",
    "    #(df_category_links_all.parent_cat==\"Artificial_intelligence\")\n",
    "    (df_category_links_all.child_cat==\"Artificial_intelligence\")\n",
    "]"
   ]
  },
  {
   "cell_type": "code",
   "execution_count": 26,
   "metadata": {},
   "outputs": [
    {
     "data": {
      "text/plain": [
       "(3389, 2)"
      ]
     },
     "execution_count": 26,
     "metadata": {},
     "output_type": "execute_result"
    }
   ],
   "source": [
    "df_categories[df_categories.level<=5].shape"
   ]
  },
  {
   "cell_type": "code",
   "execution_count": 27,
   "metadata": {},
   "outputs": [],
   "source": [
    "G = nx.DiGraph()"
   ]
  },
  {
   "cell_type": "code",
   "execution_count": 28,
   "metadata": {},
   "outputs": [
    {
     "data": {
      "text/plain": [
       "8400"
      ]
     },
     "execution_count": 28,
     "metadata": {},
     "output_type": "execute_result"
    }
   ],
   "source": [
    "G.add_edges_from(df_category_links_all.set_index([\"parent_cat\", \"child_cat\"]).to_dict(orient=\"index\", into=OrderedDict))\n",
    "G.size()"
   ]
  },
  {
   "cell_type": "code",
   "execution_count": 29,
   "metadata": {},
   "outputs": [
    {
     "data": {
      "text/plain": [
       "True"
      ]
     },
     "execution_count": 29,
     "metadata": {},
     "output_type": "execute_result"
    }
   ],
   "source": [
    "nx.algorithms.is_directed_acyclic_graph(G)"
   ]
  },
  {
   "cell_type": "code",
   "execution_count": 30,
   "metadata": {},
   "outputs": [
    {
     "data": {
      "text/plain": [
       "['Fuzzy_logic',\n",
       " 'Machine_learning',\n",
       " 'Turing_tests',\n",
       " 'Rule_engines',\n",
       " 'Robots',\n",
       " 'Computer_vision',\n",
       " 'Logic_programming',\n",
       " 'Open_source_artificial_intelligence',\n",
       " 'Virtual_assistants',\n",
       " 'Cloud_robotics',\n",
       " 'Game_artificial_intelligence',\n",
       " 'AI_accelerators',\n",
       " 'Affective_computing',\n",
       " 'Cognitive_architecture',\n",
       " 'Artificial_intelligence_applications',\n",
       " 'Artificial_immune_systems',\n",
       " 'Robotics',\n",
       " 'Artificial_Intelligence_existential_risk',\n",
       " 'Evolutionary_computation']"
      ]
     },
     "execution_count": 30,
     "metadata": {},
     "output_type": "execute_result"
    }
   ],
   "source": [
    "node = \"Artificial_intelligence\"\n",
    "list(G.neighbors(node))"
   ]
  },
  {
   "cell_type": "code",
   "execution_count": 31,
   "metadata": {},
   "outputs": [
    {
     "data": {
      "text/plain": [
       "['Areas_of_computer_science', 'Unsolved_problems_in_computer_science']"
      ]
     },
     "execution_count": 31,
     "metadata": {},
     "output_type": "execute_result"
    }
   ],
   "source": [
    "list(G.predecessors(node))"
   ]
  },
  {
   "cell_type": "code",
   "execution_count": 32,
   "metadata": {},
   "outputs": [
    {
     "name": "stdout",
     "output_type": "stream",
     "text": [
      "Wall time: 1.2 s\n"
     ]
    }
   ],
   "source": [
    "%%time\n",
    "cat2pages = pd.read_csv('../data/v1/WikiCSSH_category2page.csv').groupby(\"cat_title\").page_title.agg(list)"
   ]
  },
  {
   "cell_type": "code",
   "execution_count": 33,
   "metadata": {},
   "outputs": [],
   "source": [
    "from IPython.display import display, HTML"
   ]
  },
  {
   "cell_type": "code",
   "execution_count": 34,
   "metadata": {},
   "outputs": [],
   "source": [
    "def show_context_of_category(node):\n",
    "    parents = list(G.predecessors(node))\n",
    "    children = list(G.neighbors(node))\n",
    "    table_header = \"<thead><tr><th>Parents</th><th>Node</th><th>Children</th></tr></thead>\"\n",
    "    parents_list = \"\\n\".join([f\"<li><a href='https://en.wikipedia.org/wiki/Category:{i}'>{i}</a></li>\" for i in parents])\n",
    "    children_list = \"\\n\".join([f\"<li><a href='https://en.wikipedia.org/wiki/Category:{i}'>{i}</a></li>\" for i in children])\n",
    "    node_list = f\"<li><a href='https://en.wikipedia.org/wiki/Category:{node}'>{node}</a></li>\"\n",
    "    page_list = \" | \".join([\n",
    "        f\"<a href='https://en.wikipedia.org/wiki/{i}'>{i}</a>\"\n",
    "        for i in cat2pages[node]\n",
    "    ])\n",
    "    table_body = f\"\"\"<tbody>\n",
    "    <tr>\n",
    "        <td><ul>{parents_list}</ul></td>\n",
    "        <td style='background-color: pink'>{node_list}</td>\n",
    "        <td><ul>{children_list}</ul></td>\n",
    "    </tr>\n",
    "    <tr><td colspan='3'><strong>Pages</strong><br/>{page_list}</td></tr>\n",
    "    </tbody>\"\"\"\n",
    "    div = f\"\"\"\n",
    "    <style>.wikicssh td, .wikicssh th {{text-align:left}}</style>\n",
    "    <div class='wikicssh'>\n",
    "    <table>{table_header}{table_body}</table>\n",
    "    </div>\"\"\"\n",
    "    return HTML(div)"
   ]
  },
  {
   "cell_type": "code",
   "execution_count": 35,
   "metadata": {},
   "outputs": [
    {
     "data": {
      "text/html": [
       "\n",
       "    <style>.wikicssh td, .wikicssh th {text-align:left}</style>\n",
       "    <div class='wikicssh'>\n",
       "    <table><thead><tr><th>Parents</th><th>Node</th><th>Children</th></tr></thead><tbody>\n",
       "    <tr>\n",
       "        <td><ul><li><a href='https://en.wikipedia.org/wiki/Category:Areas_of_computer_science'>Areas_of_computer_science</a></li>\n",
       "<li><a href='https://en.wikipedia.org/wiki/Category:Unsolved_problems_in_computer_science'>Unsolved_problems_in_computer_science</a></li></ul></td>\n",
       "        <td style='background-color: pink'><li><a href='https://en.wikipedia.org/wiki/Category:Artificial_intelligence'>Artificial_intelligence</a></li></td>\n",
       "        <td><ul><li><a href='https://en.wikipedia.org/wiki/Category:Fuzzy_logic'>Fuzzy_logic</a></li>\n",
       "<li><a href='https://en.wikipedia.org/wiki/Category:Machine_learning'>Machine_learning</a></li>\n",
       "<li><a href='https://en.wikipedia.org/wiki/Category:Turing_tests'>Turing_tests</a></li>\n",
       "<li><a href='https://en.wikipedia.org/wiki/Category:Rule_engines'>Rule_engines</a></li>\n",
       "<li><a href='https://en.wikipedia.org/wiki/Category:Robots'>Robots</a></li>\n",
       "<li><a href='https://en.wikipedia.org/wiki/Category:Computer_vision'>Computer_vision</a></li>\n",
       "<li><a href='https://en.wikipedia.org/wiki/Category:Logic_programming'>Logic_programming</a></li>\n",
       "<li><a href='https://en.wikipedia.org/wiki/Category:Open_source_artificial_intelligence'>Open_source_artificial_intelligence</a></li>\n",
       "<li><a href='https://en.wikipedia.org/wiki/Category:Virtual_assistants'>Virtual_assistants</a></li>\n",
       "<li><a href='https://en.wikipedia.org/wiki/Category:Cloud_robotics'>Cloud_robotics</a></li>\n",
       "<li><a href='https://en.wikipedia.org/wiki/Category:Game_artificial_intelligence'>Game_artificial_intelligence</a></li>\n",
       "<li><a href='https://en.wikipedia.org/wiki/Category:AI_accelerators'>AI_accelerators</a></li>\n",
       "<li><a href='https://en.wikipedia.org/wiki/Category:Affective_computing'>Affective_computing</a></li>\n",
       "<li><a href='https://en.wikipedia.org/wiki/Category:Cognitive_architecture'>Cognitive_architecture</a></li>\n",
       "<li><a href='https://en.wikipedia.org/wiki/Category:Artificial_intelligence_applications'>Artificial_intelligence_applications</a></li>\n",
       "<li><a href='https://en.wikipedia.org/wiki/Category:Artificial_immune_systems'>Artificial_immune_systems</a></li>\n",
       "<li><a href='https://en.wikipedia.org/wiki/Category:Robotics'>Robotics</a></li>\n",
       "<li><a href='https://en.wikipedia.org/wiki/Category:Artificial_Intelligence_existential_risk'>Artificial_Intelligence_existential_risk</a></li>\n",
       "<li><a href='https://en.wikipedia.org/wiki/Category:Evolutionary_computation'>Evolutionary_computation</a></li></ul></td>\n",
       "    </tr>\n",
       "    <tr><td colspan='3'><strong>Pages</strong><br/><a href='https://en.wikipedia.org/wiki/User_behavior_analytics'>User_behavior_analytics</a> | <a href='https://en.wikipedia.org/wiki/FEDOR_(Armed_AI_bot)'>FEDOR_(Armed_AI_bot)</a> | <a href='https://en.wikipedia.org/wiki/Intelligent_word_recognition'>Intelligent_word_recognition</a> | <a href='https://en.wikipedia.org/wiki/Autonomous_agent'>Autonomous_agent</a> | <a href='https://en.wikipedia.org/wiki/List_of_programming_languages_for_artificial_intelligence'>List_of_programming_languages_for_artificial_intelligence</a> | <a href='https://en.wikipedia.org/wiki/Virtual_intelligence'>Virtual_intelligence</a> | <a href='https://en.wikipedia.org/wiki/Radiant_AI'>Radiant_AI</a> | <a href='https://en.wikipedia.org/wiki/Knowledge-based_recommender_system'>Knowledge-based_recommender_system</a> | <a href='https://en.wikipedia.org/wiki/Situated'>Situated</a> | <a href='https://en.wikipedia.org/wiki/Colloquis'>Colloquis</a> | <a href='https://en.wikipedia.org/wiki/Embodied_agent'>Embodied_agent</a> | <a href='https://en.wikipedia.org/wiki/Moral_Machine'>Moral_Machine</a> | <a href='https://en.wikipedia.org/wiki/Winner-take-all_in_action_selection'>Winner-take-all_in_action_selection</a> | <a href='https://en.wikipedia.org/wiki/Onnx'>Onnx</a> | <a href='https://en.wikipedia.org/wiki/Dartmouth_workshop'>Dartmouth_workshop</a> | <a href='https://en.wikipedia.org/wiki/Fuzzy_logic'>Fuzzy_logic</a> | <a href='https://en.wikipedia.org/wiki/Knowledge_compilation'>Knowledge_compilation</a> | <a href='https://en.wikipedia.org/wiki/Music_and_artificial_intelligence'>Music_and_artificial_intelligence</a> | <a href='https://en.wikipedia.org/wiki/Trenchard_More'>Trenchard_More</a> | <a href='https://en.wikipedia.org/wiki/Artificial_empathy'>Artificial_empathy</a> | <a href='https://en.wikipedia.org/wiki/Artificial_intelligence,_situated_approach'>Artificial_intelligence,_situated_approach</a> | <a href='https://en.wikipedia.org/wiki/3D_reconstruction_from_multiple_images'>3D_reconstruction_from_multiple_images</a> | <a href='https://en.wikipedia.org/wiki/Roborace'>Roborace</a> | <a href='https://en.wikipedia.org/wiki/Multi-Agent_Programming_Contest'>Multi-Agent_Programming_Contest</a> | <a href='https://en.wikipedia.org/wiki/VaultML'>VaultML</a> | <a href='https://en.wikipedia.org/wiki/Fred_(chatterbot)'>Fred_(chatterbot)</a> | <a href='https://en.wikipedia.org/wiki/Automated_personal_assistant'>Automated_personal_assistant</a> | <a href='https://en.wikipedia.org/wiki/Computer_audition'>Computer_audition</a> | <a href='https://en.wikipedia.org/wiki/Stochastic_semantic_analysis'>Stochastic_semantic_analysis</a> | <a href='https://en.wikipedia.org/wiki/Structure_mapping_engine'>Structure_mapping_engine</a> | <a href='https://en.wikipedia.org/wiki/Artificial_imagination'>Artificial_imagination</a> | <a href='https://en.wikipedia.org/wiki/Game_theory'>Game_theory</a> | <a href='https://en.wikipedia.org/wiki/Algorithmic_probability'>Algorithmic_probability</a> | <a href='https://en.wikipedia.org/wiki/API.AI'>API.AI</a> | <a href='https://en.wikipedia.org/wiki/Percept_(artificial_intelligence)'>Percept_(artificial_intelligence)</a> | <a href='https://en.wikipedia.org/wiki/Maluuba'>Maluuba</a> | <a href='https://en.wikipedia.org/wiki/ADS-AC'>ADS-AC</a> | <a href='https://en.wikipedia.org/wiki/SUPS'>SUPS</a> | <a href='https://en.wikipedia.org/wiki/Automated_Mathematician'>Automated_Mathematician</a> | <a href='https://en.wikipedia.org/wiki/Web_intelligence'>Web_intelligence</a> | <a href='https://en.wikipedia.org/wiki/DeepDream'>DeepDream</a> | <a href='https://en.wikipedia.org/wiki/LIDA_(cognitive_architecture)'>LIDA_(cognitive_architecture)</a> | <a href='https://en.wikipedia.org/wiki/Shyster_(expert_system)'>Shyster_(expert_system)</a> | <a href='https://en.wikipedia.org/wiki/Recurrent_neural_network'>Recurrent_neural_network</a> | <a href='https://en.wikipedia.org/wiki/Artificial_brain'>Artificial_brain</a> | <a href='https://en.wikipedia.org/wiki/Color_moments'>Color_moments</a> | <a href='https://en.wikipedia.org/wiki/Legal_expert_system'>Legal_expert_system</a> | <a href='https://en.wikipedia.org/wiki/Admissible_heuristic'>Admissible_heuristic</a> | <a href='https://en.wikipedia.org/wiki/Reasoning_system'>Reasoning_system</a> | <a href='https://en.wikipedia.org/wiki/NewsRx'>NewsRx</a> | <a href='https://en.wikipedia.org/wiki/Language_Acquisition_Device_(computer)'>Language_Acquisition_Device_(computer)</a> | <a href='https://en.wikipedia.org/wiki/Collective_intelligence'>Collective_intelligence</a> | <a href='https://en.wikipedia.org/wiki/Psychology_of_reasoning'>Psychology_of_reasoning</a> | <a href='https://en.wikipedia.org/wiki/Commonsense_reasoning'>Commonsense_reasoning</a> | <a href='https://en.wikipedia.org/wiki/Symbol_level'>Symbol_level</a> | <a href='https://en.wikipedia.org/wiki/Agent_systems_reference_model'>Agent_systems_reference_model</a> | <a href='https://en.wikipedia.org/wiki/Gxc3xb6del_machine'>Gxc3xb6del_machine</a> | <a href='https://en.wikipedia.org/wiki/Probabilistic_logic_network'>Probabilistic_logic_network</a> | <a href='https://en.wikipedia.org/wiki/Behavior_informatics'>Behavior_informatics</a> | <a href='https://en.wikipedia.org/wiki/Chess_as_mental_training'>Chess_as_mental_training</a> | <a href='https://en.wikipedia.org/wiki/Belief-desire-intention_model'>Belief-desire-intention_model</a> | <a href='https://en.wikipedia.org/wiki/KL-ONE'>KL-ONE</a> | <a href='https://en.wikipedia.org/wiki/Meca_Sapiens'>Meca_Sapiens</a> | <a href='https://en.wikipedia.org/wiki/List_of_artificial_intelligence_projects'>List_of_artificial_intelligence_projects</a> | <a href='https://en.wikipedia.org/wiki/Artificial_general_intelligence'>Artificial_general_intelligence</a> | <a href='https://en.wikipedia.org/wiki/Susan_Schneider_(philosopher)'>Susan_Schneider_(philosopher)</a> | <a href='https://en.wikipedia.org/wiki/Fast-And-Frugal_trees'>Fast-And-Frugal_trees</a> | <a href='https://en.wikipedia.org/wiki/Language/action_perspective'>Language/action_perspective</a> | <a href='https://en.wikipedia.org/wiki/Recursive_neural_network'>Recursive_neural_network</a> | <a href='https://en.wikipedia.org/wiki/Artificial_intuition'>Artificial_intuition</a> | <a href='https://en.wikipedia.org/wiki/Machine_perception'>Machine_perception</a> | <a href='https://en.wikipedia.org/wiki/Nouvelle_AI'>Nouvelle_AI</a> | <a href='https://en.wikipedia.org/wiki/Voice_Mate'>Voice_Mate</a> | <a href='https://en.wikipedia.org/wiki/Babelfy'>Babelfy</a> | <a href='https://en.wikipedia.org/wiki/Loebner_Prize'>Loebner_Prize</a> | <a href='https://en.wikipedia.org/wiki/Type-1_OWA_operators'>Type-1_OWA_operators</a> | <a href='https://en.wikipedia.org/wiki/Gomocup'>Gomocup</a> | <a href='https://en.wikipedia.org/wiki/Epistemic_modal_logic'>Epistemic_modal_logic</a> | <a href='https://en.wikipedia.org/wiki/Instrumental_convergence'>Instrumental_convergence</a> | <a href='https://en.wikipedia.org/wiki/Cerebellar_model_articulation_controller'>Cerebellar_model_articulation_controller</a> | <a href='https://en.wikipedia.org/wiki/List_of_datasets_for_machine-learning_research'>List_of_datasets_for_machine-learning_research</a> | <a href='https://en.wikipedia.org/wiki/Thompson_sampling'>Thompson_sampling</a> | <a href='https://en.wikipedia.org/wiki/Backward_chaining'>Backward_chaining</a> | <a href='https://en.wikipedia.org/wiki/IRCF360'>IRCF360</a> | <a href='https://en.wikipedia.org/wiki/Computer_vision'>Computer_vision</a> | <a href='https://en.wikipedia.org/wiki/Computer-assisted_proof'>Computer-assisted_proof</a> | <a href='https://en.wikipedia.org/wiki/Blackboard_system'>Blackboard_system</a> | <a href='https://en.wikipedia.org/wiki/Qloo'>Qloo</a> | <a href='https://en.wikipedia.org/wiki/Hierarchical_control_system'>Hierarchical_control_system</a> | <a href='https://en.wikipedia.org/wiki/Kinect'>Kinect</a> | <a href='https://en.wikipedia.org/wiki/Enterprise_cognitive_system'>Enterprise_cognitive_system</a> | <a href='https://en.wikipedia.org/wiki/Uncanny_valley'>Uncanny_valley</a> | <a href='https://en.wikipedia.org/wiki/Embodied_cognitive_science'>Embodied_cognitive_science</a> | <a href='https://en.wikipedia.org/wiki/Neuro-fuzzy'>Neuro-fuzzy</a> | <a href='https://en.wikipedia.org/wiki/A.I._Artificial_Intelligence'>A.I._Artificial_Intelligence</a> | <a href='https://en.wikipedia.org/wiki/Ontology_engineering'>Ontology_engineering</a> | <a href='https://en.wikipedia.org/wiki/Knowledge_acquisition'>Knowledge_acquisition</a> | <a href='https://en.wikipedia.org/wiki/Syman'>Syman</a> | <a href='https://en.wikipedia.org/wiki/Behavior_tree_(artificial_intelligence,_robotics_and_control)'>Behavior_tree_(artificial_intelligence,_robotics_and_control)</a> | <a href='https://en.wikipedia.org/wiki/Google.ai'>Google.ai</a> | <a href='https://en.wikipedia.org/wiki/ACROSS_Project'>ACROSS_Project</a> | <a href='https://en.wikipedia.org/wiki/International_Conference_on_Autonomous_Agents_and_Multiagent_Systems'>International_Conference_on_Autonomous_Agents_and_Multiagent_Systems</a> | <a href='https://en.wikipedia.org/wiki/AIVA'>AIVA</a> | <a href='https://en.wikipedia.org/wiki/Neural_computation'>Neural_computation</a> | <a href='https://en.wikipedia.org/wiki/Cloud_robotics'>Cloud_robotics</a> | <a href='https://en.wikipedia.org/wiki/Chatterbox_Challenge'>Chatterbox_Challenge</a> | <a href='https://en.wikipedia.org/wiki/Singleton_(global_governance)'>Singleton_(global_governance)</a> | <a href='https://en.wikipedia.org/wiki/Project_Joshua_Blue'>Project_Joshua_Blue</a> | <a href='https://en.wikipedia.org/wiki/0music'>0music</a> | <a href='https://en.wikipedia.org/wiki/Emily_Howell'>Emily_Howell</a> | <a href='https://en.wikipedia.org/wiki/Rule-based_system'>Rule-based_system</a> | <a href='https://en.wikipedia.org/wiki/Knowledge_level'>Knowledge_level</a> | <a href='https://en.wikipedia.org/wiki/Personoid'>Personoid</a> | <a href='https://en.wikipedia.org/wiki/Lawbot'>Lawbot</a> | <a href='https://en.wikipedia.org/wiki/Cobweb_(clustering)'>Cobweb_(clustering)</a> | <a href='https://en.wikipedia.org/wiki/Noogenesis'>Noogenesis</a> | <a href='https://en.wikipedia.org/wiki/Incremental_heuristic_search'>Incremental_heuristic_search</a> | <a href='https://en.wikipedia.org/wiki/Ontology_learning'>Ontology_learning</a> | <a href='https://en.wikipedia.org/wiki/Moravec's_paradox'>Moravec's_paradox</a> | <a href='https://en.wikipedia.org/wiki/Argumentation_framework'>Argumentation_framework</a> | <a href='https://en.wikipedia.org/wiki/Right_to_explanation'>Right_to_explanation</a> | <a href='https://en.wikipedia.org/wiki/ICarbonX'>ICarbonX</a> | <a href='https://en.wikipedia.org/wiki/Knowledge_Based_Software_Assistant'>Knowledge_Based_Software_Assistant</a> | <a href='https://en.wikipedia.org/wiki/Cognitive_philology'>Cognitive_philology</a> | <a href='https://en.wikipedia.org/wiki/Inductive_programming'>Inductive_programming</a> | <a href='https://en.wikipedia.org/wiki/The_Leaf_(AI)_Project'>The_Leaf_(AI)_Project</a> | <a href='https://en.wikipedia.org/wiki/Hybrid_intelligent_system'>Hybrid_intelligent_system</a> | <a href='https://en.wikipedia.org/wiki/Extremal_optimization'>Extremal_optimization</a> | <a href='https://en.wikipedia.org/wiki/Differentiable_neural_computer'>Differentiable_neural_computer</a> | <a href='https://en.wikipedia.org/wiki/Artificial_intelligence_for_video_surveillance'>Artificial_intelligence_for_video_surveillance</a> | <a href='https://en.wikipedia.org/wiki/MNIST_database'>MNIST_database</a> | <a href='https://en.wikipedia.org/wiki/Medical_intelligence_and_language_engineering_lab'>Medical_intelligence_and_language_engineering_lab</a> | <a href='https://en.wikipedia.org/wiki/Contextual_image_classification'>Contextual_image_classification</a> | <a href='https://en.wikipedia.org/wiki/Hybrid_neural_network'>Hybrid_neural_network</a> | <a href='https://en.wikipedia.org/wiki/Applications_of_artificial_intelligence'>Applications_of_artificial_intelligence</a> | <a href='https://en.wikipedia.org/wiki/Oriented_Energy_Filters'>Oriented_Energy_Filters</a> | <a href='https://en.wikipedia.org/wiki/Model-based_reasoning'>Model-based_reasoning</a> | <a href='https://en.wikipedia.org/wiki/Neural_network_software'>Neural_network_software</a> | <a href='https://en.wikipedia.org/wiki/Intelligent_agent'>Intelligent_agent</a> | <a href='https://en.wikipedia.org/wiki/Synthetic_Environment_for_Analysis_and_Simulations'>Synthetic_Environment_for_Analysis_and_Simulations</a> | <a href='https://en.wikipedia.org/wiki/Concurrent_MetateM'>Concurrent_MetateM</a> | <a href='https://en.wikipedia.org/wiki/Open_Information_Extraction'>Open_Information_Extraction</a> | <a href='https://en.wikipedia.org/wiki/Data_pack'>Data_pack</a> | <a href='https://en.wikipedia.org/wiki/DAYDREAMER'>DAYDREAMER</a> | <a href='https://en.wikipedia.org/wiki/Knowledge-based_configuration'>Knowledge-based_configuration</a> | <a href='https://en.wikipedia.org/wiki/Deductive_classifier'>Deductive_classifier</a> | <a href='https://en.wikipedia.org/wiki/OpenCog'>OpenCog</a> | <a href='https://en.wikipedia.org/wiki/Manifold_integration'>Manifold_integration</a> | <a href='https://en.wikipedia.org/wiki/Perceptual_computing'>Perceptual_computing</a> | <a href='https://en.wikipedia.org/wiki/Anytime_algorithm'>Anytime_algorithm</a> | <a href='https://en.wikipedia.org/wiki/Mivar-based_approach'>Mivar-based_approach</a> | <a href='https://en.wikipedia.org/wiki/Neurorobotics'>Neurorobotics</a> | <a href='https://en.wikipedia.org/wiki/Plug_&_Pray'>Plug_&_Pray</a> | <a href='https://en.wikipedia.org/wiki/Zeuthen_strategy'>Zeuthen_strategy</a> | <a href='https://en.wikipedia.org/wiki/Computational_humor'>Computational_humor</a> | <a href='https://en.wikipedia.org/wiki/Puckstering'>Puckstering</a> | <a href='https://en.wikipedia.org/wiki/Schema-agnostic_databases'>Schema-agnostic_databases</a> | <a href='https://en.wikipedia.org/wiki/Fuzzy_agent'>Fuzzy_agent</a> | <a href='https://en.wikipedia.org/wiki/Brain_technology'>Brain_technology</a> | <a href='https://en.wikipedia.org/wiki/Intel_RealSense'>Intel_RealSense</a> | <a href='https://en.wikipedia.org/wiki/User_illusion'>User_illusion</a> | <a href='https://en.wikipedia.org/wiki/Cognitive_computer'>Cognitive_computer</a> | <a href='https://en.wikipedia.org/wiki/Open_Letter_on_Artificial_Intelligence'>Open_Letter_on_Artificial_Intelligence</a> | <a href='https://en.wikipedia.org/wiki/Turing_Robot'>Turing_Robot</a> | <a href='https://en.wikipedia.org/wiki/March_of_the_Machines'>March_of_the_Machines</a> | <a href='https://en.wikipedia.org/wiki/NTU_RGB-D_dataset'>NTU_RGB-D_dataset</a> | <a href='https://en.wikipedia.org/wiki/IJCAI_Computers_and_Thought_Award'>IJCAI_Computers_and_Thought_Award</a> | <a href='https://en.wikipedia.org/wiki/Mind-body_problem'>Mind-body_problem</a> | <a href='https://en.wikipedia.org/wiki/Computational_Heuristic_Intelligence'>Computational_Heuristic_Intelligence</a> | <a href='https://en.wikipedia.org/wiki/Ordered_weighted_averaging_aggregation_operator'>Ordered_weighted_averaging_aggregation_operator</a> | <a href='https://en.wikipedia.org/wiki/Distributed_artificial_intelligence'>Distributed_artificial_intelligence</a> | <a href='https://en.wikipedia.org/wiki/Darwin_machine'>Darwin_machine</a> | <a href='https://en.wikipedia.org/wiki/SNePS'>SNePS</a> | <a href='https://en.wikipedia.org/wiki/Glossary_of_artificial_intelligence'>Glossary_of_artificial_intelligence</a> | <a href='https://en.wikipedia.org/wiki/Soft_computing'>Soft_computing</a> | <a href='https://en.wikipedia.org/wiki/Intelligent_control'>Intelligent_control</a> | <a href='https://en.wikipedia.org/wiki/Anticipation_(artificial_intelligence)'>Anticipation_(artificial_intelligence)</a> | <a href='https://en.wikipedia.org/wiki/Expert_system'>Expert_system</a> | <a href='https://en.wikipedia.org/wiki/Catastrophic_interference'>Catastrophic_interference</a> | <a href='https://en.wikipedia.org/wiki/Knowledge-based_systems'>Knowledge-based_systems</a> | <a href='https://en.wikipedia.org/wiki/Means-ends_analysis'>Means-ends_analysis</a> | <a href='https://en.wikipedia.org/wiki/Spreading_activation'>Spreading_activation</a> | <a href='https://en.wikipedia.org/wiki/POP-11'>POP-11</a> | <a href='https://en.wikipedia.org/wiki/Rough_fuzzy_hybridization'>Rough_fuzzy_hybridization</a> | <a href='https://en.wikipedia.org/wiki/Natural_language_understanding'>Natural_language_understanding</a> | <a href='https://en.wikipedia.org/wiki/Artificial_psychology'>Artificial_psychology</a> | <a href='https://en.wikipedia.org/wiki/Vaumpus_world'>Vaumpus_world</a> | <a href='https://en.wikipedia.org/wiki/Scilab_Image_Processing'>Scilab_Image_Processing</a> | <a href='https://en.wikipedia.org/wiki/Emospark'>Emospark</a> | <a href='https://en.wikipedia.org/wiki/Hindsight_optimization'>Hindsight_optimization</a> | <a href='https://en.wikipedia.org/wiki/Self-management_(computer_science)'>Self-management_(computer_science)</a> | <a href='https://en.wikipedia.org/wiki/Connectionist_expert_system'>Connectionist_expert_system</a> | <a href='https://en.wikipedia.org/wiki/Cognitive_infocommunications'>Cognitive_infocommunications</a> | <a href='https://en.wikipedia.org/wiki/Wetware_(brain)'>Wetware_(brain)</a> | <a href='https://en.wikipedia.org/wiki/Luminoso'>Luminoso</a> | <a href='https://en.wikipedia.org/wiki/Mycroft_(software)'>Mycroft_(software)</a> | <a href='https://en.wikipedia.org/wiki/Principle_of_rationality'>Principle_of_rationality</a> | <a href='https://en.wikipedia.org/wiki/Sensorium_Project'>Sensorium_Project</a> | <a href='https://en.wikipedia.org/wiki/MANIC_(Cognitive_Architecture)'>MANIC_(Cognitive_Architecture)</a> | <a href='https://en.wikipedia.org/wiki/Competitions_and_prizes_in_artificial_intelligence'>Competitions_and_prizes_in_artificial_intelligence</a> | <a href='https://en.wikipedia.org/wiki/Any-angle_path_planning'>Any-angle_path_planning</a> | <a href='https://en.wikipedia.org/wiki/Manifold_alignment'>Manifold_alignment</a> | <a href='https://en.wikipedia.org/wiki/Conference_on_Semantics_in_Healthcare_and_Life_Sciences'>Conference_on_Semantics_in_Healthcare_and_Life_Sciences</a> | <a href='https://en.wikipedia.org/wiki/Cognitive_computing'>Cognitive_computing</a> | <a href='https://en.wikipedia.org/wiki/Natural_language_processing'>Natural_language_processing</a> | <a href='https://en.wikipedia.org/wiki/Informatics'>Informatics</a> | <a href='https://en.wikipedia.org/wiki/Diagnosis_(artificial_intelligence)'>Diagnosis_(artificial_intelligence)</a> | <a href='https://en.wikipedia.org/wiki/Constructionist_design_methodology'>Constructionist_design_methodology</a> | <a href='https://en.wikipedia.org/wiki/Australian_Artificial_Intelligence_Institute'>Australian_Artificial_Intelligence_Institute</a> | <a href='https://en.wikipedia.org/wiki/S_Voice'>S_Voice</a> | <a href='https://en.wikipedia.org/wiki/AI-complete'>AI-complete</a> | <a href='https://en.wikipedia.org/wiki/Generalized_distributive_law'>Generalized_distributive_law</a> | <a href='https://en.wikipedia.org/wiki/Computational_intelligence'>Computational_intelligence</a> | <a href='https://en.wikipedia.org/wiki/Angel_F'>Angel_F</a> | <a href='https://en.wikipedia.org/wiki/AgentSheets'>AgentSheets</a> | <a href='https://en.wikipedia.org/wiki/WordDive'>WordDive</a> | <a href='https://en.wikipedia.org/wiki/Frame_problem'>Frame_problem</a> | <a href='https://en.wikipedia.org/wiki/Intelligent_decision_support_system'>Intelligent_decision_support_system</a> | <a href='https://en.wikipedia.org/wiki/Problem_solving'>Problem_solving</a> | <a href='https://en.wikipedia.org/wiki/Kuwahara_filter'>Kuwahara_filter</a> | <a href='https://en.wikipedia.org/wiki/Artificial_intelligence'>Artificial_intelligence</a> | <a href='https://en.wikipedia.org/wiki/Leverhulme_Centre_for_the_Future_of_Intelligence'>Leverhulme_Centre_for_the_Future_of_Intelligence</a> | <a href='https://en.wikipedia.org/wiki/BabyX'>BabyX</a> | <a href='https://en.wikipedia.org/wiki/Weak_AI'>Weak_AI</a> | <a href='https://en.wikipedia.org/wiki/Autognostics'>Autognostics</a> | <a href='https://en.wikipedia.org/wiki/Bayesian_programming'>Bayesian_programming</a> | <a href='https://en.wikipedia.org/wiki/Outline_of_machine_learning'>Outline_of_machine_learning</a> | <a href='https://en.wikipedia.org/wiki/Rational_agent'>Rational_agent</a> | <a href='https://en.wikipedia.org/wiki/And-or_tree'>And-or_tree</a> | <a href='https://en.wikipedia.org/wiki/DragonLord_Enterprises,_Inc.'>DragonLord_Enterprises,_Inc.</a> | <a href='https://en.wikipedia.org/wiki/CALO'>CALO</a> | <a href='https://en.wikipedia.org/wiki/Alesis_Artificial_Intelligence'>Alesis_Artificial_Intelligence</a> | <a href='https://en.wikipedia.org/wiki/Neural_modeling_fields'>Neural_modeling_fields</a> | <a href='https://en.wikipedia.org/wiki/Discovery_system'>Discovery_system</a> | <a href='https://en.wikipedia.org/wiki/Histogram_of_oriented_displacements'>Histogram_of_oriented_displacements</a> | <a href='https://en.wikipedia.org/wiki/ASR-complete'>ASR-complete</a> | <a href='https://en.wikipedia.org/wiki/Pattern_theory'>Pattern_theory</a> | <a href='https://en.wikipedia.org/wiki/Explainable_AI'>Explainable_AI</a> | <a href='https://en.wikipedia.org/wiki/The_Fable_of_Oscar'>The_Fable_of_Oscar</a> | <a href='https://en.wikipedia.org/wiki/Automated_reasoning'>Automated_reasoning</a> | <a href='https://en.wikipedia.org/wiki/OpenAIR'>OpenAIR</a> | <a href='https://en.wikipedia.org/wiki/Intelligent_database'>Intelligent_database</a> | <a href='https://en.wikipedia.org/wiki/GENESIS_(software)'>GENESIS_(software)</a> | <a href='https://en.wikipedia.org/wiki/Mindpixel'>Mindpixel</a> | <a href='https://en.wikipedia.org/wiki/Google'>Google</a> | <a href='https://en.wikipedia.org/wiki/Action_selection'>Action_selection</a> | <a href='https://en.wikipedia.org/wiki/Gabbay's_separation_theorem'>Gabbay's_separation_theorem</a> | <a href='https://en.wikipedia.org/wiki/Allen_(robot)'>Allen_(robot)</a> | <a href='https://en.wikipedia.org/wiki/Extreme:_Personal_Assistant'>Extreme:_Personal_Assistant</a> | <a href='https://en.wikipedia.org/wiki/Outline_of_artificial_intelligence'>Outline_of_artificial_intelligence</a> | <a href='https://en.wikipedia.org/wiki/Wojciech_Zaremba'>Wojciech_Zaremba</a> | <a href='https://en.wikipedia.org/wiki/Clone_Algo_Inc'>Clone_Algo_Inc</a> | <a href='https://en.wikipedia.org/wiki/Cognitive_tutor'>Cognitive_tutor</a> | <a href='https://en.wikipedia.org/wiki/Industrial_artificial_intelligence'>Industrial_artificial_intelligence</a> | <a href='https://en.wikipedia.org/wiki/Description_logic'>Description_logic</a> | <a href='https://en.wikipedia.org/wiki/Evolving_intelligent_system'>Evolving_intelligent_system</a> | <a href='https://en.wikipedia.org/wiki/Autonomic_computing'>Autonomic_computing</a> | <a href='https://en.wikipedia.org/wiki/Software_agent'>Software_agent</a> | <a href='https://en.wikipedia.org/wiki/Artificial_intelligence_and_law'>Artificial_intelligence_and_law</a> | <a href='https://en.wikipedia.org/wiki/Human_Problem_Solving'>Human_Problem_Solving</a> | <a href='https://en.wikipedia.org/wiki/Combs_method'>Combs_method</a> | <a href='https://en.wikipedia.org/wiki/Committee_machine'>Committee_machine</a> | <a href='https://en.wikipedia.org/wiki/ICAD_(software)'>ICAD_(software)</a> | <a href='https://en.wikipedia.org/wiki/INDECT'>INDECT</a> | <a href='https://en.wikipedia.org/wiki/Artificial_consciousness'>Artificial_consciousness</a> | <a href='https://en.wikipedia.org/wiki/Frame_language'>Frame_language</a> | <a href='https://en.wikipedia.org/wiki/Computational_human_modeling'>Computational_human_modeling</a> | <a href='https://en.wikipedia.org/wiki/Evolutionary_developmental_robotics'>Evolutionary_developmental_robotics</a> | <a href='https://en.wikipedia.org/wiki/BabelNet'>BabelNet</a> | <a href='https://en.wikipedia.org/wiki/Computational_creativity'>Computational_creativity</a> | <a href='https://en.wikipedia.org/wiki/Conflict_resolution_strategy'>Conflict_resolution_strategy</a> | <a href='https://en.wikipedia.org/wiki/OpenIRIS'>OpenIRIS</a> | <a href='https://en.wikipedia.org/wiki/Cognitive_robotics'>Cognitive_robotics</a> | <a href='https://en.wikipedia.org/wiki/Information_space_analysis'>Information_space_analysis</a> | <a href='https://en.wikipedia.org/wiki/Artificial_intelligence_systems_integration'>Artificial_intelligence_systems_integration</a> | <a href='https://en.wikipedia.org/wiki/Darkforest'>Darkforest</a> | <a href='https://en.wikipedia.org/wiki/Distributional-Relational_Databases'>Distributional-Relational_Databases</a> | <a href='https://en.wikipedia.org/wiki/Smart_objects'>Smart_objects</a> | <a href='https://en.wikipedia.org/wiki/Subrata_Dasgupta'>Subrata_Dasgupta</a> | <a href='https://en.wikipedia.org/wiki/Document_mosaicing'>Document_mosaicing</a> | <a href='https://en.wikipedia.org/wiki/Nervous_system_network_models'>Nervous_system_network_models</a> | <a href='https://en.wikipedia.org/wiki/Robot_lawyer'>Robot_lawyer</a> | <a href='https://en.wikipedia.org/wiki/Information_extraction'>Information_extraction</a> | <a href='https://en.wikipedia.org/wiki/Aurora_(novel)'>Aurora_(novel)</a> | <a href='https://en.wikipedia.org/wiki/Pedagogical_agent'>Pedagogical_agent</a> | <a href='https://en.wikipedia.org/wiki/Simulated_consciousness_in_fiction'>Simulated_consciousness_in_fiction</a> | <a href='https://en.wikipedia.org/wiki/K-line_(artificial_intelligence)'>K-line_(artificial_intelligence)</a> | <a href='https://en.wikipedia.org/wiki/20Q'>20Q</a> | <a href='https://en.wikipedia.org/wiki/Artificial_Intelligence_System'>Artificial_Intelligence_System</a> | <a href='https://en.wikipedia.org/wiki/KAoS'>KAoS</a> | <a href='https://en.wikipedia.org/wiki/Ensemble_averaging_(machine_learning)'>Ensemble_averaging_(machine_learning)</a> | <a href='https://en.wikipedia.org/wiki/Computer_Arimaa'>Computer_Arimaa</a> | <a href='https://en.wikipedia.org/wiki/Bio-inspired_computing'>Bio-inspired_computing</a> | <a href='https://en.wikipedia.org/wiki/Type-2_fuzzy_sets_and_systems'>Type-2_fuzzy_sets_and_systems</a> | <a href='https://en.wikipedia.org/wiki/Grammar_systems_theory'>Grammar_systems_theory</a> | <a href='https://en.wikipedia.org/wiki/Attributional_calculus'>Attributional_calculus</a> | <a href='https://en.wikipedia.org/wiki/Symbolic_artificial_intelligence'>Symbolic_artificial_intelligence</a> | <a href='https://en.wikipedia.org/wiki/Decision_list'>Decision_list</a> | <a href='https://en.wikipedia.org/wiki/Progress_in_artificial_intelligence'>Progress_in_artificial_intelligence</a> | <a href='https://en.wikipedia.org/wiki/Autonomic_networking'>Autonomic_networking</a> | <a href='https://en.wikipedia.org/wiki/Winograd_Schema_Challenge'>Winograd_Schema_Challenge</a> | <a href='https://en.wikipedia.org/wiki/Dynamic_epistemic_logic'>Dynamic_epistemic_logic</a></td></tr>\n",
       "    </tbody></table>\n",
       "    </div>"
      ],
      "text/plain": [
       "<IPython.core.display.HTML object>"
      ]
     },
     "execution_count": 35,
     "metadata": {},
     "output_type": "execute_result"
    }
   ],
   "source": [
    "show_context_of_category(node)"
   ]
  },
  {
   "cell_type": "markdown",
   "metadata": {},
   "source": [
    "## Interactive usage"
   ]
  },
  {
   "cell_type": "code",
   "execution_count": 36,
   "metadata": {},
   "outputs": [],
   "source": [
    "from ipywidgets import interact_manual"
   ]
  },
  {
   "cell_type": "code",
   "execution_count": 37,
   "metadata": {},
   "outputs": [
    {
     "data": {
      "application/vnd.jupyter.widget-view+json": {
       "model_id": "f4d8548d390d46baa0b77262993a3c68",
       "version_major": 2,
       "version_minor": 0
      },
      "text/plain": [
       "interactive(children=(Text(value='Artificial_intelligence', description='node'), Button(description='Run Inter…"
      ]
     },
     "metadata": {},
     "output_type": "display_data"
    }
   ],
   "source": [
    "interact_manual(show_context_of_category, node=\"Artificial_intelligence\");"
   ]
  },
  {
   "cell_type": "code",
   "execution_count": null,
   "metadata": {},
   "outputs": [],
   "source": []
  }
 ],
 "metadata": {
  "kernelspec": {
   "display_name": "Python 3",
   "language": "python",
   "name": "python3"
  },
  "language_info": {
   "codemirror_mode": {
    "name": "ipython",
    "version": 3
   },
   "file_extension": ".py",
   "mimetype": "text/x-python",
   "name": "python",
   "nbconvert_exporter": "python",
   "pygments_lexer": "ipython3",
   "version": "3.7.3"
  }
 },
 "nbformat": 4,
 "nbformat_minor": 4
}
