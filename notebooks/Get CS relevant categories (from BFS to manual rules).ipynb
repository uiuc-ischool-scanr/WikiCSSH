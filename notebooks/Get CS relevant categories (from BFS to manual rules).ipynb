{
 "cells": [
  {
   "cell_type": "code",
   "execution_count": 1,
   "metadata": {},
   "outputs": [],
   "source": [
    "%matplotlib inline\n",
    "\n",
    "import numpy as np\n",
    "import pandas as pd\n",
    "import matplotlib.pyplot as plt\n",
    "import seaborn as sns\n",
    "\n",
    "from sklearn.linear_model import LogisticRegressionCV\n",
    "from sklearn.model_selection import StratifiedKFold\n",
    "from sklearn.neural_network import MLPClassifier\n",
    "from sklearn.model_selection import GridSearchCV\n",
    "from sklearn.linear_model import LogisticRegression\n",
    "\n",
    "from gensim.models.word2vec import Word2VecKeyedVectors\n",
    "from gensim.models.poincare import PoincareModel\n",
    "from gensim.models.word2vec import Word2Vec\n",
    "from sklearn.metrics import classification_report\n",
    "from sklearn.metrics import confusion_matrix\n",
    "\n",
    "from collections import namedtuple\n",
    "import itertools\n",
    "import random\n",
    "import sqlite3"
   ]
  },
  {
   "cell_type": "markdown",
   "metadata": {},
   "source": [
    "## Model Training"
   ]
  },
  {
   "cell_type": "code",
   "execution_count": 2,
   "metadata": {},
   "outputs": [],
   "source": [
    "sns.set_context(\"poster\")\n",
    "sns.set_style(\"ticks\")"
   ]
  },
  {
   "cell_type": "code",
   "execution_count": 3,
   "metadata": {
    "scrolled": false
   },
   "outputs": [
    {
     "name": "stderr",
     "output_type": "stream",
     "text": [
      "d:\\python\\lib\\site-packages\\smart_open\\smart_open_lib.py:398: UserWarning: This function is deprecated, use smart_open.open instead. See the migration notes for details: https://github.com/RaRe-Technologies/smart_open/blob/master/README.rst#migrating-to-the-new-open-function\n",
      "  'See the migration notes for details: %s' % _MIGRATION_NOTES_URL\n",
      "d:\\python\\lib\\site-packages\\smart_open\\smart_open_lib.py:398: UserWarning: This function is deprecated, use smart_open.open instead. See the migration notes for details: https://github.com/RaRe-Technologies/smart_open/blob/master/README.rst#migrating-to-the-new-open-function\n",
      "  'See the migration notes for details: %s' % _MIGRATION_NOTES_URL\n",
      "d:\\python\\lib\\site-packages\\smart_open\\smart_open_lib.py:398: UserWarning: This function is deprecated, use smart_open.open instead. See the migration notes for details: https://github.com/RaRe-Technologies/smart_open/blob/master/README.rst#migrating-to-the-new-open-function\n",
      "  'See the migration notes for details: %s' % _MIGRATION_NOTES_URL\n"
     ]
    },
    {
     "name": "stdout",
     "output_type": "stream",
     "text": [
      "Wall time: 1min 46s\n"
     ]
    }
   ],
   "source": [
    "%%time\n",
    "model_poincare = PoincareModel.load(\"D:/wiki_cat_poincare\")\n",
    "model_node2vec = Word2Vec.load(\"D:/wiki_category_node2vec\")\n",
    "wiki_elmo = Word2VecKeyedVectors.load(\"D:/wiki_cat_elmo.kv\")"
   ]
  },
  {
   "cell_type": "code",
   "execution_count": 4,
   "metadata": {},
   "outputs": [],
   "source": [
    "exc = {'Computing_by_natural_language', 'Cyberinfrastructure', 'Human_computers', 'Isotoxal_tilings', 'Musical_set_theory',\n",
    "       'Tilings_by_order', 'Truncated_tilings', 'Bitruncated_tilings', 'Chinese-language_computing', 'Diatonic_set_theory',\n",
    "       'Han_character_input', 'Indic_computing', 'Urdu_computing','Russian-language_computing', 'Transportation_engineering',\n",
    "       'Mongolian-language_computing', 'Korean-language_computing','Prime_limits','Pitch_space','Traffic_simulation'}"
   ]
  },
  {
   "cell_type": "code",
   "execution_count": 5,
   "metadata": {},
   "outputs": [],
   "source": [
    "def load_categories(filepath):\n",
    "    with open(filepath, encoding=\"utf-8\") as fp:\n",
    "        categories = []\n",
    "        for line in fp:\n",
    "            cat, level = line.strip().split(\"\\t\")\n",
    "            level = int(level)\n",
    "            categories.append((cat, level))\n",
    "    return categories\n",
    "\n",
    "def load_edges(filepath):\n",
    "    with open(filepath, encoding=\"utf-8\") as fp:\n",
    "        edges = []\n",
    "        for line in fp:\n",
    "            cat1, cat2, level = line.strip().split(\"\\t\")\n",
    "            level = int(level)\n",
    "            edges.append((cat1, cat2, level))\n",
    "    return edges\n",
    "\n",
    "VOCAB_TUPLE=namedtuple(\"CATEGORY_VOCAB\", \"name2id id2name size\")\n",
    "def load_vocab(filename):\n",
    "    with open(filename, encoding=\"utf-8\") as fp:\n",
    "        # replace space with underscore for wikipedia category names\n",
    "        name2id = {line.strip().replace(\" \", \"_\"): str(i) for i, line in enumerate(fp)}\n",
    "        id2name = {v: k for k,v in name2id.items()}\n",
    "    vocab=VOCAB_TUPLE(name2id=name2id, id2name=id2name, size=len(name2id))\n",
    "    return vocab\n",
    "\n",
    "def load_data(filename):\n",
    "    with open(filename, encoding=\"utf-8\") as fp:\n",
    "        # replace space with underscore for wikipedia category names\n",
    "        name2id = {line.strip().replace(\" \", \"_\"): str(i) for i, line in enumerate(fp)}\n",
    "        id2name = {v: k for k,v in name2id.items()}\n",
    "    return id2name"
   ]
  },
  {
   "cell_type": "code",
   "execution_count": 6,
   "metadata": {},
   "outputs": [
    {
     "name": "stdout",
     "output_type": "stream",
     "text": [
      "13330 invalid categories, 14832 invalid edges\n"
     ]
    }
   ],
   "source": [
    "invalid_categories = load_categories(\"C:/Users/kanya/Desktop/kisti/CS_invalid_categories.txt\")\n",
    "invalid_edges = load_edges(\"C:/Users/kanya/Desktop/kisti/CS_invalid_edges.txt\")\n",
    "print((f\"{len(invalid_categories)} invalid categories, {len(invalid_edges)} invalid edges\")) "
   ]
  },
  {
   "cell_type": "code",
   "execution_count": 7,
   "metadata": {},
   "outputs": [
    {
     "name": "stdout",
     "output_type": "stream",
     "text": [
      "Found items in Wiki category vocab: name2id=1623862, id2name=1623862\n"
     ]
    }
   ],
   "source": [
    "wiki_category_vocab = load_vocab(\"C:/Users/kanya/Desktop/kisti/categories.txt\")\n",
    "print((f\"Found items in Wiki category vocab: name2id={len(wiki_category_vocab.name2id)}, \"\n",
    "      f\"id2name={len(wiki_category_vocab.id2name)}\"))"
   ]
  },
  {
   "cell_type": "code",
   "execution_count": 8,
   "metadata": {},
   "outputs": [],
   "source": [
    "all_cate = list(wiki_category_vocab[0])"
   ]
  },
  {
   "cell_type": "code",
   "execution_count": 9,
   "metadata": {},
   "outputs": [],
   "source": [
    "def get_filtered_categories(edges, max_level=10):\n",
    "    categories = dict()\n",
    "    for e1, e2, level in edges:\n",
    "        if level < max_level:\n",
    "            for e in [e1, e2]:\n",
    "                if e not in categories:\n",
    "                    categories[e] = level\n",
    "                categories[e] = min(level, categories[e])\n",
    "    return [(k,v) for k,v in categories.items()]"
   ]
  },
  {
   "cell_type": "code",
   "execution_count": 10,
   "metadata": {},
   "outputs": [
    {
     "name": "stderr",
     "output_type": "stream",
     "text": [
      "d:\\python\\lib\\site-packages\\IPython\\core\\interactiveshell.py:3049: DtypeWarning: Columns (3,4) have mixed types. Specify dtype option on import or set low_memory=False.\n",
      "  interactivity=interactivity, compiler=compiler, result=result)\n"
     ]
    }
   ],
   "source": [
    "result = pd.read_csv('C:/Users/kanya/Desktop/kisti/plusmath.txt.gz', sep='\\t')"
   ]
  },
  {
   "cell_type": "code",
   "execution_count": 11,
   "metadata": {},
   "outputs": [],
   "source": [
    "ACM_CSO_MATH = result[result['topic'].notnull() & result['CSO_ACM_MATH'].notnull()].drop_duplicates(subset='topic')\n",
    "ACM_CSO_MATH = ACM_CSO_MATH['topic'].tolist()"
   ]
  },
  {
   "cell_type": "code",
   "execution_count": 12,
   "metadata": {
    "scrolled": true
   },
   "outputs": [
    {
     "name": "stdout",
     "output_type": "stream",
     "text": [
      "filtered_invalid_categories=13330\n"
     ]
    }
   ],
   "source": [
    "invalid_category_level_dict = dict(get_filtered_categories(invalid_edges, max_level=20))\n",
    "filtered_invalid_categories = [(cat, invalid_category_level_dict.get(cat, -1)) for cat, lvl in invalid_categories]\n",
    "print((f\"filtered_invalid_categories={len(filtered_invalid_categories)}\"))"
   ]
  },
  {
   "cell_type": "code",
   "execution_count": 13,
   "metadata": {},
   "outputs": [],
   "source": [
    "random.seed(9001)\n",
    "filtered_invalid_categories = random.sample(filtered_invalid_categories, len(ACM_CSO_MATH))"
   ]
  },
  {
   "cell_type": "code",
   "execution_count": 14,
   "metadata": {},
   "outputs": [
    {
     "data": {
      "text/plain": [
       "1623862"
      ]
     },
     "execution_count": 14,
     "metadata": {},
     "output_type": "execute_result"
    }
   ],
   "source": [
    "len(all_cate)"
   ]
  },
  {
   "cell_type": "code",
   "execution_count": 15,
   "metadata": {},
   "outputs": [],
   "source": [
    "def get_categories(categories, vocab): \n",
    "    return [vocab.name2id[c] for c in categories]\n",
    "\n",
    "def get_categories_no_root(categories): \n",
    "    return [c for c, l in categories if c != '<CS_CATEGORY_TREE_ROOT>']\n",
    "\n",
    "def process_model_data(\n",
    "    categories_list, \n",
    "    vocab, \n",
    "    keyed_vectors_list, \n",
    "    skip_vocab_indexes=None\n",
    "):\n",
    "    categories_list = [categories_list[0], get_categories_no_root(categories_list[1])]\n",
    "    vectors_list = [[] for i in range(len(categories_list))]\n",
    "    skip_vocab_indexes = skip_vocab_indexes if skip_vocab_indexes is not None else set()\n",
    "    for i, kv in enumerate(keyed_vectors_list):\n",
    "        keys_list = [categories for categories in categories_list]\n",
    "        if i not in skip_vocab_indexes:\n",
    "            keys_list = [\n",
    "                np.array(get_categories(categories, vocab)) \n",
    "                for categories in keys_list\n",
    "            ]\n",
    "        for vectors, keys in zip(vectors_list, keys_list):\n",
    "            vectors.append(kv[keys])\n",
    "    vectors_list = [np.hstack(vectors) for vectors in vectors_list]\n",
    "    return vectors_list\n",
    "\n",
    "def generate_training_data(\n",
    "    valid_categories, \n",
    "    invalid_categories, \n",
    "    vocab, \n",
    "    keyed_vectors_list, \n",
    "    skip_vocab_indexes=None\n",
    "):\n",
    "    valid_vectors, invalid_vectors = process_model_data(\n",
    "        [valid_categories, invalid_categories],\n",
    "        vocab, \n",
    "        keyed_vectors_list, \n",
    "        skip_vocab_indexes=skip_vocab_indexes\n",
    "    )\n",
    "    X = np.vstack([valid_vectors, invalid_vectors])\n",
    "    y = np.array([1]*valid_vectors.shape[0] + [0]*invalid_vectors.shape[0])\n",
    "    assert X.shape[0] == y.shape[0], f\"X.shape={X.shape} != y.shape={y.shape}\"\n",
    "    return X, y\n",
    "    \n",
    "def shuffle_data(X, y):\n",
    "    idx = np.random.permutation(X.shape[0])\n",
    "    X = X[idx]\n",
    "    y = y[idx]\n",
    "    return X, y\n",
    "\n",
    "def fit_model_factory(valid_categories, invalid_categories, vocab):\n",
    "    def fit_model(model, keyed_vectors_list, skip_vocab_indexes=None):\n",
    "        X, y = generate_training_data(\n",
    "            valid_categories, \n",
    "            invalid_categories, \n",
    "            vocab, \n",
    "            keyed_vectors_list,\n",
    "            skip_vocab_indexes=skip_vocab_indexes\n",
    "        )\n",
    "        X, y = shuffle_data(X, y)\n",
    "        print(f\"X={X.shape}, y={y.shape}\")\n",
    "        model.fit(X, y)\n",
    "        return model\n",
    "    return fit_model\n",
    "\n",
    "def get_best_scores(model):\n",
    "    idx = model.scores_[1].mean(axis=0).argmax()\n",
    "    scores = model.scores_[1][idx]\n",
    "    return scores\n",
    "\n",
    "def get_best_scores_grid_cv(model):\n",
    "    best_idx = model.best_index_\n",
    "    scores = np.array([\n",
    "        v[best_idx] \n",
    "        for k,v in model.cv_results_.items()\n",
    "        if k.startswith(\"split\") and k.endswith(\"_test_score\")\n",
    "    ])\n",
    "    return scores"
   ]
  },
  {
   "cell_type": "code",
   "execution_count": 16,
   "metadata": {},
   "outputs": [],
   "source": [
    "model_scores = {}\n",
    "model_best_params = {}"
   ]
  },
  {
   "cell_type": "code",
   "execution_count": 17,
   "metadata": {},
   "outputs": [],
   "source": [
    "KEYWORD_CONFIG=namedtuple(\"KEYWORD_CONFIG\", \"kv_type kv_list skip_vocab_idx\")"
   ]
  },
  {
   "cell_type": "markdown",
   "metadata": {},
   "source": [
    "### Balanced model"
   ]
  },
  {
   "cell_type": "code",
   "execution_count": 18,
   "metadata": {},
   "outputs": [],
   "source": [
    "def process_model_data2(\n",
    "    categories_list, \n",
    "    vocab, \n",
    "    keyed_vectors_list, \n",
    "    skip_vocab_indexes=None\n",
    "):\n",
    "    categories_list = [categories for categories in categories_list]\n",
    "    vectors_list = [[] for i in range(len(categories_list))]\n",
    "    skip_vocab_indexes = skip_vocab_indexes if skip_vocab_indexes is not None else set()\n",
    "    for i, kv in enumerate(keyed_vectors_list):\n",
    "        keys_list = [categories for categories in categories_list]\n",
    "        if i not in skip_vocab_indexes:\n",
    "            keys_list = [\n",
    "                np.array(get_categories(categories, vocab)) \n",
    "                for categories in keys_list\n",
    "            ]\n",
    "        for vectors, keys in zip(vectors_list, keys_list):\n",
    "            vectors.append(kv[keys])\n",
    "    vectors_list = [np.hstack(vectors) for vectors in vectors_list]\n",
    "    return vectors_list"
   ]
  },
  {
   "cell_type": "code",
   "execution_count": 19,
   "metadata": {},
   "outputs": [],
   "source": [
    "def model_pred(categories, predictor):\n",
    "    vectors = process_model_data2(\n",
    "    [categories],\n",
    "    wiki_category_vocab,\n",
    "    best_config.kv_list, \n",
    "    skip_vocab_indexes=best_config.skip_vocab_idx\n",
    "    )\n",
    "    \n",
    "    valid_pred = model.predict(vectors[0])\n",
    "    y_pred = valid_pred\n",
    "    return y_pred\n",
    "    \n",
    "    \n",
    "\n",
    "def get_classification_report(pred):    \n",
    "    print(confusion_matrix(pred[0], pred[1]))\n",
    "    print(classification_report(pred[0], pred[1], target_names=[\"invalid\", \"valid\"]))\n",
    "    \n",
    "\n",
    "def pd_result(categories, model):\n",
    "    result = model_pred(categories, model)\n",
    "    result = {\"category\": categories,\n",
    "              \"y_predict\" : result}\n",
    "    result = pd.DataFrame(result)\n",
    "    return result"
   ]
  },
  {
   "cell_type": "code",
   "execution_count": 20,
   "metadata": {},
   "outputs": [],
   "source": [
    "import json\n",
    "with open(\"C:/Users/kanya/Desktop/kisti/kisti/best_params_balanced.json\") as fp:\n",
    "    model_best_params = json.load(fp)"
   ]
  },
  {
   "cell_type": "code",
   "execution_count": 21,
   "metadata": {},
   "outputs": [],
   "source": [
    "KEYWORD_CONFIG=namedtuple(\"KEYWORD_CONFIG\", \"kv_type kv_list skip_vocab_idx\")\n",
    "best_config = KEYWORD_CONFIG(\"elmo_node2vec\", [wiki_elmo, model_node2vec], skip_vocab_idx={0})\n",
    "\n",
    "best_model_type = \"mlp\"\n",
    "best_model_key = f\"{best_config.kv_type}_{best_model_type}\""
   ]
  },
  {
   "cell_type": "code",
   "execution_count": 22,
   "metadata": {
    "scrolled": true
   },
   "outputs": [
    {
     "name": "stderr",
     "output_type": "stream",
     "text": [
      "d:\\python\\lib\\site-packages\\ipykernel_launcher.py:24: DeprecationWarning: Call to deprecated `__getitem__` (Method will be removed in 4.0.0, use self.wv.__getitem__() instead).\n"
     ]
    },
    {
     "name": "stdout",
     "output_type": "stream",
     "text": [
      "X=(3512, 2348), y=(3512,)\n"
     ]
    }
   ],
   "source": [
    "invalid_categories = load_categories(\"C:/Users/kanya/Desktop/kisti/CS_invalid_categories.txt\")\n",
    "invalid_edges = load_edges(\"C:/Users/kanya/Desktop/kisti/CS_invalid_edges.txt\")\n",
    "wiki_category_vocab = load_vocab(\"C:/Users/kanya/Desktop/kisti/categories.txt\")\n",
    "invalid_category_level_dict = dict(get_filtered_categories(invalid_edges, max_level=20))\n",
    "filtered_invalid_categories = [(cat, invalid_category_level_dict.get(cat, -1)) for cat, lvl in invalid_categories]\n",
    "random.seed(9001)\n",
    "filtered_invalid_categories = random.sample(filtered_invalid_categories, len(ACM_CSO_MATH))\n",
    "model = MLPClassifier(solver='lbfgs', hidden_layer_sizes=(64), random_state=20)\n",
    "fit_model = fit_model_factory(ACM_CSO_MATH, filtered_invalid_categories, wiki_category_vocab)\n",
    "model = fit_model(model, best_config.kv_list, skip_vocab_indexes=best_config.skip_vocab_idx)"
   ]
  },
  {
   "cell_type": "markdown",
   "metadata": {},
   "source": [
    "## load wiki category tree"
   ]
  },
  {
   "cell_type": "code",
   "execution_count": 23,
   "metadata": {},
   "outputs": [],
   "source": [
    "all_cate = pd.read_csv('C:/Users/kanya/Desktop/kisti/all_category_edges.tsv.gz', sep = '\\t')"
   ]
  },
  {
   "cell_type": "code",
   "execution_count": 24,
   "metadata": {},
   "outputs": [
    {
     "name": "stdout",
     "output_type": "stream",
     "text": [
      "wikipedia category tree\n",
      "1623843\n"
     ]
    }
   ],
   "source": [
    "print('wikipedia category tree')\n",
    "print(len(set(all_cate['child_cat'].tolist())))"
   ]
  },
  {
   "cell_type": "markdown",
   "metadata": {},
   "source": [
    "## BFS"
   ]
  },
  {
   "cell_type": "code",
   "execution_count": 25,
   "metadata": {},
   "outputs": [],
   "source": [
    "subcate = ['Computer_science',\n",
    "           'Mathematics',\n",
    "           'Information_science',\n",
    "           'Computer_engineering',\n",
    "           'Statistics']\n",
    "\n",
    "\n",
    "result= pd.DataFrame({'category': list(subcate),\n",
    "                      'level': 1})\n",
    "result1 = result\n",
    "for i in range(19):\n",
    "    relation = all_cate[all_cate['parent_cat'].isin(subcate)]\n",
    "    subcate = set(relation['child_cat']) - set(result1['category'])\n",
    "    subcate_data = pd.DataFrame({'category': list(subcate),\n",
    "                                 'level':i+2})\n",
    "    result1 = pd.concat([result1, subcate_data])"
   ]
  },
  {
   "cell_type": "code",
   "execution_count": 26,
   "metadata": {},
   "outputs": [
    {
     "name": "stdout",
     "output_type": "stream",
     "text": [
      "ICS after BFS\n",
      "1422160\n"
     ]
    }
   ],
   "source": [
    "print('ICS after BFS')\n",
    "print(len(result1))"
   ]
  },
  {
   "cell_type": "markdown",
   "metadata": {},
   "source": [
    "## Manual filtering"
   ]
  },
  {
   "cell_type": "code",
   "execution_count": 27,
   "metadata": {},
   "outputs": [],
   "source": [
    "top3 = pd.read_csv('C:/Users/kanya/Desktop/kisti/manual_filter_categories.txt', sep = '\\t', header = None, names = ['cate'])['cate'].tolist()"
   ]
  },
  {
   "cell_type": "code",
   "execution_count": 28,
   "metadata": {},
   "outputs": [],
   "source": [
    "subcate = ['Computer_science',\n",
    "           'Mathematics',\n",
    "           'Information_science',\n",
    "           'Computer_engineering',\n",
    "           'Statistics']\n",
    "\n",
    "\n",
    "result= pd.DataFrame({'category': list(subcate),\n",
    "                      'level': 1})\n",
    "relation = all_cate[all_cate['parent_cat'].isin(subcate)]\n",
    "relation = relation[relation['child_cat'].isin(top3)]\n",
    "subcate = set(relation['child_cat']) - set(result['category'])\n",
    "subcate_data = pd.DataFrame({'category': list(subcate),\n",
    "                             'level':2})\n",
    "result = pd.concat([result, subcate_data])\n",
    "relation = all_cate[all_cate['parent_cat'].isin(subcate)]\n",
    "relation = relation[relation['child_cat'].isin(top3)]\n",
    "subcate = set(relation['child_cat']) - set(result['category'])\n",
    "subcate_data = pd.DataFrame({'category': list(subcate),\n",
    "                             'level':3})\n",
    "result = pd.concat([result, subcate_data])\n",
    "\n",
    "result1 = result\n",
    "for i in range(17):\n",
    "    relation = all_cate[all_cate['parent_cat'].isin(subcate)]\n",
    "    subcate = set(relation['child_cat']) - set(result1['category'])\n",
    "    subcate_data = pd.DataFrame({'category': list(subcate),\n",
    "                                 'level':i+4})\n",
    "    result1 = pd.concat([result1, subcate_data])"
   ]
  },
  {
   "cell_type": "code",
   "execution_count": 29,
   "metadata": {},
   "outputs": [
    {
     "name": "stdout",
     "output_type": "stream",
     "text": [
      "ICS after manual filtering\n",
      "1420711\n"
     ]
    }
   ],
   "source": [
    "print('ICS after manual filtering')\n",
    "print(len(result1))"
   ]
  },
  {
   "cell_type": "markdown",
   "metadata": {},
   "source": [
    "## CD and ML"
   ]
  },
  {
   "cell_type": "code",
   "execution_count": 30,
   "metadata": {},
   "outputs": [
    {
     "name": "stderr",
     "output_type": "stream",
     "text": [
      "d:\\python\\lib\\site-packages\\ipykernel_launcher.py:18: SettingWithCopyWarning: \n",
      "A value is trying to be set on a copy of a slice from a DataFrame.\n",
      "Try using .loc[row_indexer,col_indexer] = value instead\n",
      "\n",
      "See the caveats in the documentation: http://pandas.pydata.org/pandas-docs/stable/indexing.html#indexing-view-versus-copy\n",
      "d:\\python\\lib\\site-packages\\ipykernel_launcher.py:26: SettingWithCopyWarning: \n",
      "A value is trying to be set on a copy of a slice from a DataFrame.\n",
      "Try using .loc[row_indexer,col_indexer] = value instead\n",
      "\n",
      "See the caveats in the documentation: http://pandas.pydata.org/pandas-docs/stable/indexing.html#indexing-view-versus-copy\n",
      "d:\\python\\lib\\site-packages\\ipykernel_launcher.py:18: DeprecationWarning: Call to deprecated `__getitem__` (Method will be removed in 4.0.0, use self.wv.__getitem__() instead).\n",
      "d:\\python\\lib\\site-packages\\ipykernel_launcher.py:42: SettingWithCopyWarning: \n",
      "A value is trying to be set on a copy of a slice from a DataFrame\n",
      "\n",
      "See the caveats in the documentation: http://pandas.pydata.org/pandas-docs/stable/indexing.html#indexing-view-versus-copy\n",
      "d:\\python\\lib\\site-packages\\ipykernel_launcher.py:48: SettingWithCopyWarning: \n",
      "A value is trying to be set on a copy of a slice from a DataFrame\n",
      "\n",
      "See the caveats in the documentation: http://pandas.pydata.org/pandas-docs/stable/indexing.html#indexing-view-versus-copy\n",
      "d:\\python\\lib\\site-packages\\ipykernel_launcher.py:61: FutureWarning: Sorting because non-concatenation axis is not aligned. A future version\n",
      "of pandas will change to not sort by default.\n",
      "\n",
      "To accept the future behavior, pass 'sort=False'.\n",
      "\n",
      "To retain the current behavior and silence the warning, pass 'sort=True'.\n",
      "\n",
      "d:\\python\\lib\\site-packages\\ipykernel_launcher.py:18: DeprecationWarning: Call to deprecated `__getitem__` (Method will be removed in 4.0.0, use self.wv.__getitem__() instead).\n",
      "d:\\python\\lib\\site-packages\\ipykernel_launcher.py:42: SettingWithCopyWarning: \n",
      "A value is trying to be set on a copy of a slice from a DataFrame\n",
      "\n",
      "See the caveats in the documentation: http://pandas.pydata.org/pandas-docs/stable/indexing.html#indexing-view-versus-copy\n",
      "d:\\python\\lib\\site-packages\\ipykernel_launcher.py:48: SettingWithCopyWarning: \n",
      "A value is trying to be set on a copy of a slice from a DataFrame\n",
      "\n",
      "See the caveats in the documentation: http://pandas.pydata.org/pandas-docs/stable/indexing.html#indexing-view-versus-copy\n",
      "d:\\python\\lib\\site-packages\\ipykernel_launcher.py:18: DeprecationWarning: Call to deprecated `__getitem__` (Method will be removed in 4.0.0, use self.wv.__getitem__() instead).\n",
      "d:\\python\\lib\\site-packages\\ipykernel_launcher.py:42: SettingWithCopyWarning: \n",
      "A value is trying to be set on a copy of a slice from a DataFrame\n",
      "\n",
      "See the caveats in the documentation: http://pandas.pydata.org/pandas-docs/stable/indexing.html#indexing-view-versus-copy\n",
      "d:\\python\\lib\\site-packages\\ipykernel_launcher.py:48: SettingWithCopyWarning: \n",
      "A value is trying to be set on a copy of a slice from a DataFrame\n",
      "\n",
      "See the caveats in the documentation: http://pandas.pydata.org/pandas-docs/stable/indexing.html#indexing-view-versus-copy\n",
      "d:\\python\\lib\\site-packages\\ipykernel_launcher.py:18: DeprecationWarning: Call to deprecated `__getitem__` (Method will be removed in 4.0.0, use self.wv.__getitem__() instead).\n",
      "d:\\python\\lib\\site-packages\\ipykernel_launcher.py:42: SettingWithCopyWarning: \n",
      "A value is trying to be set on a copy of a slice from a DataFrame\n",
      "\n",
      "See the caveats in the documentation: http://pandas.pydata.org/pandas-docs/stable/indexing.html#indexing-view-versus-copy\n",
      "d:\\python\\lib\\site-packages\\ipykernel_launcher.py:48: SettingWithCopyWarning: \n",
      "A value is trying to be set on a copy of a slice from a DataFrame\n",
      "\n",
      "See the caveats in the documentation: http://pandas.pydata.org/pandas-docs/stable/indexing.html#indexing-view-versus-copy\n",
      "d:\\python\\lib\\site-packages\\ipykernel_launcher.py:18: DeprecationWarning: Call to deprecated `__getitem__` (Method will be removed in 4.0.0, use self.wv.__getitem__() instead).\n",
      "d:\\python\\lib\\site-packages\\ipykernel_launcher.py:42: SettingWithCopyWarning: \n",
      "A value is trying to be set on a copy of a slice from a DataFrame\n",
      "\n",
      "See the caveats in the documentation: http://pandas.pydata.org/pandas-docs/stable/indexing.html#indexing-view-versus-copy\n",
      "d:\\python\\lib\\site-packages\\ipykernel_launcher.py:48: SettingWithCopyWarning: \n",
      "A value is trying to be set on a copy of a slice from a DataFrame\n",
      "\n",
      "See the caveats in the documentation: http://pandas.pydata.org/pandas-docs/stable/indexing.html#indexing-view-versus-copy\n",
      "d:\\python\\lib\\site-packages\\ipykernel_launcher.py:18: DeprecationWarning: Call to deprecated `__getitem__` (Method will be removed in 4.0.0, use self.wv.__getitem__() instead).\n",
      "d:\\python\\lib\\site-packages\\ipykernel_launcher.py:42: SettingWithCopyWarning: \n",
      "A value is trying to be set on a copy of a slice from a DataFrame\n",
      "\n",
      "See the caveats in the documentation: http://pandas.pydata.org/pandas-docs/stable/indexing.html#indexing-view-versus-copy\n",
      "d:\\python\\lib\\site-packages\\ipykernel_launcher.py:48: SettingWithCopyWarning: \n",
      "A value is trying to be set on a copy of a slice from a DataFrame\n",
      "\n",
      "See the caveats in the documentation: http://pandas.pydata.org/pandas-docs/stable/indexing.html#indexing-view-versus-copy\n",
      "d:\\python\\lib\\site-packages\\ipykernel_launcher.py:18: DeprecationWarning: Call to deprecated `__getitem__` (Method will be removed in 4.0.0, use self.wv.__getitem__() instead).\n",
      "d:\\python\\lib\\site-packages\\ipykernel_launcher.py:42: SettingWithCopyWarning: \n",
      "A value is trying to be set on a copy of a slice from a DataFrame\n",
      "\n",
      "See the caveats in the documentation: http://pandas.pydata.org/pandas-docs/stable/indexing.html#indexing-view-versus-copy\n",
      "d:\\python\\lib\\site-packages\\ipykernel_launcher.py:48: SettingWithCopyWarning: \n",
      "A value is trying to be set on a copy of a slice from a DataFrame\n",
      "\n",
      "See the caveats in the documentation: http://pandas.pydata.org/pandas-docs/stable/indexing.html#indexing-view-versus-copy\n",
      "d:\\python\\lib\\site-packages\\ipykernel_launcher.py:18: DeprecationWarning: Call to deprecated `__getitem__` (Method will be removed in 4.0.0, use self.wv.__getitem__() instead).\n",
      "d:\\python\\lib\\site-packages\\ipykernel_launcher.py:42: SettingWithCopyWarning: \n",
      "A value is trying to be set on a copy of a slice from a DataFrame\n",
      "\n",
      "See the caveats in the documentation: http://pandas.pydata.org/pandas-docs/stable/indexing.html#indexing-view-versus-copy\n",
      "d:\\python\\lib\\site-packages\\ipykernel_launcher.py:48: SettingWithCopyWarning: \n",
      "A value is trying to be set on a copy of a slice from a DataFrame\n",
      "\n",
      "See the caveats in the documentation: http://pandas.pydata.org/pandas-docs/stable/indexing.html#indexing-view-versus-copy\n",
      "d:\\python\\lib\\site-packages\\ipykernel_launcher.py:18: DeprecationWarning: Call to deprecated `__getitem__` (Method will be removed in 4.0.0, use self.wv.__getitem__() instead).\n",
      "d:\\python\\lib\\site-packages\\ipykernel_launcher.py:42: SettingWithCopyWarning: \n",
      "A value is trying to be set on a copy of a slice from a DataFrame\n",
      "\n",
      "See the caveats in the documentation: http://pandas.pydata.org/pandas-docs/stable/indexing.html#indexing-view-versus-copy\n",
      "d:\\python\\lib\\site-packages\\ipykernel_launcher.py:48: SettingWithCopyWarning: \n",
      "A value is trying to be set on a copy of a slice from a DataFrame\n",
      "\n",
      "See the caveats in the documentation: http://pandas.pydata.org/pandas-docs/stable/indexing.html#indexing-view-versus-copy\n",
      "d:\\python\\lib\\site-packages\\ipykernel_launcher.py:18: DeprecationWarning: Call to deprecated `__getitem__` (Method will be removed in 4.0.0, use self.wv.__getitem__() instead).\n",
      "d:\\python\\lib\\site-packages\\ipykernel_launcher.py:42: SettingWithCopyWarning: \n",
      "A value is trying to be set on a copy of a slice from a DataFrame\n",
      "\n",
      "See the caveats in the documentation: http://pandas.pydata.org/pandas-docs/stable/indexing.html#indexing-view-versus-copy\n",
      "d:\\python\\lib\\site-packages\\ipykernel_launcher.py:48: SettingWithCopyWarning: \n",
      "A value is trying to be set on a copy of a slice from a DataFrame\n",
      "\n",
      "See the caveats in the documentation: http://pandas.pydata.org/pandas-docs/stable/indexing.html#indexing-view-versus-copy\n",
      "d:\\python\\lib\\site-packages\\ipykernel_launcher.py:18: DeprecationWarning: Call to deprecated `__getitem__` (Method will be removed in 4.0.0, use self.wv.__getitem__() instead).\n"
     ]
    },
    {
     "name": "stderr",
     "output_type": "stream",
     "text": [
      "d:\\python\\lib\\site-packages\\ipykernel_launcher.py:42: SettingWithCopyWarning: \n",
      "A value is trying to be set on a copy of a slice from a DataFrame\n",
      "\n",
      "See the caveats in the documentation: http://pandas.pydata.org/pandas-docs/stable/indexing.html#indexing-view-versus-copy\n",
      "d:\\python\\lib\\site-packages\\ipykernel_launcher.py:48: SettingWithCopyWarning: \n",
      "A value is trying to be set on a copy of a slice from a DataFrame\n",
      "\n",
      "See the caveats in the documentation: http://pandas.pydata.org/pandas-docs/stable/indexing.html#indexing-view-versus-copy\n",
      "d:\\python\\lib\\site-packages\\ipykernel_launcher.py:18: DeprecationWarning: Call to deprecated `__getitem__` (Method will be removed in 4.0.0, use self.wv.__getitem__() instead).\n",
      "d:\\python\\lib\\site-packages\\ipykernel_launcher.py:42: SettingWithCopyWarning: \n",
      "A value is trying to be set on a copy of a slice from a DataFrame\n",
      "\n",
      "See the caveats in the documentation: http://pandas.pydata.org/pandas-docs/stable/indexing.html#indexing-view-versus-copy\n",
      "d:\\python\\lib\\site-packages\\ipykernel_launcher.py:48: SettingWithCopyWarning: \n",
      "A value is trying to be set on a copy of a slice from a DataFrame\n",
      "\n",
      "See the caveats in the documentation: http://pandas.pydata.org/pandas-docs/stable/indexing.html#indexing-view-versus-copy\n",
      "d:\\python\\lib\\site-packages\\ipykernel_launcher.py:18: DeprecationWarning: Call to deprecated `__getitem__` (Method will be removed in 4.0.0, use self.wv.__getitem__() instead).\n",
      "d:\\python\\lib\\site-packages\\ipykernel_launcher.py:42: SettingWithCopyWarning: \n",
      "A value is trying to be set on a copy of a slice from a DataFrame\n",
      "\n",
      "See the caveats in the documentation: http://pandas.pydata.org/pandas-docs/stable/indexing.html#indexing-view-versus-copy\n",
      "d:\\python\\lib\\site-packages\\ipykernel_launcher.py:48: SettingWithCopyWarning: \n",
      "A value is trying to be set on a copy of a slice from a DataFrame\n",
      "\n",
      "See the caveats in the documentation: http://pandas.pydata.org/pandas-docs/stable/indexing.html#indexing-view-versus-copy\n",
      "d:\\python\\lib\\site-packages\\ipykernel_launcher.py:18: DeprecationWarning: Call to deprecated `__getitem__` (Method will be removed in 4.0.0, use self.wv.__getitem__() instead).\n",
      "d:\\python\\lib\\site-packages\\ipykernel_launcher.py:42: SettingWithCopyWarning: \n",
      "A value is trying to be set on a copy of a slice from a DataFrame\n",
      "\n",
      "See the caveats in the documentation: http://pandas.pydata.org/pandas-docs/stable/indexing.html#indexing-view-versus-copy\n",
      "d:\\python\\lib\\site-packages\\ipykernel_launcher.py:48: SettingWithCopyWarning: \n",
      "A value is trying to be set on a copy of a slice from a DataFrame\n",
      "\n",
      "See the caveats in the documentation: http://pandas.pydata.org/pandas-docs/stable/indexing.html#indexing-view-versus-copy\n",
      "d:\\python\\lib\\site-packages\\ipykernel_launcher.py:18: DeprecationWarning: Call to deprecated `__getitem__` (Method will be removed in 4.0.0, use self.wv.__getitem__() instead).\n",
      "d:\\python\\lib\\site-packages\\ipykernel_launcher.py:42: SettingWithCopyWarning: \n",
      "A value is trying to be set on a copy of a slice from a DataFrame\n",
      "\n",
      "See the caveats in the documentation: http://pandas.pydata.org/pandas-docs/stable/indexing.html#indexing-view-versus-copy\n",
      "d:\\python\\lib\\site-packages\\ipykernel_launcher.py:48: SettingWithCopyWarning: \n",
      "A value is trying to be set on a copy of a slice from a DataFrame\n",
      "\n",
      "See the caveats in the documentation: http://pandas.pydata.org/pandas-docs/stable/indexing.html#indexing-view-versus-copy\n",
      "d:\\python\\lib\\site-packages\\ipykernel_launcher.py:18: DeprecationWarning: Call to deprecated `__getitem__` (Method will be removed in 4.0.0, use self.wv.__getitem__() instead).\n",
      "d:\\python\\lib\\site-packages\\ipykernel_launcher.py:42: SettingWithCopyWarning: \n",
      "A value is trying to be set on a copy of a slice from a DataFrame\n",
      "\n",
      "See the caveats in the documentation: http://pandas.pydata.org/pandas-docs/stable/indexing.html#indexing-view-versus-copy\n",
      "d:\\python\\lib\\site-packages\\ipykernel_launcher.py:48: SettingWithCopyWarning: \n",
      "A value is trying to be set on a copy of a slice from a DataFrame\n",
      "\n",
      "See the caveats in the documentation: http://pandas.pydata.org/pandas-docs/stable/indexing.html#indexing-view-versus-copy\n",
      "d:\\python\\lib\\site-packages\\ipykernel_launcher.py:18: DeprecationWarning: Call to deprecated `__getitem__` (Method will be removed in 4.0.0, use self.wv.__getitem__() instead).\n",
      "d:\\python\\lib\\site-packages\\ipykernel_launcher.py:42: SettingWithCopyWarning: \n",
      "A value is trying to be set on a copy of a slice from a DataFrame\n",
      "\n",
      "See the caveats in the documentation: http://pandas.pydata.org/pandas-docs/stable/indexing.html#indexing-view-versus-copy\n",
      "d:\\python\\lib\\site-packages\\ipykernel_launcher.py:48: SettingWithCopyWarning: \n",
      "A value is trying to be set on a copy of a slice from a DataFrame\n",
      "\n",
      "See the caveats in the documentation: http://pandas.pydata.org/pandas-docs/stable/indexing.html#indexing-view-versus-copy\n"
     ]
    }
   ],
   "source": [
    "aaa = 'aaaa'\n",
    "\n",
    "bbb = 'aaaa'\n",
    "\n",
    "ccc = 'aaaa'\n",
    "    \n",
    "invadd = set(['Language', 'Time'])\n",
    "    \n",
    "subcate = ['Computer_science',\n",
    "           'Mathematics',\n",
    "           'Information_science',\n",
    "           'Computer_engineering',\n",
    "           'Statistics']\n",
    "\n",
    "result2= pd.DataFrame({'category': list(subcate),\n",
    "                      'level': 1})\n",
    "relation = all_cate[all_cate['parent_cat'].isin(subcate)]\n",
    "relation['tf'] = relation['child_cat'].str.contains(aaa, case = False)\n",
    "relation = relation[relation['tf'] == 0]\n",
    "subcate = set(relation['child_cat'])\n",
    "subcate_data = pd.DataFrame({'category': list(subcate),\n",
    "                             'level':2})\n",
    "result2 = pd.concat([result2, subcate_data])\n",
    "\n",
    "relation = all_cate[all_cate['parent_cat'].isin(subcate)]\n",
    "relation['tf'] = relation['child_cat'].str.contains(aaa, case = False)\n",
    "relation = relation[relation['tf'] == 0]\n",
    "subcate = set(relation['child_cat'])\n",
    "subcate_data = pd.DataFrame({'category': list(subcate),\n",
    "                             'level':3})\n",
    "result2 = pd.concat([result2, subcate_data])\n",
    "\n",
    "\n",
    "\n",
    "\n",
    "for i in range(17):\n",
    "    subset = list(set(all_cate[all_cate['parent_cat'].isin(subcate)]['child_cat']))\n",
    "    predict = pd_result(subset, model)\n",
    "    \n",
    "    predict['tf'] = predict['category'].str.contains(bbb, case = False)\n",
    "    index = predict[predict['tf'].isin([1]) & predict['y_predict'].isin([0])]['y_predict'].index\n",
    "    predict['y_predict'][index] = 1\n",
    "    if i < 5:\n",
    "        predict['tf'] = predict['category'].str.contains(aaa, case = False)\n",
    "    else:\n",
    "        predict['tf'] = predict['category'].str.contains(ccc, case = False)\n",
    "    index = predict[predict['tf'].isin([1]) & predict['y_predict'].isin([1])]['y_predict'].index\n",
    "    predict['y_predict'][index] = 0\n",
    "    \n",
    "    subcate = set(predict[predict['y_predict']==1]['category']) - set(result2['category'])\n",
    "    subcate = subcate - invadd\n",
    "    invalid = set(predict[predict['y_predict']==0]['category'])\n",
    "    \n",
    "    \n",
    "    subcate_data = pd.DataFrame({'category': list(subcate),\n",
    "                                 'level':i+4,\n",
    "                                 'valid':'valid'})\n",
    "    invalid_data = pd.DataFrame({'category':list(invalid),\n",
    "                                 'level':i+4,\n",
    "                                 'valid':'invalid'})\n",
    "    result2 = pd.concat([result2, subcate_data, invalid_data])"
   ]
  },
  {
   "cell_type": "code",
   "execution_count": 31,
   "metadata": {},
   "outputs": [],
   "source": [
    "result = result2\n",
    "result.index = range(len(result))\n",
    "remove = pd.read_csv('C:/Users/kanya/Desktop/kisti/netresult.txt', sep = '\\t')\n",
    "acc = pd.concat([result[result['valid'].isnull()], result[result['valid']=='valid']], 0)\n",
    "remove = set(acc['category'].tolist()).intersection(set(remove['cate'].tolist()))\n",
    "remove = remove - exc\n",
    "acc.index = range(len(acc))\n",
    "ind = []\n",
    "for i in range(len(acc)):\n",
    "    if acc['level'][i] >3:\n",
    "        if acc['category'][i] in remove:\n",
    "            a = 0\n",
    "        else:\n",
    "            ind.append(acc.index[i])\n",
    "    else:\n",
    "        ind.append(acc.index[i])\n",
    "finall = acc[acc['category'].index.isin(ind)]"
   ]
  },
  {
   "cell_type": "code",
   "execution_count": 32,
   "metadata": {},
   "outputs": [
    {
     "name": "stdout",
     "output_type": "stream",
     "text": [
      "ICS after CD and ML\n",
      "11275\n"
     ]
    }
   ],
   "source": [
    "print('ICS after CD and ML')\n",
    "print(len(finall))"
   ]
  },
  {
   "cell_type": "code",
   "execution_count": 33,
   "metadata": {},
   "outputs": [],
   "source": [
    "invalid_cate = [\n",
    "    'microsoft',\n",
    "    'windows',\n",
    "    'camera',\n",
    "    'linux',\n",
    "    'Plot_(narrative)',\n",
    "    'macos',\n",
    "    'Human_communication',\n",
    "    'studios',\n",
    "    'Quantum_mechanics',\n",
    "    'Medical_Subject_Headings',\n",
    "    '_ios',\n",
    "    'ios_'\n",
    "    'analyst',\n",
    "    'Biogeography',\n",
    "    'Geographic',\n",
    "    'device',\n",
    "    'Video_game_gameplay',\n",
    "    'google',\n",
    "    'Samsung',\n",
    "    'companies',\n",
    "    'journal',\n",
    "    'conference',\n",
    "    'Philosophy_of_mathematics',\n",
    "    'Yahoo',\n",
    "    'libraries',\n",
    "    'Vehicle_technology',\n",
    "    'Health_standards',\n",
    "    'Arabic',\n",
    "    'novels',\n",
    "    'literature',\n",
    "    'television',\n",
    "    'website',\n",
    "    'award',\n",
    "    'researcher',\n",
    "    'station',\n",
    "    'amazon',\n",
    "    'android',\n",
    "    'twitter',\n",
    "    'albums',\n",
    "    r\"\\d{4}\",\n",
    "    'century',\n",
    "    'company',\n",
    "    'article',\n",
    "    'university',\n",
    "    'Classification_systems',\n",
    "    'games',\n",
    "    'book',\n",
    "    'countries',\n",
    "    'country',\n",
    "    'certifications',\n",
    "    'school',\n",
    "    'Mathematicians',\n",
    "    'Atomic_physics',\n",
    "    'Statisticians',\n",
    "    'profession',\n",
    "    'organizations',\n",
    "    'Computer_science_education',\n",
    "    'Computer_science_literature',\n",
    "    'year',\n",
    "    'engineers',\n",
    "    'Nintendo',\n",
    "    'logos',\n",
    "    'covers',\n",
    "    'screenshot',\n",
    "    'Goods',\n",
    "    'Utilitarianism',\n",
    "    'by_platform',\n",
    "    'Early_modern_printing_databases',\n",
    "    'Signage',\n",
    "    'Time_series_software',\n",
    "    'documents',\n",
    "    'texts',\n",
    "    'education',\n",
    "    'day',\n",
    "    'month',\n",
    "    'criticism',\n",
    "    'works',\n",
    "    'United_States',\n",
    "    'Skype',\n",
    "    'videos',\n",
    "    'Econometrics_software',\n",
    "    'Bibliography',\n",
    "    'Grouping',\n",
    "    'Manuscripts',\n",
    "    'Corpora',\n",
    "    'Emergence',\n",
    "    'Virtual_pets',\n",
    "    'Self-organization',\n",
    "    'Systems_science',\n",
    "    'Astronomical_databases',\n",
    "    'Biorepositories',\n",
    "    'Omics',\n",
    "    'Phylogenetics',\n",
    "    'Formal_sciences',\n",
    "    'chemists',\n",
    "    'nationality',\n",
    "    'Demography',\n",
    "    'fiction',\n",
    "    'Quantity',\n",
    "    'homeostasis',\n",
    "    'Wikipedia_categories_named_after_software',\n",
    "    'Semiotics',\n",
    "    'Strategy',\n",
    "    'occupations',\n",
    "    'Heating',\n",
    "    'artists',\n",
    "    'educators',\n",
    "    'writers',\n",
    "    'Gases',\n",
    "    'Astronomical',\n",
    "    'Power_control',\n",
    "    'Fire_suppression',\n",
    "    'fellows',\n",
    "    'manufacturing',\n",
    "    'reference',\n",
    "    'Hand_tools',\n",
    "    'HP_',\n",
    "    'podcast',\n",
    "    'CNN',\n",
    "    'die',\n",
    "    'Coolants',\n",
    "    'Electrodynamics',\n",
    "    'thermodynamics',\n",
    "    'designers',\n",
    "    'Nutritional_advice_pyramids',\n",
    "    'Waves',\n",
    "    'publications',\n",
    "    'music',\n",
    "    'office',\n",
    "    'free_',\n",
    "    'freeware',\n",
    "    'Macintosh',\n",
    "    'brand',\n",
    "    'scientists',\n",
    "    'theorists',\n",
    "    'Vortices',\n",
    "    'Lists',\n",
    "    'Astronomy',\n",
    "    '_biology'\n",
    "    'Symbols',\n",
    "    'Social_statistics'\n",
    "    'Musical_tuning',\n",
    "    'Ecoregions',\n",
    "    'films',\n",
    "    'Statisticians',\n",
    "    'Climate_change',\n",
    "    'Ecological_connectivity',\n",
    "    'Book_Number',\n",
    "    'Population_genetics',\n",
    "    'Cartography',\n",
    "    'Archives',\n",
    "    'Museums',\n",
    "    'Librarian',\n",
    "    'Labs'\n",
    "]\n",
    "\n",
    "invadd = set(['Language', 'Time'])\n",
    "\n",
    "valid_cate = [\n",
    "    'computational',\n",
    "    'Theorem',\n",
    "    'computer_science',\n",
    "    'theory',\n",
    "    'language',\n",
    "    'algorithm',\n",
    "    'computing',\n",
    "    'programming_languages',\n",
    "]\n",
    "\n",
    "\n",
    "exc = {'Computing_by_natural_language', 'Cyberinfrastructure', 'Human_computers', 'Isotoxal_tilings', 'Musical_set_theory',\n",
    "       'Tilings_by_order', 'Truncated_tilings', 'Bitruncated_tilings', 'Chinese-language_computing', 'Diatonic_set_theory',\n",
    "       'Han_character_input', 'Indic_computing', 'Urdu_computing','Russian-language_computing', 'Transportation_engineering',\n",
    "       'Mongolian-language_computing', 'Korean-language_computing','Prime_limits','Pitch_space','Traffic_simulation'}\n",
    "\n",
    "aaa = invalid_cate[0]\n",
    "for i in range(len(invalid_cate)):\n",
    "    aaa = aaa+ '|' +invalid_cate[i]\n",
    "\n",
    "bbb = valid_cate[0]\n",
    "for i in range(len(valid_cate)):\n",
    "    bbb = bbb+ '|' +valid_cate[i]\n",
    "    \n",
    "    \n",
    "invalid_cate1 = [\n",
    "    'microsoft',\n",
    "    'windows',\n",
    "    'camera',\n",
    "    'linux',\n",
    "    'Plot_(narrative)',\n",
    "    'macos',\n",
    "    'Human_communication',\n",
    "    'studios',\n",
    "    '_ios',\n",
    "    'ios_',\n",
    "    'designers',\n",
    "    'analyst',\n",
    "    'Biogeography',\n",
    "    'HP_',\n",
    "    'Geographic',\n",
    "    'device',\n",
    "    'Skype',\n",
    "    'Video_game_gameplay',\n",
    "    'google',\n",
    "    'Samsung',\n",
    "    'companies',\n",
    "    'Macintosh',\n",
    "    'office',\n",
    "    'music',\n",
    "    'journal',\n",
    "    'conference',\n",
    "    'Philosophy_of_mathematics',\n",
    "    'Yahoo',\n",
    "    'libraries',\n",
    "    'Arabic',\n",
    "    'CNN',\n",
    "    'novels',\n",
    "    'literature',\n",
    "    'television',\n",
    "    'website',\n",
    "    'award',\n",
    "    'researcher',\n",
    "    'station',\n",
    "    'amazon',\n",
    "    'android',\n",
    "    'twitter',\n",
    "    'albums',\n",
    "    r\"\\d{4}\",\n",
    "    'century',\n",
    "    'company',\n",
    "    'article',\n",
    "    'university',\n",
    "    'games',\n",
    "    'book',\n",
    "    'countries',\n",
    "    'freeware',\n",
    "    'country',\n",
    "    'certifications',\n",
    "    'school',\n",
    "    'Mathematicians',\n",
    "    'Statisticians',\n",
    "    'profession',\n",
    "    'organizations',\n",
    "    'Computer_science_education',\n",
    "    'Computer_science_literature',\n",
    "    'year',\n",
    "    'engineers',\n",
    "    'logos',\n",
    "    'covers',\n",
    "    'podcasts',\n",
    "    'screenshot',\n",
    "    'day',\n",
    "    'month',\n",
    "    'die',\n",
    "    'free_'\n",
    "    'Goods',\n",
    "    'Utilitarianism',\n",
    "    'by_platform',\n",
    "    'Early_modern_printing_databases',\n",
    "    'Signage',\n",
    "    'Time_series_software',\n",
    "    'documents',\n",
    "    'texts',\n",
    "    'education',\n",
    "    'works',\n",
    "    'United_States',\n",
    "    'Nintendo',\n",
    "    'Econometrics_software',\n",
    "    'Bibliography',\n",
    "    'Grouping',\n",
    "    'Manuscripts',\n",
    "    'Corpora',\n",
    "    'Emergence',\n",
    "    'Virtual_pets',\n",
    "    'Self-organization',\n",
    "    'Astronomical_databases',\n",
    "    'Biorepositories',\n",
    "    'Omics',\n",
    "    'Labs',\n",
    "    'Phylogenetics',\n",
    "    'chemists',\n",
    "    'nationality',\n",
    "    'fiction',\n",
    "    'Quantity',\n",
    "    'homeostasis',\n",
    "    'Wikipedia_categories_named_after_software',\n",
    "    'Semiotics',\n",
    "    'Strategy',\n",
    "    'occupations',\n",
    "    'Heating',\n",
    "    'artists',\n",
    "    'educators',\n",
    "    'writers',\n",
    "    'Gases',\n",
    "    'Power_control',\n",
    "    'Fire_suppression',\n",
    "    'fellows',\n",
    "    'manufacturing',\n",
    "    'reference',\n",
    "    'Hand_tools',\n",
    "    'Coolants',\n",
    "    'thermodynamics',\n",
    "    'Nutritional_advice_pyramids',\n",
    "    'Waves',\n",
    "    'publications',\n",
    "    'brand',\n",
    "    'scientists',\n",
    "    'theorists',\n",
    "    'criticism',\n",
    "    'Vortices',\n",
    "    'Lists',\n",
    "    'Symbols',\n",
    "    'Social_statistics'\n",
    "    'Musical_tuning',\n",
    "    'Ecoregions',\n",
    "    'films',\n",
    "    'Statisticians',\n",
    "    'Climate_change',\n",
    "    'Ecological_connectivity',\n",
    "    'Book_Number',\n",
    "    'Population_genetics',\n",
    "    'Cartography',\n",
    "    'Archives',\n",
    "    'Museums',\n",
    "    'Librarian'\n",
    "]\n",
    "\n",
    "\n",
    "ccc = invalid_cate1[0]\n",
    "for i in range(len(invalid_cate1)):\n",
    "    ccc = ccc+ '|' +invalid_cate1[i]"
   ]
  },
  {
   "cell_type": "code",
   "execution_count": 34,
   "metadata": {},
   "outputs": [],
   "source": [
    "subcate = ['Computer_science',\n",
    "           'Mathematics',\n",
    "           'Information_science',\n",
    "           'Computer_engineering',\n",
    "           'Statistics']\n",
    "\n",
    "result= pd.DataFrame({'category': list(subcate),\n",
    "                      'level': 1})\n",
    "relation = all_cate[all_cate['parent_cat'].isin(subcate)]\n",
    "relation = relation[relation['child_cat'].isin(top3)]\n",
    "subcate = set(relation['child_cat']) - set(result['category'])\n",
    "subcate_data = pd.DataFrame({'category': list(subcate),\n",
    "                             'level':2})\n",
    "result = pd.concat([result, subcate_data])\n",
    "relation = all_cate[all_cate['parent_cat'].isin(subcate)]\n",
    "relation = relation[relation['child_cat'].isin(top3)]\n",
    "subcate = set(relation['child_cat']) - set(result['category'])\n",
    "subcate_data = pd.DataFrame({'category': list(subcate),\n",
    "                             'level':3})\n",
    "result = pd.concat([result, subcate_data])"
   ]
  },
  {
   "cell_type": "code",
   "execution_count": 35,
   "metadata": {},
   "outputs": [
    {
     "name": "stderr",
     "output_type": "stream",
     "text": [
      "d:\\python\\lib\\site-packages\\ipykernel_launcher.py:18: DeprecationWarning: Call to deprecated `__getitem__` (Method will be removed in 4.0.0, use self.wv.__getitem__() instead).\n",
      "d:\\python\\lib\\site-packages\\ipykernel_launcher.py:7: SettingWithCopyWarning: \n",
      "A value is trying to be set on a copy of a slice from a DataFrame\n",
      "\n",
      "See the caveats in the documentation: http://pandas.pydata.org/pandas-docs/stable/indexing.html#indexing-view-versus-copy\n",
      "  import sys\n",
      "d:\\python\\lib\\site-packages\\ipykernel_launcher.py:9: UserWarning: This pattern has match groups. To actually get the groups, use str.extract.\n",
      "  if __name__ == '__main__':\n",
      "d:\\python\\lib\\site-packages\\ipykernel_launcher.py:13: SettingWithCopyWarning: \n",
      "A value is trying to be set on a copy of a slice from a DataFrame\n",
      "\n",
      "See the caveats in the documentation: http://pandas.pydata.org/pandas-docs/stable/indexing.html#indexing-view-versus-copy\n",
      "  del sys.path[0]\n",
      "d:\\python\\lib\\site-packages\\ipykernel_launcher.py:26: FutureWarning: Sorting because non-concatenation axis is not aligned. A future version\n",
      "of pandas will change to not sort by default.\n",
      "\n",
      "To accept the future behavior, pass 'sort=False'.\n",
      "\n",
      "To retain the current behavior and silence the warning, pass 'sort=True'.\n",
      "\n",
      "d:\\python\\lib\\site-packages\\ipykernel_launcher.py:18: DeprecationWarning: Call to deprecated `__getitem__` (Method will be removed in 4.0.0, use self.wv.__getitem__() instead).\n",
      "d:\\python\\lib\\site-packages\\ipykernel_launcher.py:7: SettingWithCopyWarning: \n",
      "A value is trying to be set on a copy of a slice from a DataFrame\n",
      "\n",
      "See the caveats in the documentation: http://pandas.pydata.org/pandas-docs/stable/indexing.html#indexing-view-versus-copy\n",
      "  import sys\n",
      "d:\\python\\lib\\site-packages\\ipykernel_launcher.py:9: UserWarning: This pattern has match groups. To actually get the groups, use str.extract.\n",
      "  if __name__ == '__main__':\n",
      "d:\\python\\lib\\site-packages\\ipykernel_launcher.py:13: SettingWithCopyWarning: \n",
      "A value is trying to be set on a copy of a slice from a DataFrame\n",
      "\n",
      "See the caveats in the documentation: http://pandas.pydata.org/pandas-docs/stable/indexing.html#indexing-view-versus-copy\n",
      "  del sys.path[0]\n",
      "d:\\python\\lib\\site-packages\\ipykernel_launcher.py:18: DeprecationWarning: Call to deprecated `__getitem__` (Method will be removed in 4.0.0, use self.wv.__getitem__() instead).\n",
      "d:\\python\\lib\\site-packages\\ipykernel_launcher.py:7: SettingWithCopyWarning: \n",
      "A value is trying to be set on a copy of a slice from a DataFrame\n",
      "\n",
      "See the caveats in the documentation: http://pandas.pydata.org/pandas-docs/stable/indexing.html#indexing-view-versus-copy\n",
      "  import sys\n",
      "d:\\python\\lib\\site-packages\\ipykernel_launcher.py:9: UserWarning: This pattern has match groups. To actually get the groups, use str.extract.\n",
      "  if __name__ == '__main__':\n",
      "d:\\python\\lib\\site-packages\\ipykernel_launcher.py:13: SettingWithCopyWarning: \n",
      "A value is trying to be set on a copy of a slice from a DataFrame\n",
      "\n",
      "See the caveats in the documentation: http://pandas.pydata.org/pandas-docs/stable/indexing.html#indexing-view-versus-copy\n",
      "  del sys.path[0]\n",
      "d:\\python\\lib\\site-packages\\ipykernel_launcher.py:18: DeprecationWarning: Call to deprecated `__getitem__` (Method will be removed in 4.0.0, use self.wv.__getitem__() instead).\n",
      "d:\\python\\lib\\site-packages\\ipykernel_launcher.py:7: SettingWithCopyWarning: \n",
      "A value is trying to be set on a copy of a slice from a DataFrame\n",
      "\n",
      "See the caveats in the documentation: http://pandas.pydata.org/pandas-docs/stable/indexing.html#indexing-view-versus-copy\n",
      "  import sys\n",
      "d:\\python\\lib\\site-packages\\ipykernel_launcher.py:9: UserWarning: This pattern has match groups. To actually get the groups, use str.extract.\n",
      "  if __name__ == '__main__':\n",
      "d:\\python\\lib\\site-packages\\ipykernel_launcher.py:13: SettingWithCopyWarning: \n",
      "A value is trying to be set on a copy of a slice from a DataFrame\n",
      "\n",
      "See the caveats in the documentation: http://pandas.pydata.org/pandas-docs/stable/indexing.html#indexing-view-versus-copy\n",
      "  del sys.path[0]\n",
      "d:\\python\\lib\\site-packages\\ipykernel_launcher.py:18: DeprecationWarning: Call to deprecated `__getitem__` (Method will be removed in 4.0.0, use self.wv.__getitem__() instead).\n",
      "d:\\python\\lib\\site-packages\\ipykernel_launcher.py:7: SettingWithCopyWarning: \n",
      "A value is trying to be set on a copy of a slice from a DataFrame\n",
      "\n",
      "See the caveats in the documentation: http://pandas.pydata.org/pandas-docs/stable/indexing.html#indexing-view-versus-copy\n",
      "  import sys\n",
      "d:\\python\\lib\\site-packages\\ipykernel_launcher.py:9: UserWarning: This pattern has match groups. To actually get the groups, use str.extract.\n",
      "  if __name__ == '__main__':\n",
      "d:\\python\\lib\\site-packages\\ipykernel_launcher.py:13: SettingWithCopyWarning: \n",
      "A value is trying to be set on a copy of a slice from a DataFrame\n",
      "\n",
      "See the caveats in the documentation: http://pandas.pydata.org/pandas-docs/stable/indexing.html#indexing-view-versus-copy\n",
      "  del sys.path[0]\n",
      "d:\\python\\lib\\site-packages\\ipykernel_launcher.py:18: DeprecationWarning: Call to deprecated `__getitem__` (Method will be removed in 4.0.0, use self.wv.__getitem__() instead).\n",
      "d:\\python\\lib\\site-packages\\ipykernel_launcher.py:7: SettingWithCopyWarning: \n",
      "A value is trying to be set on a copy of a slice from a DataFrame\n",
      "\n",
      "See the caveats in the documentation: http://pandas.pydata.org/pandas-docs/stable/indexing.html#indexing-view-versus-copy\n",
      "  import sys\n",
      "d:\\python\\lib\\site-packages\\ipykernel_launcher.py:11: UserWarning: This pattern has match groups. To actually get the groups, use str.extract.\n",
      "  # This is added back by InteractiveShellApp.init_path()\n",
      "d:\\python\\lib\\site-packages\\ipykernel_launcher.py:13: SettingWithCopyWarning: \n",
      "A value is trying to be set on a copy of a slice from a DataFrame\n",
      "\n",
      "See the caveats in the documentation: http://pandas.pydata.org/pandas-docs/stable/indexing.html#indexing-view-versus-copy\n",
      "  del sys.path[0]\n",
      "d:\\python\\lib\\site-packages\\ipykernel_launcher.py:18: DeprecationWarning: Call to deprecated `__getitem__` (Method will be removed in 4.0.0, use self.wv.__getitem__() instead).\n",
      "d:\\python\\lib\\site-packages\\ipykernel_launcher.py:7: SettingWithCopyWarning: \n",
      "A value is trying to be set on a copy of a slice from a DataFrame\n",
      "\n",
      "See the caveats in the documentation: http://pandas.pydata.org/pandas-docs/stable/indexing.html#indexing-view-versus-copy\n",
      "  import sys\n",
      "d:\\python\\lib\\site-packages\\ipykernel_launcher.py:11: UserWarning: This pattern has match groups. To actually get the groups, use str.extract.\n",
      "  # This is added back by InteractiveShellApp.init_path()\n",
      "d:\\python\\lib\\site-packages\\ipykernel_launcher.py:13: SettingWithCopyWarning: \n",
      "A value is trying to be set on a copy of a slice from a DataFrame\n",
      "\n",
      "See the caveats in the documentation: http://pandas.pydata.org/pandas-docs/stable/indexing.html#indexing-view-versus-copy\n",
      "  del sys.path[0]\n",
      "d:\\python\\lib\\site-packages\\ipykernel_launcher.py:18: DeprecationWarning: Call to deprecated `__getitem__` (Method will be removed in 4.0.0, use self.wv.__getitem__() instead).\n",
      "d:\\python\\lib\\site-packages\\ipykernel_launcher.py:7: SettingWithCopyWarning: \n",
      "A value is trying to be set on a copy of a slice from a DataFrame\n",
      "\n",
      "See the caveats in the documentation: http://pandas.pydata.org/pandas-docs/stable/indexing.html#indexing-view-versus-copy\n",
      "  import sys\n",
      "d:\\python\\lib\\site-packages\\ipykernel_launcher.py:11: UserWarning: This pattern has match groups. To actually get the groups, use str.extract.\n",
      "  # This is added back by InteractiveShellApp.init_path()\n",
      "d:\\python\\lib\\site-packages\\ipykernel_launcher.py:13: SettingWithCopyWarning: \n",
      "A value is trying to be set on a copy of a slice from a DataFrame\n",
      "\n",
      "See the caveats in the documentation: http://pandas.pydata.org/pandas-docs/stable/indexing.html#indexing-view-versus-copy\n",
      "  del sys.path[0]\n",
      "d:\\python\\lib\\site-packages\\ipykernel_launcher.py:18: DeprecationWarning: Call to deprecated `__getitem__` (Method will be removed in 4.0.0, use self.wv.__getitem__() instead).\n",
      "d:\\python\\lib\\site-packages\\ipykernel_launcher.py:7: SettingWithCopyWarning: \n",
      "A value is trying to be set on a copy of a slice from a DataFrame\n",
      "\n",
      "See the caveats in the documentation: http://pandas.pydata.org/pandas-docs/stable/indexing.html#indexing-view-versus-copy\n",
      "  import sys\n",
      "d:\\python\\lib\\site-packages\\ipykernel_launcher.py:11: UserWarning: This pattern has match groups. To actually get the groups, use str.extract.\n",
      "  # This is added back by InteractiveShellApp.init_path()\n"
     ]
    },
    {
     "name": "stderr",
     "output_type": "stream",
     "text": [
      "d:\\python\\lib\\site-packages\\ipykernel_launcher.py:13: SettingWithCopyWarning: \n",
      "A value is trying to be set on a copy of a slice from a DataFrame\n",
      "\n",
      "See the caveats in the documentation: http://pandas.pydata.org/pandas-docs/stable/indexing.html#indexing-view-versus-copy\n",
      "  del sys.path[0]\n",
      "d:\\python\\lib\\site-packages\\ipykernel_launcher.py:18: DeprecationWarning: Call to deprecated `__getitem__` (Method will be removed in 4.0.0, use self.wv.__getitem__() instead).\n",
      "d:\\python\\lib\\site-packages\\ipykernel_launcher.py:7: SettingWithCopyWarning: \n",
      "A value is trying to be set on a copy of a slice from a DataFrame\n",
      "\n",
      "See the caveats in the documentation: http://pandas.pydata.org/pandas-docs/stable/indexing.html#indexing-view-versus-copy\n",
      "  import sys\n",
      "d:\\python\\lib\\site-packages\\ipykernel_launcher.py:11: UserWarning: This pattern has match groups. To actually get the groups, use str.extract.\n",
      "  # This is added back by InteractiveShellApp.init_path()\n",
      "d:\\python\\lib\\site-packages\\ipykernel_launcher.py:13: SettingWithCopyWarning: \n",
      "A value is trying to be set on a copy of a slice from a DataFrame\n",
      "\n",
      "See the caveats in the documentation: http://pandas.pydata.org/pandas-docs/stable/indexing.html#indexing-view-versus-copy\n",
      "  del sys.path[0]\n",
      "d:\\python\\lib\\site-packages\\ipykernel_launcher.py:18: DeprecationWarning: Call to deprecated `__getitem__` (Method will be removed in 4.0.0, use self.wv.__getitem__() instead).\n",
      "d:\\python\\lib\\site-packages\\ipykernel_launcher.py:7: SettingWithCopyWarning: \n",
      "A value is trying to be set on a copy of a slice from a DataFrame\n",
      "\n",
      "See the caveats in the documentation: http://pandas.pydata.org/pandas-docs/stable/indexing.html#indexing-view-versus-copy\n",
      "  import sys\n",
      "d:\\python\\lib\\site-packages\\ipykernel_launcher.py:11: UserWarning: This pattern has match groups. To actually get the groups, use str.extract.\n",
      "  # This is added back by InteractiveShellApp.init_path()\n",
      "d:\\python\\lib\\site-packages\\ipykernel_launcher.py:13: SettingWithCopyWarning: \n",
      "A value is trying to be set on a copy of a slice from a DataFrame\n",
      "\n",
      "See the caveats in the documentation: http://pandas.pydata.org/pandas-docs/stable/indexing.html#indexing-view-versus-copy\n",
      "  del sys.path[0]\n",
      "d:\\python\\lib\\site-packages\\ipykernel_launcher.py:18: DeprecationWarning: Call to deprecated `__getitem__` (Method will be removed in 4.0.0, use self.wv.__getitem__() instead).\n",
      "d:\\python\\lib\\site-packages\\ipykernel_launcher.py:7: SettingWithCopyWarning: \n",
      "A value is trying to be set on a copy of a slice from a DataFrame\n",
      "\n",
      "See the caveats in the documentation: http://pandas.pydata.org/pandas-docs/stable/indexing.html#indexing-view-versus-copy\n",
      "  import sys\n",
      "d:\\python\\lib\\site-packages\\ipykernel_launcher.py:11: UserWarning: This pattern has match groups. To actually get the groups, use str.extract.\n",
      "  # This is added back by InteractiveShellApp.init_path()\n",
      "d:\\python\\lib\\site-packages\\ipykernel_launcher.py:13: SettingWithCopyWarning: \n",
      "A value is trying to be set on a copy of a slice from a DataFrame\n",
      "\n",
      "See the caveats in the documentation: http://pandas.pydata.org/pandas-docs/stable/indexing.html#indexing-view-versus-copy\n",
      "  del sys.path[0]\n",
      "d:\\python\\lib\\site-packages\\ipykernel_launcher.py:18: DeprecationWarning: Call to deprecated `__getitem__` (Method will be removed in 4.0.0, use self.wv.__getitem__() instead).\n",
      "d:\\python\\lib\\site-packages\\ipykernel_launcher.py:7: SettingWithCopyWarning: \n",
      "A value is trying to be set on a copy of a slice from a DataFrame\n",
      "\n",
      "See the caveats in the documentation: http://pandas.pydata.org/pandas-docs/stable/indexing.html#indexing-view-versus-copy\n",
      "  import sys\n",
      "d:\\python\\lib\\site-packages\\ipykernel_launcher.py:11: UserWarning: This pattern has match groups. To actually get the groups, use str.extract.\n",
      "  # This is added back by InteractiveShellApp.init_path()\n",
      "d:\\python\\lib\\site-packages\\ipykernel_launcher.py:13: SettingWithCopyWarning: \n",
      "A value is trying to be set on a copy of a slice from a DataFrame\n",
      "\n",
      "See the caveats in the documentation: http://pandas.pydata.org/pandas-docs/stable/indexing.html#indexing-view-versus-copy\n",
      "  del sys.path[0]\n",
      "d:\\python\\lib\\site-packages\\ipykernel_launcher.py:18: DeprecationWarning: Call to deprecated `__getitem__` (Method will be removed in 4.0.0, use self.wv.__getitem__() instead).\n",
      "d:\\python\\lib\\site-packages\\ipykernel_launcher.py:7: SettingWithCopyWarning: \n",
      "A value is trying to be set on a copy of a slice from a DataFrame\n",
      "\n",
      "See the caveats in the documentation: http://pandas.pydata.org/pandas-docs/stable/indexing.html#indexing-view-versus-copy\n",
      "  import sys\n",
      "d:\\python\\lib\\site-packages\\ipykernel_launcher.py:11: UserWarning: This pattern has match groups. To actually get the groups, use str.extract.\n",
      "  # This is added back by InteractiveShellApp.init_path()\n",
      "d:\\python\\lib\\site-packages\\ipykernel_launcher.py:13: SettingWithCopyWarning: \n",
      "A value is trying to be set on a copy of a slice from a DataFrame\n",
      "\n",
      "See the caveats in the documentation: http://pandas.pydata.org/pandas-docs/stable/indexing.html#indexing-view-versus-copy\n",
      "  del sys.path[0]\n",
      "d:\\python\\lib\\site-packages\\ipykernel_launcher.py:18: DeprecationWarning: Call to deprecated `__getitem__` (Method will be removed in 4.0.0, use self.wv.__getitem__() instead).\n",
      "d:\\python\\lib\\site-packages\\ipykernel_launcher.py:7: SettingWithCopyWarning: \n",
      "A value is trying to be set on a copy of a slice from a DataFrame\n",
      "\n",
      "See the caveats in the documentation: http://pandas.pydata.org/pandas-docs/stable/indexing.html#indexing-view-versus-copy\n",
      "  import sys\n",
      "d:\\python\\lib\\site-packages\\ipykernel_launcher.py:11: UserWarning: This pattern has match groups. To actually get the groups, use str.extract.\n",
      "  # This is added back by InteractiveShellApp.init_path()\n",
      "d:\\python\\lib\\site-packages\\ipykernel_launcher.py:13: SettingWithCopyWarning: \n",
      "A value is trying to be set on a copy of a slice from a DataFrame\n",
      "\n",
      "See the caveats in the documentation: http://pandas.pydata.org/pandas-docs/stable/indexing.html#indexing-view-versus-copy\n",
      "  del sys.path[0]\n",
      "d:\\python\\lib\\site-packages\\ipykernel_launcher.py:18: DeprecationWarning: Call to deprecated `__getitem__` (Method will be removed in 4.0.0, use self.wv.__getitem__() instead).\n",
      "d:\\python\\lib\\site-packages\\ipykernel_launcher.py:7: SettingWithCopyWarning: \n",
      "A value is trying to be set on a copy of a slice from a DataFrame\n",
      "\n",
      "See the caveats in the documentation: http://pandas.pydata.org/pandas-docs/stable/indexing.html#indexing-view-versus-copy\n",
      "  import sys\n",
      "d:\\python\\lib\\site-packages\\ipykernel_launcher.py:11: UserWarning: This pattern has match groups. To actually get the groups, use str.extract.\n",
      "  # This is added back by InteractiveShellApp.init_path()\n",
      "d:\\python\\lib\\site-packages\\ipykernel_launcher.py:13: SettingWithCopyWarning: \n",
      "A value is trying to be set on a copy of a slice from a DataFrame\n",
      "\n",
      "See the caveats in the documentation: http://pandas.pydata.org/pandas-docs/stable/indexing.html#indexing-view-versus-copy\n",
      "  del sys.path[0]\n",
      "d:\\python\\lib\\site-packages\\ipykernel_launcher.py:18: DeprecationWarning: Call to deprecated `__getitem__` (Method will be removed in 4.0.0, use self.wv.__getitem__() instead).\n",
      "d:\\python\\lib\\site-packages\\ipykernel_launcher.py:7: SettingWithCopyWarning: \n",
      "A value is trying to be set on a copy of a slice from a DataFrame\n",
      "\n",
      "See the caveats in the documentation: http://pandas.pydata.org/pandas-docs/stable/indexing.html#indexing-view-versus-copy\n",
      "  import sys\n",
      "d:\\python\\lib\\site-packages\\ipykernel_launcher.py:11: UserWarning: This pattern has match groups. To actually get the groups, use str.extract.\n",
      "  # This is added back by InteractiveShellApp.init_path()\n",
      "d:\\python\\lib\\site-packages\\ipykernel_launcher.py:13: SettingWithCopyWarning: \n",
      "A value is trying to be set on a copy of a slice from a DataFrame\n",
      "\n",
      "See the caveats in the documentation: http://pandas.pydata.org/pandas-docs/stable/indexing.html#indexing-view-versus-copy\n",
      "  del sys.path[0]\n"
     ]
    }
   ],
   "source": [
    "for i in range(17):\n",
    "    subset = list(set(all_cate[all_cate['parent_cat'].isin(subcate)]['child_cat']))\n",
    "    predict = pd_result(subset, model)\n",
    "    \n",
    "    predict['tf'] = predict['category'].str.contains(bbb, case = False)\n",
    "    index = predict[predict['tf'].isin([1]) & predict['y_predict'].isin([0])]['y_predict'].index\n",
    "    predict['y_predict'][index] = 1\n",
    "    if i < 5:\n",
    "        predict['tf'] = predict['category'].str.contains(aaa, case = False)\n",
    "    else:\n",
    "        predict['tf'] = predict['category'].str.contains(ccc, case = False)\n",
    "    index = predict[predict['tf'].isin([1]) & predict['y_predict'].isin([1])]['y_predict'].index\n",
    "    predict['y_predict'][index] = 0\n",
    "    \n",
    "    subcate = set(predict[predict['y_predict']==1]['category']) - set(result['category'])\n",
    "    subcate = subcate - invadd\n",
    "    invalid = set(predict[predict['y_predict']==0]['category'])\n",
    "    \n",
    "    \n",
    "    subcate_data = pd.DataFrame({'category': list(subcate),\n",
    "                                 'level':i+4,\n",
    "                                 'valid':'valid'})\n",
    "    invalid_data = pd.DataFrame({'category':list(invalid),\n",
    "                                 'level':i+4,\n",
    "                                 'valid':'invalid'})\n",
    "    result = pd.concat([result, subcate_data, invalid_data])"
   ]
  },
  {
   "cell_type": "code",
   "execution_count": 36,
   "metadata": {},
   "outputs": [],
   "source": [
    "result.index = range(len(result))\n",
    "remove = pd.read_csv('C:/Users/kanya/Desktop/kisti/netresult.txt', sep = '\\t')\n",
    "acc = pd.concat([result[result['valid'].isnull()], result[result['valid']=='valid']], 0)\n",
    "remove = set(acc['category'].tolist()).intersection(set(remove['cate'].tolist()))\n",
    "remove = remove - exc\n",
    "acc.index = range(len(acc))\n",
    "ind = []\n",
    "for i in range(len(acc)):\n",
    "    if acc['level'][i] >3:\n",
    "        if acc['category'][i] in remove:\n",
    "            a = 0\n",
    "        else:\n",
    "            ind.append(acc.index[i])\n",
    "    else:\n",
    "        ind.append(acc.index[i])\n",
    "finall = acc[acc['category'].index.isin(ind)]"
   ]
  },
  {
   "cell_type": "code",
   "execution_count": 37,
   "metadata": {},
   "outputs": [
    {
     "name": "stdout",
     "output_type": "stream",
     "text": [
      "Final categories\n",
      "7354\n"
     ]
    }
   ],
   "source": [
    "print('Final categories')\n",
    "print(len(finall))"
   ]
  },
  {
   "cell_type": "markdown",
   "metadata": {},
   "source": [
    "## Evaluation"
   ]
  },
  {
   "cell_type": "code",
   "execution_count": 32,
   "metadata": {},
   "outputs": [],
   "source": [
    "eva = pd.read_csv('C:/Users/kanya/Desktop/NA/level4.csv')"
   ]
  },
  {
   "cell_type": "code",
   "execution_count": 227,
   "metadata": {},
   "outputs": [
    {
     "name": "stdout",
     "output_type": "stream",
     "text": [
      "              precision    recall  f1-score   support\n",
      "\n",
      "           0       0.93      0.91      0.92       254\n",
      "           1       0.85      0.88      0.87       146\n",
      "\n",
      "    accuracy                           0.90       400\n",
      "   macro avg       0.89      0.90      0.89       400\n",
      "weighted avg       0.90      0.90      0.90       400\n",
      "\n"
     ]
    }
   ],
   "source": [
    "evaa = pd.merge(eva, finall, how = 'left')\n",
    "evaa = evaa.fillna(0).replace('valid', 1)\n",
    "evaa = evaa[evaa['level']==4]\n",
    "print(classification_report(evaa['result'], evaa['valid']))"
   ]
  },
  {
   "cell_type": "code",
   "execution_count": 228,
   "metadata": {},
   "outputs": [
    {
     "name": "stdout",
     "output_type": "stream",
     "text": [
      "              precision    recall  f1-score   support\n",
      "\n",
      "           0       0.96      0.98      0.97       333\n",
      "           1       0.87      0.79      0.83        67\n",
      "\n",
      "    accuracy                           0.94       400\n",
      "   macro avg       0.91      0.88      0.90       400\n",
      "weighted avg       0.94      0.94      0.94       400\n",
      "\n"
     ]
    }
   ],
   "source": [
    "evaa = pd.merge(eva, finall, how = 'left')\n",
    "evaa = evaa.fillna(0).replace('valid', 1)\n",
    "evaa = evaa[evaa['level']==5]\n",
    "print(classification_report(evaa['result'], evaa['valid']))"
   ]
  },
  {
   "cell_type": "code",
   "execution_count": 229,
   "metadata": {},
   "outputs": [
    {
     "name": "stdout",
     "output_type": "stream",
     "text": [
      "              precision    recall  f1-score   support\n",
      "\n",
      "           0       0.94      0.91      0.92       254\n",
      "           1       0.85      0.90      0.87       146\n",
      "\n",
      "    accuracy                           0.91       400\n",
      "   macro avg       0.89      0.90      0.90       400\n",
      "weighted avg       0.91      0.91      0.91       400\n",
      "\n"
     ]
    }
   ],
   "source": [
    "evaa1 = pd.merge(eva, result[result['valid']!='invalid'], how = 'left')\n",
    "evaa1 = evaa1.fillna(0).replace('valid', 1)\n",
    "\n",
    "evaa1 = evaa1[evaa1['level']==4]\n",
    "print(classification_report(evaa1['result'], evaa1['valid']))"
   ]
  },
  {
   "cell_type": "code",
   "execution_count": 230,
   "metadata": {},
   "outputs": [
    {
     "name": "stdout",
     "output_type": "stream",
     "text": [
      "              precision    recall  f1-score   support\n",
      "\n",
      "           0       0.96      0.98      0.97       333\n",
      "           1       0.87      0.79      0.83        67\n",
      "\n",
      "    accuracy                           0.94       400\n",
      "   macro avg       0.91      0.88      0.90       400\n",
      "weighted avg       0.94      0.94      0.94       400\n",
      "\n"
     ]
    }
   ],
   "source": [
    "evaa1 = pd.merge(eva, result[result['valid']!='invalid'], how = 'left')\n",
    "evaa1 = evaa1.fillna(0).replace('valid', 1)\n",
    "\n",
    "evaa1 = evaa1[evaa1['level']==5]\n",
    "print(classification_report(evaa1['result'], evaa1['valid']))"
   ]
  },
  {
   "cell_type": "code",
   "execution_count": 231,
   "metadata": {},
   "outputs": [
    {
     "name": "stdout",
     "output_type": "stream",
     "text": [
      "              precision    recall  f1-score   support\n",
      "\n",
      "           0       0.91      0.72      0.80       254\n",
      "           1       0.64      0.88      0.74       146\n",
      "\n",
      "    accuracy                           0.78       400\n",
      "   macro avg       0.78      0.80      0.77       400\n",
      "weighted avg       0.81      0.78      0.78       400\n",
      "\n"
     ]
    }
   ],
   "source": [
    "evaa2 = pd.merge(eva, result2[result2['valid']!='invalid'], how = 'left')\n",
    "evaa2 = evaa2.fillna(0).replace('valid', 1)\n",
    "evaa2 = evaa2[evaa2['level']==4]\n",
    "print(classification_report(evaa2['result'], evaa2['valid']))"
   ]
  },
  {
   "cell_type": "code",
   "execution_count": 232,
   "metadata": {},
   "outputs": [
    {
     "name": "stdout",
     "output_type": "stream",
     "text": [
      "              precision    recall  f1-score   support\n",
      "\n",
      "           0       0.98      0.91      0.94       333\n",
      "           1       0.66      0.90      0.76        67\n",
      "\n",
      "    accuracy                           0.91       400\n",
      "   macro avg       0.82      0.90      0.85       400\n",
      "weighted avg       0.92      0.91      0.91       400\n",
      "\n"
     ]
    }
   ],
   "source": [
    "evaa2 = pd.merge(eva, result2[result2['valid']!='invalid'], how = 'left')\n",
    "evaa2 = evaa2.fillna(0).replace('valid', 1)\n",
    "evaa2 = evaa2[evaa2['level']==5]\n",
    "print(classification_report(evaa2['result'], evaa2['valid']))"
   ]
  }
 ],
 "metadata": {
  "kernelspec": {
   "display_name": "Python 3",
   "language": "python",
   "name": "python3"
  },
  "language_info": {
   "codemirror_mode": {
    "name": "ipython",
    "version": 3
   },
   "file_extension": ".py",
   "mimetype": "text/x-python",
   "name": "python",
   "nbconvert_exporter": "python",
   "pygments_lexer": "ipython3",
   "version": "3.7.3"
  },
  "nbpresent": {
   "slides": {},
   "themes": {
    "default": "684bc88c-0e9c-488b-86ef-d84fda87030f",
    "theme": {
     "4e511d18-5036-41e9-9735-30efac0f68ad": {
      "backgrounds": {
       "dc7afa04-bf90-40b1-82a5-726e3cff5267": {
        "background-color": "31af15d2-7e15-44c5-ab5e-e04b16a89eff",
        "id": "dc7afa04-bf90-40b1-82a5-726e3cff5267"
       }
      },
      "id": "4e511d18-5036-41e9-9735-30efac0f68ad",
      "palette": {
       "19cc588f-0593-49c9-9f4b-e4d7cc113b1c": {
        "id": "19cc588f-0593-49c9-9f4b-e4d7cc113b1c",
        "rgb": [
         252,
         252,
         252
        ]
       },
       "31af15d2-7e15-44c5-ab5e-e04b16a89eff": {
        "id": "31af15d2-7e15-44c5-ab5e-e04b16a89eff",
        "rgb": [
         68,
         68,
         68
        ]
       },
       "50f92c45-a630-455b-aec3-788680ec7410": {
        "id": "50f92c45-a630-455b-aec3-788680ec7410",
        "rgb": [
         197,
         226,
         245
        ]
       },
       "c5cc3653-2ee1-402a-aba2-7caae1da4f6c": {
        "id": "c5cc3653-2ee1-402a-aba2-7caae1da4f6c",
        "rgb": [
         43,
         126,
         184
        ]
       },
       "efa7f048-9acb-414c-8b04-a26811511a21": {
        "id": "efa7f048-9acb-414c-8b04-a26811511a21",
        "rgb": [
         25.118061674008803,
         73.60176211453744,
         107.4819383259912
        ]
       }
      },
      "rules": {
       "a": {
        "color": "19cc588f-0593-49c9-9f4b-e4d7cc113b1c"
       },
       "blockquote": {
        "color": "50f92c45-a630-455b-aec3-788680ec7410",
        "font-size": 3
       },
       "code": {
        "font-family": "Anonymous Pro"
       },
       "h1": {
        "color": "19cc588f-0593-49c9-9f4b-e4d7cc113b1c",
        "font-family": "Merriweather",
        "font-size": 8
       },
       "h2": {
        "color": "19cc588f-0593-49c9-9f4b-e4d7cc113b1c",
        "font-family": "Merriweather",
        "font-size": 6
       },
       "h3": {
        "color": "50f92c45-a630-455b-aec3-788680ec7410",
        "font-family": "Lato",
        "font-size": 5.5
       },
       "h4": {
        "color": "c5cc3653-2ee1-402a-aba2-7caae1da4f6c",
        "font-family": "Lato",
        "font-size": 5
       },
       "h5": {
        "font-family": "Lato"
       },
       "h6": {
        "font-family": "Lato"
       },
       "h7": {
        "font-family": "Lato"
       },
       "li": {
        "color": "50f92c45-a630-455b-aec3-788680ec7410",
        "font-size": 3.25
       },
       "pre": {
        "font-family": "Anonymous Pro",
        "font-size": 4
       }
      },
      "text-base": {
       "color": "19cc588f-0593-49c9-9f4b-e4d7cc113b1c",
       "font-family": "Lato",
       "font-size": 4
      }
     },
     "684bc88c-0e9c-488b-86ef-d84fda87030f": {
      "backgrounds": {
       "dc7afa04-bf90-40b1-82a5-726e3cff5267": {
        "background-color": "31af15d2-7e15-44c5-ab5e-e04b16a89eff",
        "id": "dc7afa04-bf90-40b1-82a5-726e3cff5267"
       }
      },
      "id": "684bc88c-0e9c-488b-86ef-d84fda87030f",
      "palette": {
       "19cc588f-0593-49c9-9f4b-e4d7cc113b1c": {
        "id": "19cc588f-0593-49c9-9f4b-e4d7cc113b1c",
        "rgb": [
         252,
         252,
         252
        ]
       },
       "31af15d2-7e15-44c5-ab5e-e04b16a89eff": {
        "id": "31af15d2-7e15-44c5-ab5e-e04b16a89eff",
        "rgb": [
         68,
         68,
         68
        ]
       },
       "50f92c45-a630-455b-aec3-788680ec7410": {
        "id": "50f92c45-a630-455b-aec3-788680ec7410",
        "rgb": [
         197,
         226,
         245
        ]
       },
       "c5cc3653-2ee1-402a-aba2-7caae1da4f6c": {
        "id": "c5cc3653-2ee1-402a-aba2-7caae1da4f6c",
        "rgb": [
         43,
         126,
         184
        ]
       },
       "efa7f048-9acb-414c-8b04-a26811511a21": {
        "id": "efa7f048-9acb-414c-8b04-a26811511a21",
        "rgb": [
         25.118061674008803,
         73.60176211453744,
         107.4819383259912
        ]
       }
      },
      "rules": {
       "a": {
        "color": "19cc588f-0593-49c9-9f4b-e4d7cc113b1c"
       },
       "blockquote": {
        "color": "50f92c45-a630-455b-aec3-788680ec7410",
        "font-size": 3
       },
       "code": {
        "font-family": "Anonymous Pro"
       },
       "h1": {
        "color": "19cc588f-0593-49c9-9f4b-e4d7cc113b1c",
        "font-family": "Merriweather",
        "font-size": 8
       },
       "h2": {
        "color": "19cc588f-0593-49c9-9f4b-e4d7cc113b1c",
        "font-family": "Merriweather",
        "font-size": 6
       },
       "h3": {
        "color": "50f92c45-a630-455b-aec3-788680ec7410",
        "font-family": "Lato",
        "font-size": 5.5
       },
       "h4": {
        "color": "c5cc3653-2ee1-402a-aba2-7caae1da4f6c",
        "font-family": "Lato",
        "font-size": 5
       },
       "h5": {
        "font-family": "Lato"
       },
       "h6": {
        "font-family": "Lato"
       },
       "h7": {
        "font-family": "Lato"
       },
       "li": {
        "color": "50f92c45-a630-455b-aec3-788680ec7410",
        "font-size": 3.25
       },
       "pre": {
        "font-family": "Anonymous Pro",
        "font-size": 4
       }
      },
      "text-base": {
       "color": "19cc588f-0593-49c9-9f4b-e4d7cc113b1c",
       "font-family": "Lato",
       "font-size": 4
      }
     }
    }
   }
  }
 },
 "nbformat": 4,
 "nbformat_minor": 2
}
