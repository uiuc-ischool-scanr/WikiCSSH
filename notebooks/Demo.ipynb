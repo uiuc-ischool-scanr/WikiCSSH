{
 "cells": [
  {
   "cell_type": "code",
   "execution_count": 1,
   "metadata": {},
   "outputs": [],
   "source": [
    "from flashtext import KeywordProcessor\n",
    "import pandas as pd\n",
    "from pathlib import Path\n",
    "from collections import defaultdict\n",
    "from IPython.display import display, HTML\n",
    "from collections import OrderedDict\n",
    "import networkx as nx\n",
    "from ipywidgets import interact_manual, widgets, Layout"
   ]
  },
  {
   "cell_type": "markdown",
   "metadata": {},
   "source": [
    "## Exploring WikiCSSH"
   ]
  },
  {
   "cell_type": "code",
   "execution_count": 2,
   "metadata": {},
   "outputs": [
    {
     "name": "stdout",
     "output_type": "stream",
     "text": [
      "Wall time: 1.97 s\n"
     ]
    }
   ],
   "source": [
    "%%time\n",
    "cat2pages = pd.read_csv('../data/v1/WikiCSSH_category2page.csv').groupby(\"cat_title\").page_title.agg(list)"
   ]
  },
  {
   "cell_type": "code",
   "execution_count": 3,
   "metadata": {},
   "outputs": [],
   "source": [
    "def generated_WikiCSSH_graph():\n",
    "    df_categories = pd.read_csv('../data/v1/WikiCSSH_categories.csv')\n",
    "    df_category_links_all = pd.read_csv('../data/v1/WikiCSSH_category_links_all.csv')\n",
    "#     df_category_links_all = pd.concat([\n",
    "#         df_category_links,\n",
    "#         df_categories[df_categories.category.isin(root_child_cats)].rename(columns={\n",
    "#             \"category\": \"child_cat\", \n",
    "#             \"level\": \"child_level\",\n",
    "#         }).assign(parent_cat=\"<ROOT>\", parent_level=0),\n",
    "#         pd.DataFrame({\n",
    "#             \"parent_cat\": [\"\"],\n",
    "#             \"child_cat\": [\"<ROOT>\"],\n",
    "#             \"parent_level\": [-1],\n",
    "#             \"child_level\": [0],\n",
    "#         })\n",
    "#     ], axis=0, sort=True\n",
    "#     ).sort_values([\"parent_level\", \"child_level\"])\n",
    "\n",
    "    G = nx.DiGraph()\n",
    "    G.add_edges_from(\n",
    "        df_category_links_all\n",
    "        .set_index([\"parent_cat\", \"child_cat\"])\n",
    "        .to_dict(orient=\"index\", into=OrderedDict)\n",
    "    )\n",
    "    return G"
   ]
  },
  {
   "cell_type": "code",
   "execution_count": 4,
   "metadata": {},
   "outputs": [],
   "source": [
    "G = generated_WikiCSSH_graph()"
   ]
  },
  {
   "cell_type": "code",
   "execution_count": 5,
   "metadata": {},
   "outputs": [],
   "source": [
    "def show_context_of_category(node):\n",
    "    parents = list(G.predecessors(node))\n",
    "    children = list(G.neighbors(node))\n",
    "    table_header = \"<thead><tr><th>Parents</th><th>Node</th><th>Children</th></tr></thead>\"\n",
    "    parents_list = \"\\n\".join([f\"<li><a href='https://en.wikipedia.org/wiki/Category:{i}'>{i}</a></li>\" for i in parents])\n",
    "    children_list = \"\\n\".join([f\"<li><a href='https://en.wikipedia.org/wiki/Category:{i}'>{i}</a></li>\" for i in children])\n",
    "    node_list = f\"<li><a href='https://en.wikipedia.org/wiki/Category:{node}'>{node}</a></li>\"\n",
    "    page_list = \" | \".join([\n",
    "        f\"<a href='https://en.wikipedia.org/wiki/{i}'>{i}</a>\"\n",
    "        for i in cat2pages[node]\n",
    "    ])\n",
    "    table_body = f\"\"\"<tbody>\n",
    "    <tr>\n",
    "        <td><ul>{parents_list}</ul></td>\n",
    "        <td style='background-color: pink'>{node_list}</td>\n",
    "        <td><ul>{children_list}</ul></td>\n",
    "    </tr>\n",
    "    <tr><td colspan='3'><strong>Pages</strong><br/>{page_list}</td></tr>\n",
    "    </tbody>\"\"\"\n",
    "    div = f\"\"\"\n",
    "    <style>.wikicssh td, .wikicssh th {{text-align:left}}</style>\n",
    "    <div class='wikicssh'>\n",
    "    <table>{table_header}{table_body}</table>\n",
    "    </div>\"\"\"\n",
    "    return HTML(div)"
   ]
  },
  {
   "cell_type": "code",
   "execution_count": 6,
   "metadata": {},
   "outputs": [
    {
     "data": {
      "text/html": [
       "\n",
       "    <style>.wikicssh td, .wikicssh th {text-align:left}</style>\n",
       "    <div class='wikicssh'>\n",
       "    <table><thead><tr><th>Parents</th><th>Node</th><th>Children</th></tr></thead><tbody>\n",
       "    <tr>\n",
       "        <td><ul><li><a href='https://en.wikipedia.org/wiki/Category:Areas_of_computer_science'>Areas_of_computer_science</a></li>\n",
       "<li><a href='https://en.wikipedia.org/wiki/Category:Unsolved_problems_in_computer_science'>Unsolved_problems_in_computer_science</a></li></ul></td>\n",
       "        <td style='background-color: pink'><li><a href='https://en.wikipedia.org/wiki/Category:Artificial_intelligence'>Artificial_intelligence</a></li></td>\n",
       "        <td><ul><li><a href='https://en.wikipedia.org/wiki/Category:Fuzzy_logic'>Fuzzy_logic</a></li>\n",
       "<li><a href='https://en.wikipedia.org/wiki/Category:Machine_learning'>Machine_learning</a></li>\n",
       "<li><a href='https://en.wikipedia.org/wiki/Category:Turing_tests'>Turing_tests</a></li>\n",
       "<li><a href='https://en.wikipedia.org/wiki/Category:Rule_engines'>Rule_engines</a></li>\n",
       "<li><a href='https://en.wikipedia.org/wiki/Category:Robots'>Robots</a></li>\n",
       "<li><a href='https://en.wikipedia.org/wiki/Category:Computer_vision'>Computer_vision</a></li>\n",
       "<li><a href='https://en.wikipedia.org/wiki/Category:Logic_programming'>Logic_programming</a></li>\n",
       "<li><a href='https://en.wikipedia.org/wiki/Category:Open_source_artificial_intelligence'>Open_source_artificial_intelligence</a></li>\n",
       "<li><a href='https://en.wikipedia.org/wiki/Category:Virtual_assistants'>Virtual_assistants</a></li>\n",
       "<li><a href='https://en.wikipedia.org/wiki/Category:Cloud_robotics'>Cloud_robotics</a></li>\n",
       "<li><a href='https://en.wikipedia.org/wiki/Category:Game_artificial_intelligence'>Game_artificial_intelligence</a></li>\n",
       "<li><a href='https://en.wikipedia.org/wiki/Category:AI_accelerators'>AI_accelerators</a></li>\n",
       "<li><a href='https://en.wikipedia.org/wiki/Category:Affective_computing'>Affective_computing</a></li>\n",
       "<li><a href='https://en.wikipedia.org/wiki/Category:Cognitive_architecture'>Cognitive_architecture</a></li>\n",
       "<li><a href='https://en.wikipedia.org/wiki/Category:Artificial_intelligence_applications'>Artificial_intelligence_applications</a></li>\n",
       "<li><a href='https://en.wikipedia.org/wiki/Category:Artificial_immune_systems'>Artificial_immune_systems</a></li>\n",
       "<li><a href='https://en.wikipedia.org/wiki/Category:Robotics'>Robotics</a></li>\n",
       "<li><a href='https://en.wikipedia.org/wiki/Category:Artificial_Intelligence_existential_risk'>Artificial_Intelligence_existential_risk</a></li>\n",
       "<li><a href='https://en.wikipedia.org/wiki/Category:Evolutionary_computation'>Evolutionary_computation</a></li></ul></td>\n",
       "    </tr>\n",
       "    <tr><td colspan='3'><strong>Pages</strong><br/><a href='https://en.wikipedia.org/wiki/User_behavior_analytics'>User_behavior_analytics</a> | <a href='https://en.wikipedia.org/wiki/FEDOR_(Armed_AI_bot)'>FEDOR_(Armed_AI_bot)</a> | <a href='https://en.wikipedia.org/wiki/Intelligent_word_recognition'>Intelligent_word_recognition</a> | <a href='https://en.wikipedia.org/wiki/Autonomous_agent'>Autonomous_agent</a> | <a href='https://en.wikipedia.org/wiki/List_of_programming_languages_for_artificial_intelligence'>List_of_programming_languages_for_artificial_intelligence</a> | <a href='https://en.wikipedia.org/wiki/Virtual_intelligence'>Virtual_intelligence</a> | <a href='https://en.wikipedia.org/wiki/Radiant_AI'>Radiant_AI</a> | <a href='https://en.wikipedia.org/wiki/Knowledge-based_recommender_system'>Knowledge-based_recommender_system</a> | <a href='https://en.wikipedia.org/wiki/Situated'>Situated</a> | <a href='https://en.wikipedia.org/wiki/Colloquis'>Colloquis</a> | <a href='https://en.wikipedia.org/wiki/Embodied_agent'>Embodied_agent</a> | <a href='https://en.wikipedia.org/wiki/Moral_Machine'>Moral_Machine</a> | <a href='https://en.wikipedia.org/wiki/Winner-take-all_in_action_selection'>Winner-take-all_in_action_selection</a> | <a href='https://en.wikipedia.org/wiki/Onnx'>Onnx</a> | <a href='https://en.wikipedia.org/wiki/Dartmouth_workshop'>Dartmouth_workshop</a> | <a href='https://en.wikipedia.org/wiki/Fuzzy_logic'>Fuzzy_logic</a> | <a href='https://en.wikipedia.org/wiki/Knowledge_compilation'>Knowledge_compilation</a> | <a href='https://en.wikipedia.org/wiki/Music_and_artificial_intelligence'>Music_and_artificial_intelligence</a> | <a href='https://en.wikipedia.org/wiki/Trenchard_More'>Trenchard_More</a> | <a href='https://en.wikipedia.org/wiki/Artificial_empathy'>Artificial_empathy</a> | <a href='https://en.wikipedia.org/wiki/Artificial_intelligence,_situated_approach'>Artificial_intelligence,_situated_approach</a> | <a href='https://en.wikipedia.org/wiki/3D_reconstruction_from_multiple_images'>3D_reconstruction_from_multiple_images</a> | <a href='https://en.wikipedia.org/wiki/Roborace'>Roborace</a> | <a href='https://en.wikipedia.org/wiki/Multi-Agent_Programming_Contest'>Multi-Agent_Programming_Contest</a> | <a href='https://en.wikipedia.org/wiki/VaultML'>VaultML</a> | <a href='https://en.wikipedia.org/wiki/Fred_(chatterbot)'>Fred_(chatterbot)</a> | <a href='https://en.wikipedia.org/wiki/Automated_personal_assistant'>Automated_personal_assistant</a> | <a href='https://en.wikipedia.org/wiki/Computer_audition'>Computer_audition</a> | <a href='https://en.wikipedia.org/wiki/Stochastic_semantic_analysis'>Stochastic_semantic_analysis</a> | <a href='https://en.wikipedia.org/wiki/Structure_mapping_engine'>Structure_mapping_engine</a> | <a href='https://en.wikipedia.org/wiki/Artificial_imagination'>Artificial_imagination</a> | <a href='https://en.wikipedia.org/wiki/Game_theory'>Game_theory</a> | <a href='https://en.wikipedia.org/wiki/Algorithmic_probability'>Algorithmic_probability</a> | <a href='https://en.wikipedia.org/wiki/API.AI'>API.AI</a> | <a href='https://en.wikipedia.org/wiki/Percept_(artificial_intelligence)'>Percept_(artificial_intelligence)</a> | <a href='https://en.wikipedia.org/wiki/Maluuba'>Maluuba</a> | <a href='https://en.wikipedia.org/wiki/ADS-AC'>ADS-AC</a> | <a href='https://en.wikipedia.org/wiki/SUPS'>SUPS</a> | <a href='https://en.wikipedia.org/wiki/Automated_Mathematician'>Automated_Mathematician</a> | <a href='https://en.wikipedia.org/wiki/Web_intelligence'>Web_intelligence</a> | <a href='https://en.wikipedia.org/wiki/DeepDream'>DeepDream</a> | <a href='https://en.wikipedia.org/wiki/LIDA_(cognitive_architecture)'>LIDA_(cognitive_architecture)</a> | <a href='https://en.wikipedia.org/wiki/Shyster_(expert_system)'>Shyster_(expert_system)</a> | <a href='https://en.wikipedia.org/wiki/Recurrent_neural_network'>Recurrent_neural_network</a> | <a href='https://en.wikipedia.org/wiki/Artificial_brain'>Artificial_brain</a> | <a href='https://en.wikipedia.org/wiki/Color_moments'>Color_moments</a> | <a href='https://en.wikipedia.org/wiki/Legal_expert_system'>Legal_expert_system</a> | <a href='https://en.wikipedia.org/wiki/Admissible_heuristic'>Admissible_heuristic</a> | <a href='https://en.wikipedia.org/wiki/Reasoning_system'>Reasoning_system</a> | <a href='https://en.wikipedia.org/wiki/NewsRx'>NewsRx</a> | <a href='https://en.wikipedia.org/wiki/Language_Acquisition_Device_(computer)'>Language_Acquisition_Device_(computer)</a> | <a href='https://en.wikipedia.org/wiki/Collective_intelligence'>Collective_intelligence</a> | <a href='https://en.wikipedia.org/wiki/Psychology_of_reasoning'>Psychology_of_reasoning</a> | <a href='https://en.wikipedia.org/wiki/Commonsense_reasoning'>Commonsense_reasoning</a> | <a href='https://en.wikipedia.org/wiki/Symbol_level'>Symbol_level</a> | <a href='https://en.wikipedia.org/wiki/Agent_systems_reference_model'>Agent_systems_reference_model</a> | <a href='https://en.wikipedia.org/wiki/Gxc3xb6del_machine'>Gxc3xb6del_machine</a> | <a href='https://en.wikipedia.org/wiki/Probabilistic_logic_network'>Probabilistic_logic_network</a> | <a href='https://en.wikipedia.org/wiki/Behavior_informatics'>Behavior_informatics</a> | <a href='https://en.wikipedia.org/wiki/Chess_as_mental_training'>Chess_as_mental_training</a> | <a href='https://en.wikipedia.org/wiki/Belief-desire-intention_model'>Belief-desire-intention_model</a> | <a href='https://en.wikipedia.org/wiki/KL-ONE'>KL-ONE</a> | <a href='https://en.wikipedia.org/wiki/Meca_Sapiens'>Meca_Sapiens</a> | <a href='https://en.wikipedia.org/wiki/List_of_artificial_intelligence_projects'>List_of_artificial_intelligence_projects</a> | <a href='https://en.wikipedia.org/wiki/Artificial_general_intelligence'>Artificial_general_intelligence</a> | <a href='https://en.wikipedia.org/wiki/Susan_Schneider_(philosopher)'>Susan_Schneider_(philosopher)</a> | <a href='https://en.wikipedia.org/wiki/Fast-And-Frugal_trees'>Fast-And-Frugal_trees</a> | <a href='https://en.wikipedia.org/wiki/Language/action_perspective'>Language/action_perspective</a> | <a href='https://en.wikipedia.org/wiki/Recursive_neural_network'>Recursive_neural_network</a> | <a href='https://en.wikipedia.org/wiki/Artificial_intuition'>Artificial_intuition</a> | <a href='https://en.wikipedia.org/wiki/Machine_perception'>Machine_perception</a> | <a href='https://en.wikipedia.org/wiki/Nouvelle_AI'>Nouvelle_AI</a> | <a href='https://en.wikipedia.org/wiki/Voice_Mate'>Voice_Mate</a> | <a href='https://en.wikipedia.org/wiki/Babelfy'>Babelfy</a> | <a href='https://en.wikipedia.org/wiki/Loebner_Prize'>Loebner_Prize</a> | <a href='https://en.wikipedia.org/wiki/Type-1_OWA_operators'>Type-1_OWA_operators</a> | <a href='https://en.wikipedia.org/wiki/Gomocup'>Gomocup</a> | <a href='https://en.wikipedia.org/wiki/Epistemic_modal_logic'>Epistemic_modal_logic</a> | <a href='https://en.wikipedia.org/wiki/Instrumental_convergence'>Instrumental_convergence</a> | <a href='https://en.wikipedia.org/wiki/Cerebellar_model_articulation_controller'>Cerebellar_model_articulation_controller</a> | <a href='https://en.wikipedia.org/wiki/List_of_datasets_for_machine-learning_research'>List_of_datasets_for_machine-learning_research</a> | <a href='https://en.wikipedia.org/wiki/Thompson_sampling'>Thompson_sampling</a> | <a href='https://en.wikipedia.org/wiki/Backward_chaining'>Backward_chaining</a> | <a href='https://en.wikipedia.org/wiki/IRCF360'>IRCF360</a> | <a href='https://en.wikipedia.org/wiki/Computer_vision'>Computer_vision</a> | <a href='https://en.wikipedia.org/wiki/Computer-assisted_proof'>Computer-assisted_proof</a> | <a href='https://en.wikipedia.org/wiki/Blackboard_system'>Blackboard_system</a> | <a href='https://en.wikipedia.org/wiki/Qloo'>Qloo</a> | <a href='https://en.wikipedia.org/wiki/Hierarchical_control_system'>Hierarchical_control_system</a> | <a href='https://en.wikipedia.org/wiki/Kinect'>Kinect</a> | <a href='https://en.wikipedia.org/wiki/Enterprise_cognitive_system'>Enterprise_cognitive_system</a> | <a href='https://en.wikipedia.org/wiki/Uncanny_valley'>Uncanny_valley</a> | <a href='https://en.wikipedia.org/wiki/Embodied_cognitive_science'>Embodied_cognitive_science</a> | <a href='https://en.wikipedia.org/wiki/Neuro-fuzzy'>Neuro-fuzzy</a> | <a href='https://en.wikipedia.org/wiki/A.I._Artificial_Intelligence'>A.I._Artificial_Intelligence</a> | <a href='https://en.wikipedia.org/wiki/Ontology_engineering'>Ontology_engineering</a> | <a href='https://en.wikipedia.org/wiki/Knowledge_acquisition'>Knowledge_acquisition</a> | <a href='https://en.wikipedia.org/wiki/Syman'>Syman</a> | <a href='https://en.wikipedia.org/wiki/Behavior_tree_(artificial_intelligence,_robotics_and_control)'>Behavior_tree_(artificial_intelligence,_robotics_and_control)</a> | <a href='https://en.wikipedia.org/wiki/Google.ai'>Google.ai</a> | <a href='https://en.wikipedia.org/wiki/ACROSS_Project'>ACROSS_Project</a> | <a href='https://en.wikipedia.org/wiki/International_Conference_on_Autonomous_Agents_and_Multiagent_Systems'>International_Conference_on_Autonomous_Agents_and_Multiagent_Systems</a> | <a href='https://en.wikipedia.org/wiki/AIVA'>AIVA</a> | <a href='https://en.wikipedia.org/wiki/Neural_computation'>Neural_computation</a> | <a href='https://en.wikipedia.org/wiki/Cloud_robotics'>Cloud_robotics</a> | <a href='https://en.wikipedia.org/wiki/Chatterbox_Challenge'>Chatterbox_Challenge</a> | <a href='https://en.wikipedia.org/wiki/Singleton_(global_governance)'>Singleton_(global_governance)</a> | <a href='https://en.wikipedia.org/wiki/Project_Joshua_Blue'>Project_Joshua_Blue</a> | <a href='https://en.wikipedia.org/wiki/0music'>0music</a> | <a href='https://en.wikipedia.org/wiki/Emily_Howell'>Emily_Howell</a> | <a href='https://en.wikipedia.org/wiki/Rule-based_system'>Rule-based_system</a> | <a href='https://en.wikipedia.org/wiki/Knowledge_level'>Knowledge_level</a> | <a href='https://en.wikipedia.org/wiki/Personoid'>Personoid</a> | <a href='https://en.wikipedia.org/wiki/Lawbot'>Lawbot</a> | <a href='https://en.wikipedia.org/wiki/Cobweb_(clustering)'>Cobweb_(clustering)</a> | <a href='https://en.wikipedia.org/wiki/Noogenesis'>Noogenesis</a> | <a href='https://en.wikipedia.org/wiki/Incremental_heuristic_search'>Incremental_heuristic_search</a> | <a href='https://en.wikipedia.org/wiki/Ontology_learning'>Ontology_learning</a> | <a href='https://en.wikipedia.org/wiki/Moravec's_paradox'>Moravec's_paradox</a> | <a href='https://en.wikipedia.org/wiki/Argumentation_framework'>Argumentation_framework</a> | <a href='https://en.wikipedia.org/wiki/Right_to_explanation'>Right_to_explanation</a> | <a href='https://en.wikipedia.org/wiki/ICarbonX'>ICarbonX</a> | <a href='https://en.wikipedia.org/wiki/Knowledge_Based_Software_Assistant'>Knowledge_Based_Software_Assistant</a> | <a href='https://en.wikipedia.org/wiki/Cognitive_philology'>Cognitive_philology</a> | <a href='https://en.wikipedia.org/wiki/Inductive_programming'>Inductive_programming</a> | <a href='https://en.wikipedia.org/wiki/The_Leaf_(AI)_Project'>The_Leaf_(AI)_Project</a> | <a href='https://en.wikipedia.org/wiki/Hybrid_intelligent_system'>Hybrid_intelligent_system</a> | <a href='https://en.wikipedia.org/wiki/Extremal_optimization'>Extremal_optimization</a> | <a href='https://en.wikipedia.org/wiki/Differentiable_neural_computer'>Differentiable_neural_computer</a> | <a href='https://en.wikipedia.org/wiki/Artificial_intelligence_for_video_surveillance'>Artificial_intelligence_for_video_surveillance</a> | <a href='https://en.wikipedia.org/wiki/MNIST_database'>MNIST_database</a> | <a href='https://en.wikipedia.org/wiki/Medical_intelligence_and_language_engineering_lab'>Medical_intelligence_and_language_engineering_lab</a> | <a href='https://en.wikipedia.org/wiki/Contextual_image_classification'>Contextual_image_classification</a> | <a href='https://en.wikipedia.org/wiki/Hybrid_neural_network'>Hybrid_neural_network</a> | <a href='https://en.wikipedia.org/wiki/Applications_of_artificial_intelligence'>Applications_of_artificial_intelligence</a> | <a href='https://en.wikipedia.org/wiki/Oriented_Energy_Filters'>Oriented_Energy_Filters</a> | <a href='https://en.wikipedia.org/wiki/Model-based_reasoning'>Model-based_reasoning</a> | <a href='https://en.wikipedia.org/wiki/Neural_network_software'>Neural_network_software</a> | <a href='https://en.wikipedia.org/wiki/Intelligent_agent'>Intelligent_agent</a> | <a href='https://en.wikipedia.org/wiki/Synthetic_Environment_for_Analysis_and_Simulations'>Synthetic_Environment_for_Analysis_and_Simulations</a> | <a href='https://en.wikipedia.org/wiki/Concurrent_MetateM'>Concurrent_MetateM</a> | <a href='https://en.wikipedia.org/wiki/Open_Information_Extraction'>Open_Information_Extraction</a> | <a href='https://en.wikipedia.org/wiki/Data_pack'>Data_pack</a> | <a href='https://en.wikipedia.org/wiki/DAYDREAMER'>DAYDREAMER</a> | <a href='https://en.wikipedia.org/wiki/Knowledge-based_configuration'>Knowledge-based_configuration</a> | <a href='https://en.wikipedia.org/wiki/Deductive_classifier'>Deductive_classifier</a> | <a href='https://en.wikipedia.org/wiki/OpenCog'>OpenCog</a> | <a href='https://en.wikipedia.org/wiki/Manifold_integration'>Manifold_integration</a> | <a href='https://en.wikipedia.org/wiki/Perceptual_computing'>Perceptual_computing</a> | <a href='https://en.wikipedia.org/wiki/Anytime_algorithm'>Anytime_algorithm</a> | <a href='https://en.wikipedia.org/wiki/Mivar-based_approach'>Mivar-based_approach</a> | <a href='https://en.wikipedia.org/wiki/Neurorobotics'>Neurorobotics</a> | <a href='https://en.wikipedia.org/wiki/Plug_&_Pray'>Plug_&_Pray</a> | <a href='https://en.wikipedia.org/wiki/Zeuthen_strategy'>Zeuthen_strategy</a> | <a href='https://en.wikipedia.org/wiki/Computational_humor'>Computational_humor</a> | <a href='https://en.wikipedia.org/wiki/Puckstering'>Puckstering</a> | <a href='https://en.wikipedia.org/wiki/Schema-agnostic_databases'>Schema-agnostic_databases</a> | <a href='https://en.wikipedia.org/wiki/Fuzzy_agent'>Fuzzy_agent</a> | <a href='https://en.wikipedia.org/wiki/Brain_technology'>Brain_technology</a> | <a href='https://en.wikipedia.org/wiki/Intel_RealSense'>Intel_RealSense</a> | <a href='https://en.wikipedia.org/wiki/User_illusion'>User_illusion</a> | <a href='https://en.wikipedia.org/wiki/Cognitive_computer'>Cognitive_computer</a> | <a href='https://en.wikipedia.org/wiki/Open_Letter_on_Artificial_Intelligence'>Open_Letter_on_Artificial_Intelligence</a> | <a href='https://en.wikipedia.org/wiki/Turing_Robot'>Turing_Robot</a> | <a href='https://en.wikipedia.org/wiki/March_of_the_Machines'>March_of_the_Machines</a> | <a href='https://en.wikipedia.org/wiki/NTU_RGB-D_dataset'>NTU_RGB-D_dataset</a> | <a href='https://en.wikipedia.org/wiki/IJCAI_Computers_and_Thought_Award'>IJCAI_Computers_and_Thought_Award</a> | <a href='https://en.wikipedia.org/wiki/Mind-body_problem'>Mind-body_problem</a> | <a href='https://en.wikipedia.org/wiki/Computational_Heuristic_Intelligence'>Computational_Heuristic_Intelligence</a> | <a href='https://en.wikipedia.org/wiki/Ordered_weighted_averaging_aggregation_operator'>Ordered_weighted_averaging_aggregation_operator</a> | <a href='https://en.wikipedia.org/wiki/Distributed_artificial_intelligence'>Distributed_artificial_intelligence</a> | <a href='https://en.wikipedia.org/wiki/Darwin_machine'>Darwin_machine</a> | <a href='https://en.wikipedia.org/wiki/SNePS'>SNePS</a> | <a href='https://en.wikipedia.org/wiki/Glossary_of_artificial_intelligence'>Glossary_of_artificial_intelligence</a> | <a href='https://en.wikipedia.org/wiki/Soft_computing'>Soft_computing</a> | <a href='https://en.wikipedia.org/wiki/Intelligent_control'>Intelligent_control</a> | <a href='https://en.wikipedia.org/wiki/Anticipation_(artificial_intelligence)'>Anticipation_(artificial_intelligence)</a> | <a href='https://en.wikipedia.org/wiki/Expert_system'>Expert_system</a> | <a href='https://en.wikipedia.org/wiki/Catastrophic_interference'>Catastrophic_interference</a> | <a href='https://en.wikipedia.org/wiki/Knowledge-based_systems'>Knowledge-based_systems</a> | <a href='https://en.wikipedia.org/wiki/Means-ends_analysis'>Means-ends_analysis</a> | <a href='https://en.wikipedia.org/wiki/Spreading_activation'>Spreading_activation</a> | <a href='https://en.wikipedia.org/wiki/POP-11'>POP-11</a> | <a href='https://en.wikipedia.org/wiki/Rough_fuzzy_hybridization'>Rough_fuzzy_hybridization</a> | <a href='https://en.wikipedia.org/wiki/Natural_language_understanding'>Natural_language_understanding</a> | <a href='https://en.wikipedia.org/wiki/Artificial_psychology'>Artificial_psychology</a> | <a href='https://en.wikipedia.org/wiki/Vaumpus_world'>Vaumpus_world</a> | <a href='https://en.wikipedia.org/wiki/Scilab_Image_Processing'>Scilab_Image_Processing</a> | <a href='https://en.wikipedia.org/wiki/Emospark'>Emospark</a> | <a href='https://en.wikipedia.org/wiki/Hindsight_optimization'>Hindsight_optimization</a> | <a href='https://en.wikipedia.org/wiki/Self-management_(computer_science)'>Self-management_(computer_science)</a> | <a href='https://en.wikipedia.org/wiki/Connectionist_expert_system'>Connectionist_expert_system</a> | <a href='https://en.wikipedia.org/wiki/Cognitive_infocommunications'>Cognitive_infocommunications</a> | <a href='https://en.wikipedia.org/wiki/Wetware_(brain)'>Wetware_(brain)</a> | <a href='https://en.wikipedia.org/wiki/Luminoso'>Luminoso</a> | <a href='https://en.wikipedia.org/wiki/Mycroft_(software)'>Mycroft_(software)</a> | <a href='https://en.wikipedia.org/wiki/Principle_of_rationality'>Principle_of_rationality</a> | <a href='https://en.wikipedia.org/wiki/Sensorium_Project'>Sensorium_Project</a> | <a href='https://en.wikipedia.org/wiki/MANIC_(Cognitive_Architecture)'>MANIC_(Cognitive_Architecture)</a> | <a href='https://en.wikipedia.org/wiki/Competitions_and_prizes_in_artificial_intelligence'>Competitions_and_prizes_in_artificial_intelligence</a> | <a href='https://en.wikipedia.org/wiki/Any-angle_path_planning'>Any-angle_path_planning</a> | <a href='https://en.wikipedia.org/wiki/Manifold_alignment'>Manifold_alignment</a> | <a href='https://en.wikipedia.org/wiki/Conference_on_Semantics_in_Healthcare_and_Life_Sciences'>Conference_on_Semantics_in_Healthcare_and_Life_Sciences</a> | <a href='https://en.wikipedia.org/wiki/Cognitive_computing'>Cognitive_computing</a> | <a href='https://en.wikipedia.org/wiki/Natural_language_processing'>Natural_language_processing</a> | <a href='https://en.wikipedia.org/wiki/Informatics'>Informatics</a> | <a href='https://en.wikipedia.org/wiki/Diagnosis_(artificial_intelligence)'>Diagnosis_(artificial_intelligence)</a> | <a href='https://en.wikipedia.org/wiki/Constructionist_design_methodology'>Constructionist_design_methodology</a> | <a href='https://en.wikipedia.org/wiki/Australian_Artificial_Intelligence_Institute'>Australian_Artificial_Intelligence_Institute</a> | <a href='https://en.wikipedia.org/wiki/S_Voice'>S_Voice</a> | <a href='https://en.wikipedia.org/wiki/AI-complete'>AI-complete</a> | <a href='https://en.wikipedia.org/wiki/Generalized_distributive_law'>Generalized_distributive_law</a> | <a href='https://en.wikipedia.org/wiki/Computational_intelligence'>Computational_intelligence</a> | <a href='https://en.wikipedia.org/wiki/Angel_F'>Angel_F</a> | <a href='https://en.wikipedia.org/wiki/AgentSheets'>AgentSheets</a> | <a href='https://en.wikipedia.org/wiki/WordDive'>WordDive</a> | <a href='https://en.wikipedia.org/wiki/Frame_problem'>Frame_problem</a> | <a href='https://en.wikipedia.org/wiki/Intelligent_decision_support_system'>Intelligent_decision_support_system</a> | <a href='https://en.wikipedia.org/wiki/Problem_solving'>Problem_solving</a> | <a href='https://en.wikipedia.org/wiki/Kuwahara_filter'>Kuwahara_filter</a> | <a href='https://en.wikipedia.org/wiki/Artificial_intelligence'>Artificial_intelligence</a> | <a href='https://en.wikipedia.org/wiki/Leverhulme_Centre_for_the_Future_of_Intelligence'>Leverhulme_Centre_for_the_Future_of_Intelligence</a> | <a href='https://en.wikipedia.org/wiki/BabyX'>BabyX</a> | <a href='https://en.wikipedia.org/wiki/Weak_AI'>Weak_AI</a> | <a href='https://en.wikipedia.org/wiki/Autognostics'>Autognostics</a> | <a href='https://en.wikipedia.org/wiki/Bayesian_programming'>Bayesian_programming</a> | <a href='https://en.wikipedia.org/wiki/Outline_of_machine_learning'>Outline_of_machine_learning</a> | <a href='https://en.wikipedia.org/wiki/Rational_agent'>Rational_agent</a> | <a href='https://en.wikipedia.org/wiki/And-or_tree'>And-or_tree</a> | <a href='https://en.wikipedia.org/wiki/DragonLord_Enterprises,_Inc.'>DragonLord_Enterprises,_Inc.</a> | <a href='https://en.wikipedia.org/wiki/CALO'>CALO</a> | <a href='https://en.wikipedia.org/wiki/Alesis_Artificial_Intelligence'>Alesis_Artificial_Intelligence</a> | <a href='https://en.wikipedia.org/wiki/Neural_modeling_fields'>Neural_modeling_fields</a> | <a href='https://en.wikipedia.org/wiki/Discovery_system'>Discovery_system</a> | <a href='https://en.wikipedia.org/wiki/Histogram_of_oriented_displacements'>Histogram_of_oriented_displacements</a> | <a href='https://en.wikipedia.org/wiki/ASR-complete'>ASR-complete</a> | <a href='https://en.wikipedia.org/wiki/Pattern_theory'>Pattern_theory</a> | <a href='https://en.wikipedia.org/wiki/Explainable_AI'>Explainable_AI</a> | <a href='https://en.wikipedia.org/wiki/The_Fable_of_Oscar'>The_Fable_of_Oscar</a> | <a href='https://en.wikipedia.org/wiki/Automated_reasoning'>Automated_reasoning</a> | <a href='https://en.wikipedia.org/wiki/OpenAIR'>OpenAIR</a> | <a href='https://en.wikipedia.org/wiki/Intelligent_database'>Intelligent_database</a> | <a href='https://en.wikipedia.org/wiki/GENESIS_(software)'>GENESIS_(software)</a> | <a href='https://en.wikipedia.org/wiki/Mindpixel'>Mindpixel</a> | <a href='https://en.wikipedia.org/wiki/Google'>Google</a> | <a href='https://en.wikipedia.org/wiki/Action_selection'>Action_selection</a> | <a href='https://en.wikipedia.org/wiki/Gabbay's_separation_theorem'>Gabbay's_separation_theorem</a> | <a href='https://en.wikipedia.org/wiki/Allen_(robot)'>Allen_(robot)</a> | <a href='https://en.wikipedia.org/wiki/Extreme:_Personal_Assistant'>Extreme:_Personal_Assistant</a> | <a href='https://en.wikipedia.org/wiki/Outline_of_artificial_intelligence'>Outline_of_artificial_intelligence</a> | <a href='https://en.wikipedia.org/wiki/Wojciech_Zaremba'>Wojciech_Zaremba</a> | <a href='https://en.wikipedia.org/wiki/Clone_Algo_Inc'>Clone_Algo_Inc</a> | <a href='https://en.wikipedia.org/wiki/Cognitive_tutor'>Cognitive_tutor</a> | <a href='https://en.wikipedia.org/wiki/Industrial_artificial_intelligence'>Industrial_artificial_intelligence</a> | <a href='https://en.wikipedia.org/wiki/Description_logic'>Description_logic</a> | <a href='https://en.wikipedia.org/wiki/Evolving_intelligent_system'>Evolving_intelligent_system</a> | <a href='https://en.wikipedia.org/wiki/Autonomic_computing'>Autonomic_computing</a> | <a href='https://en.wikipedia.org/wiki/Software_agent'>Software_agent</a> | <a href='https://en.wikipedia.org/wiki/Artificial_intelligence_and_law'>Artificial_intelligence_and_law</a> | <a href='https://en.wikipedia.org/wiki/Human_Problem_Solving'>Human_Problem_Solving</a> | <a href='https://en.wikipedia.org/wiki/Combs_method'>Combs_method</a> | <a href='https://en.wikipedia.org/wiki/Committee_machine'>Committee_machine</a> | <a href='https://en.wikipedia.org/wiki/ICAD_(software)'>ICAD_(software)</a> | <a href='https://en.wikipedia.org/wiki/INDECT'>INDECT</a> | <a href='https://en.wikipedia.org/wiki/Artificial_consciousness'>Artificial_consciousness</a> | <a href='https://en.wikipedia.org/wiki/Frame_language'>Frame_language</a> | <a href='https://en.wikipedia.org/wiki/Computational_human_modeling'>Computational_human_modeling</a> | <a href='https://en.wikipedia.org/wiki/Evolutionary_developmental_robotics'>Evolutionary_developmental_robotics</a> | <a href='https://en.wikipedia.org/wiki/BabelNet'>BabelNet</a> | <a href='https://en.wikipedia.org/wiki/Computational_creativity'>Computational_creativity</a> | <a href='https://en.wikipedia.org/wiki/Conflict_resolution_strategy'>Conflict_resolution_strategy</a> | <a href='https://en.wikipedia.org/wiki/OpenIRIS'>OpenIRIS</a> | <a href='https://en.wikipedia.org/wiki/Cognitive_robotics'>Cognitive_robotics</a> | <a href='https://en.wikipedia.org/wiki/Information_space_analysis'>Information_space_analysis</a> | <a href='https://en.wikipedia.org/wiki/Artificial_intelligence_systems_integration'>Artificial_intelligence_systems_integration</a> | <a href='https://en.wikipedia.org/wiki/Darkforest'>Darkforest</a> | <a href='https://en.wikipedia.org/wiki/Distributional-Relational_Databases'>Distributional-Relational_Databases</a> | <a href='https://en.wikipedia.org/wiki/Smart_objects'>Smart_objects</a> | <a href='https://en.wikipedia.org/wiki/Subrata_Dasgupta'>Subrata_Dasgupta</a> | <a href='https://en.wikipedia.org/wiki/Document_mosaicing'>Document_mosaicing</a> | <a href='https://en.wikipedia.org/wiki/Nervous_system_network_models'>Nervous_system_network_models</a> | <a href='https://en.wikipedia.org/wiki/Robot_lawyer'>Robot_lawyer</a> | <a href='https://en.wikipedia.org/wiki/Information_extraction'>Information_extraction</a> | <a href='https://en.wikipedia.org/wiki/Aurora_(novel)'>Aurora_(novel)</a> | <a href='https://en.wikipedia.org/wiki/Pedagogical_agent'>Pedagogical_agent</a> | <a href='https://en.wikipedia.org/wiki/Simulated_consciousness_in_fiction'>Simulated_consciousness_in_fiction</a> | <a href='https://en.wikipedia.org/wiki/K-line_(artificial_intelligence)'>K-line_(artificial_intelligence)</a> | <a href='https://en.wikipedia.org/wiki/20Q'>20Q</a> | <a href='https://en.wikipedia.org/wiki/Artificial_Intelligence_System'>Artificial_Intelligence_System</a> | <a href='https://en.wikipedia.org/wiki/KAoS'>KAoS</a> | <a href='https://en.wikipedia.org/wiki/Ensemble_averaging_(machine_learning)'>Ensemble_averaging_(machine_learning)</a> | <a href='https://en.wikipedia.org/wiki/Computer_Arimaa'>Computer_Arimaa</a> | <a href='https://en.wikipedia.org/wiki/Bio-inspired_computing'>Bio-inspired_computing</a> | <a href='https://en.wikipedia.org/wiki/Type-2_fuzzy_sets_and_systems'>Type-2_fuzzy_sets_and_systems</a> | <a href='https://en.wikipedia.org/wiki/Grammar_systems_theory'>Grammar_systems_theory</a> | <a href='https://en.wikipedia.org/wiki/Attributional_calculus'>Attributional_calculus</a> | <a href='https://en.wikipedia.org/wiki/Symbolic_artificial_intelligence'>Symbolic_artificial_intelligence</a> | <a href='https://en.wikipedia.org/wiki/Decision_list'>Decision_list</a> | <a href='https://en.wikipedia.org/wiki/Progress_in_artificial_intelligence'>Progress_in_artificial_intelligence</a> | <a href='https://en.wikipedia.org/wiki/Autonomic_networking'>Autonomic_networking</a> | <a href='https://en.wikipedia.org/wiki/Winograd_Schema_Challenge'>Winograd_Schema_Challenge</a> | <a href='https://en.wikipedia.org/wiki/Dynamic_epistemic_logic'>Dynamic_epistemic_logic</a></td></tr>\n",
       "    </tbody></table>\n",
       "    </div>"
      ],
      "text/plain": [
       "<IPython.core.display.HTML object>"
      ]
     },
     "execution_count": 6,
     "metadata": {},
     "output_type": "execute_result"
    }
   ],
   "source": [
    "show_context_of_category(\"Artificial_intelligence\")"
   ]
  },
  {
   "cell_type": "code",
   "execution_count": 7,
   "metadata": {},
   "outputs": [
    {
     "data": {
      "application/vnd.jupyter.widget-view+json": {
       "model_id": "8d043b3b20514a088a986097387080d2",
       "version_major": 2,
       "version_minor": 0
      },
      "text/plain": [
       "interactive(children=(Text(value='Computer_vision', description='node'), Button(description='Run Interact', st…"
      ]
     },
     "metadata": {},
     "output_type": "display_data"
    }
   ],
   "source": [
    "interact_manual(show_context_of_category, node=\"Computer_vision\");"
   ]
  },
  {
   "cell_type": "markdown",
   "metadata": {},
   "source": [
    "## Tagging text using WikiCSSH"
   ]
  },
  {
   "cell_type": "code",
   "execution_count": 8,
   "metadata": {},
   "outputs": [
    {
     "name": "stdout",
     "output_type": "stream",
     "text": [
      "Wall time: 0 ns\n"
     ]
    }
   ],
   "source": [
    "%%time\n",
    "def get_WikiCSSH_tagger():\n",
    "    page2cats = (\n",
    "        pd.read_csv('../data/v1/WikiCSSH_category2page.csv')\n",
    "        .groupby(\"page_title\")\n",
    "        .cat_title\n",
    "        .agg(lambda x: list(x))\n",
    "        .to_dict()\n",
    "    )\n",
    "    \n",
    "    processor = KeywordProcessor()\n",
    "    # categories\n",
    "    processor.add_keywords_from_dict(\n",
    "        {\n",
    "            f'Category:{k}': [f'{k.lower().replace(\"_\", \" \")}']\n",
    "            for k in pd.read_csv(\"../data/v1/WikiCSSH_categories.csv\").category.values\n",
    "        }\n",
    "    )\n",
    "\n",
    "    for row in pd.read_csv('../data/v1/WikiCSSH_page2redirect.csv').values:\n",
    "        if isinstance(row[-1], float):\n",
    "            row[-1] = row[0]\n",
    "        processor.add_keyword(row[-1].lower().replace(\"_\", \" \"), row[0])\n",
    "        \n",
    "    return processor, page2cats"
   ]
  },
  {
   "cell_type": "code",
   "execution_count": 9,
   "metadata": {},
   "outputs": [
    {
     "name": "stdout",
     "output_type": "stream",
     "text": [
      "Wall time: 48.8 s\n"
     ]
    }
   ],
   "source": [
    "%%time\n",
    "processor, page2cats = get_WikiCSSH_tagger()"
   ]
  },
  {
   "cell_type": "code",
   "execution_count": 10,
   "metadata": {},
   "outputs": [],
   "source": [
    "text = \"\"\"In the last decade, we experienced an urgent need for a flexible, context-sensitive, fine-grained, and machine-actionable representation of scholarly knowledge and corresponding infrastructures for knowledge curation, publishing and processing. Such technical infrastructures are becoming increasingly popular in representing scholarly knowledge as structured, interlinked, and semantically rich Scientific Knowledge Graphs (SKG). Knowledge graphs are large networks of entities and relationships, usually expressed in W3C standards such as OWL and RDF. SKGs focus on the scholarly domain and describe the actors (e.g., authors, organizations), the documents (e.g., publications, patents), and the research knowledge (e.g., research topics, tasks, technologies) in this space as well as their reciprocal relationships. These resources provide substantial benefits to researchers, companies, and policymakers by powering several data-driven services for navigating, analysing, and making sense of research dynamics. Some examples include Microsoft Academic Graph (MAG), Open Academic Graph (combining MAG and AMiner), ScholarlyData, PID Graph, Open Research Knowledge Graph, OpenCitations, and OpenAIRE research graph. Current challenges in this area include: i) the design of ontologies able to conceptualise scholarly knowledge, ii) (semi-)automatic extraction of entities and concepts, integration of information from heterogeneous sources, identification of duplicates, finding connections between entities, and iii) the development of new services using this data, that allow to explore this information, measure research impact and accelerate science. This workshop aims at bringing together researchers and practitioners from different fields (including, but not limited to, Digital Libraries, Information Extraction, Machine Learning, Semantic Web, Knowledge Engineering, Natural Language Processing, Scholarly Communication, and Bibliometrics) in order to explore innovative solutions and ideas for the production and consumption of Scientific Knowledge Graphs (SKGs).\"\"\""
   ]
  },
  {
   "cell_type": "code",
   "execution_count": 11,
   "metadata": {},
   "outputs": [
    {
     "data": {
      "text/plain": [
       "[('Experience', 23, 34),\n",
       " ('Granularity', 85, 97),\n",
       " ('Scholarly_method', 140, 149),\n",
       " ('Knowledge', 150, 159),\n",
       " ('Knowledge', 198, 207),\n",
       " ('Scholarly_method', 326, 335),\n",
       " ('Knowledge', 336, 345),\n",
       " ('Semantics', 378, 390),\n",
       " ('Knowledge', 407, 416),\n",
       " ('Category:Graphs', 417, 423),\n",
       " ('Knowledge', 431, 440),\n",
       " ('Category:Graphs', 441, 447),\n",
       " ('Entity', 470, 478),\n",
       " ('World_Wide_Web_Consortium', 519, 532),\n",
       " ('Scholarly_method', 572, 581),\n",
       " ('Document', 649, 658),\n",
       " ('Research', 698, 706),\n",
       " ('Knowledge', 707, 716),\n",
       " ('Research', 724, 732),\n",
       " ('Category:Space', 770, 775),\n",
       " ('Research', 867, 878),\n",
       " ('Business', 880, 889),\n",
       " ('Research', 996, 1004),\n",
       " ('CONFIG.SYS', 1029, 1036),\n",
       " ('Microsoft_Academic', 1037, 1055),\n",
       " ('Academy_(educational_institution)', 1074, 1082),\n",
       " ('Open_research', 1143, 1156),\n",
       " ('Ontology_(information_science)', 1157, 1172),\n",
       " ('Research', 1202, 1210),\n",
       " ('Category:Area', 1245, 1249),\n",
       " ('CONFIG.SYS', 1250, 1257),\n",
       " ('Category:Design', 1266, 1272),\n",
       " ('Ontology', 1276, 1286),\n",
       " ('Concept', 1295, 1308),\n",
       " ('Scholarly_method', 1309, 1318),\n",
       " ('Knowledge', 1319, 1328),\n",
       " ('2', 1330, 1332),\n",
       " ('Numeral_prefix', 1335, 1340),\n",
       " ('Entity', 1365, 1373),\n",
       " ('Concept', 1378, 1386),\n",
       " ('Category:Information', 1403, 1414),\n",
       " ('Homogeneity_and_heterogeneity', 1420, 1433),\n",
       " ('Category:Identification', 1443, 1457),\n",
       " ('Entity', 1501, 1509),\n",
       " ('Category:Information', 1596, 1607),\n",
       " ('Research', 1617, 1625),\n",
       " ('Acceleration', 1637, 1647),\n",
       " ('Research', 1697, 1708),\n",
       " ('Digital_library', 1781, 1798),\n",
       " ('Information_extraction', 1800, 1822),\n",
       " ('Machine_learning', 1824, 1840),\n",
       " ('Semantic_Web', 1842, 1854),\n",
       " ('Knowledge_engineering', 1856, 1877),\n",
       " ('Natural_language_processing', 1879, 1906),\n",
       " ('Scholarly_communication', 1908, 1931),\n",
       " ('Category:Bibliometrics', 1937, 1950),\n",
       " ('Innovation', 1972, 1982),\n",
       " ('Solution', 1983, 1992),\n",
       " ('Idea', 1997, 2002),\n",
       " ('Category:Consumption', 2026, 2037),\n",
       " ('Knowledge', 2052, 2061),\n",
       " ('Category:Graphs', 2062, 2068)]"
      ]
     },
     "execution_count": 11,
     "metadata": {},
     "output_type": "execute_result"
    }
   ],
   "source": [
    "processor.extract_keywords(text, span_info=True)"
   ]
  },
  {
   "cell_type": "code",
   "execution_count": 12,
   "metadata": {},
   "outputs": [],
   "source": [
    "def get_html(text, processor):\n",
    "    spans = processor.extract_keywords(text, span_info=True)\n",
    "    prev = 0\n",
    "    parts = []\n",
    "    category_counts = defaultdict(int)\n",
    "    for entity, start, end in spans:\n",
    "        if entity.startswith(\"Category:\"):\n",
    "            entity_cats = [entity.replace(\"Category:\", \"\")]\n",
    "        else:\n",
    "            entity_cats = [c for c in page2cats.get(entity, [])]\n",
    "        for cat in entity_cats:\n",
    "            category_counts[cat] += 1\n",
    "        if start > prev:\n",
    "            parts.append(text[prev:start])\n",
    "        parts.append(f\"<a href='https://en.wikipedia.org/wiki/{entity}' title='{entity}'>{text[start:end]}</a>\")\n",
    "        prev = end\n",
    "    tagged_doc = \"\".join(parts).replace(\"\\n\", \"<br/>\")\n",
    "    pred_categories = \" | \".join([\n",
    "        f\"<a href='https://en.wikipedia.org/wiki/Category:{k}' title='{k}'>{k}</a> ({v})\"\n",
    "        for k,v in sorted(category_counts.items(), key=lambda x: x[1], reverse=True)\n",
    "    ])\n",
    "    final_div = f\"\"\"<div>\n",
    "    <div>\n",
    "        <h3>Tagged document:</h3>\n",
    "        {tagged_doc}\n",
    "    </div>\n",
    "    <div>\n",
    "        <h3>Predicted categories:</h3>\n",
    "        {pred_categories}\n",
    "    </div>\n",
    "    </div>\"\"\"\n",
    "    return HTML(final_div)\n",
    "    "
   ]
  },
  {
   "cell_type": "code",
   "execution_count": 13,
   "metadata": {},
   "outputs": [
    {
     "data": {
      "text/html": [
       "<div>\n",
       "    <div>\n",
       "        <h3>Tagged document:</h3>\n",
       "        In the last decade, we <a href='https://en.wikipedia.org/wiki/Experience' title='Experience'>experienced</a> an urgent need for a flexible, context-sensitive, <a href='https://en.wikipedia.org/wiki/Granularity' title='Granularity'>fine-grained</a>, and machine-actionable representation of <a href='https://en.wikipedia.org/wiki/Scholarly_method' title='Scholarly_method'>scholarly</a> <a href='https://en.wikipedia.org/wiki/Knowledge' title='Knowledge'>knowledge</a> and corresponding infrastructures for <a href='https://en.wikipedia.org/wiki/Knowledge' title='Knowledge'>knowledge</a> curation, publishing and processing. Such technical infrastructures are becoming increasingly popular in representing <a href='https://en.wikipedia.org/wiki/Scholarly_method' title='Scholarly_method'>scholarly</a> <a href='https://en.wikipedia.org/wiki/Knowledge' title='Knowledge'>knowledge</a> as structured, interlinked, and <a href='https://en.wikipedia.org/wiki/Semantics' title='Semantics'>semantically</a> rich Scientific <a href='https://en.wikipedia.org/wiki/Knowledge' title='Knowledge'>Knowledge</a> <a href='https://en.wikipedia.org/wiki/Category:Graphs' title='Category:Graphs'>Graphs</a> (SKG). <a href='https://en.wikipedia.org/wiki/Knowledge' title='Knowledge'>Knowledge</a> <a href='https://en.wikipedia.org/wiki/Category:Graphs' title='Category:Graphs'>graphs</a> are large networks of <a href='https://en.wikipedia.org/wiki/Entity' title='Entity'>entities</a> and relationships, usually expressed in <a href='https://en.wikipedia.org/wiki/World_Wide_Web_Consortium' title='World_Wide_Web_Consortium'>W3C standards</a> such as OWL and RDF. SKGs focus on the <a href='https://en.wikipedia.org/wiki/Scholarly_method' title='Scholarly_method'>scholarly</a> domain and describe the actors (e.g., authors, organizations), the <a href='https://en.wikipedia.org/wiki/Document' title='Document'>documents</a> (e.g., publications, patents), and the <a href='https://en.wikipedia.org/wiki/Research' title='Research'>research</a> <a href='https://en.wikipedia.org/wiki/Knowledge' title='Knowledge'>knowledge</a> (e.g., <a href='https://en.wikipedia.org/wiki/Research' title='Research'>research</a> topics, tasks, technologies) in this <a href='https://en.wikipedia.org/wiki/Category:Space' title='Category:Space'>space</a> as well as their reciprocal relationships. These resources provide substantial benefits to <a href='https://en.wikipedia.org/wiki/Research' title='Research'>researchers</a>, <a href='https://en.wikipedia.org/wiki/Business' title='Business'>companies</a>, and policymakers by powering several data-driven services for navigating, analysing, and making sense of <a href='https://en.wikipedia.org/wiki/Research' title='Research'>research</a> dynamics. Some examples <a href='https://en.wikipedia.org/wiki/CONFIG.SYS' title='CONFIG.SYS'>include</a> <a href='https://en.wikipedia.org/wiki/Microsoft_Academic' title='Microsoft_Academic'>Microsoft Academic</a> Graph (MAG), Open <a href='https://en.wikipedia.org/wiki/Academy_(educational_institution)' title='Academy_(educational_institution)'>Academic</a> Graph (combining MAG and AMiner), ScholarlyData, PID Graph, <a href='https://en.wikipedia.org/wiki/Open_research' title='Open_research'>Open Research</a> <a href='https://en.wikipedia.org/wiki/Ontology_(information_science)' title='Ontology_(information_science)'>Knowledge Graph</a>, OpenCitations, and OpenAIRE <a href='https://en.wikipedia.org/wiki/Research' title='Research'>research</a> graph. Current challenges in this <a href='https://en.wikipedia.org/wiki/Category:Area' title='Category:Area'>area</a> <a href='https://en.wikipedia.org/wiki/CONFIG.SYS' title='CONFIG.SYS'>include</a>: i) the <a href='https://en.wikipedia.org/wiki/Category:Design' title='Category:Design'>design</a> of <a href='https://en.wikipedia.org/wiki/Ontology' title='Ontology'>ontologies</a> able to <a href='https://en.wikipedia.org/wiki/Concept' title='Concept'>conceptualise</a> <a href='https://en.wikipedia.org/wiki/Scholarly_method' title='Scholarly_method'>scholarly</a> <a href='https://en.wikipedia.org/wiki/Knowledge' title='Knowledge'>knowledge</a>, <a href='https://en.wikipedia.org/wiki/2' title='2'>ii</a>) (<a href='https://en.wikipedia.org/wiki/Numeral_prefix' title='Numeral_prefix'>semi-</a>)automatic extraction of <a href='https://en.wikipedia.org/wiki/Entity' title='Entity'>entities</a> and <a href='https://en.wikipedia.org/wiki/Concept' title='Concept'>concepts</a>, integration of <a href='https://en.wikipedia.org/wiki/Category:Information' title='Category:Information'>information</a> from <a href='https://en.wikipedia.org/wiki/Homogeneity_and_heterogeneity' title='Homogeneity_and_heterogeneity'>heterogeneous</a> sources, <a href='https://en.wikipedia.org/wiki/Category:Identification' title='Category:Identification'>identification</a> of duplicates, finding connections between <a href='https://en.wikipedia.org/wiki/Entity' title='Entity'>entities</a>, and iii) the development of new services using this data, that allow to explore this <a href='https://en.wikipedia.org/wiki/Category:Information' title='Category:Information'>information</a>, measure <a href='https://en.wikipedia.org/wiki/Research' title='Research'>research</a> impact and <a href='https://en.wikipedia.org/wiki/Acceleration' title='Acceleration'>accelerate</a> science. This workshop aims at bringing together <a href='https://en.wikipedia.org/wiki/Research' title='Research'>researchers</a> and practitioners from different fields (including, but not limited to, <a href='https://en.wikipedia.org/wiki/Digital_library' title='Digital_library'>Digital Libraries</a>, <a href='https://en.wikipedia.org/wiki/Information_extraction' title='Information_extraction'>Information Extraction</a>, <a href='https://en.wikipedia.org/wiki/Machine_learning' title='Machine_learning'>Machine Learning</a>, <a href='https://en.wikipedia.org/wiki/Semantic_Web' title='Semantic_Web'>Semantic Web</a>, <a href='https://en.wikipedia.org/wiki/Knowledge_engineering' title='Knowledge_engineering'>Knowledge Engineering</a>, <a href='https://en.wikipedia.org/wiki/Natural_language_processing' title='Natural_language_processing'>Natural Language Processing</a>, <a href='https://en.wikipedia.org/wiki/Scholarly_communication' title='Scholarly_communication'>Scholarly Communication</a>, and <a href='https://en.wikipedia.org/wiki/Category:Bibliometrics' title='Category:Bibliometrics'>Bibliometrics</a>) in order to explore <a href='https://en.wikipedia.org/wiki/Innovation' title='Innovation'>innovative</a> <a href='https://en.wikipedia.org/wiki/Solution' title='Solution'>solutions</a> and <a href='https://en.wikipedia.org/wiki/Idea' title='Idea'>ideas</a> for the production and <a href='https://en.wikipedia.org/wiki/Category:Consumption' title='Category:Consumption'>consumption</a> of Scientific <a href='https://en.wikipedia.org/wiki/Knowledge' title='Knowledge'>Knowledge</a> <a href='https://en.wikipedia.org/wiki/Category:Graphs' title='Category:Graphs'>Graphs</a>\n",
       "    </div>\n",
       "    <div>\n",
       "        <h3>Predicted categories:</h3>\n",
       "        <a href='https://en.wikipedia.org/wiki/Category:Knowledge' title='Knowledge'>Knowledge</a> (15) | <a href='https://en.wikipedia.org/wiki/Category:Research' title='Research'>Research</a> (8) | <a href='https://en.wikipedia.org/wiki/Category:Research_methods' title='Research_methods'>Research_methods</a> (7) | <a href='https://en.wikipedia.org/wiki/Category:Academia' title='Academia'>Academia</a> (6) | <a href='https://en.wikipedia.org/wiki/Category:Methodology' title='Methodology'>Methodology</a> (4) | <a href='https://en.wikipedia.org/wiki/Category:Ontology' title='Ontology'>Ontology</a> (4) | <a href='https://en.wikipedia.org/wiki/Category:Graphs' title='Graphs'>Graphs</a> (3) | <a href='https://en.wikipedia.org/wiki/Category:Data_modeling_diagrams' title='Data_modeling_diagrams'>Data_modeling_diagrams</a> (3) | <a href='https://en.wikipedia.org/wiki/Category:Knowledge_engineering' title='Knowledge_engineering'>Knowledge_engineering</a> (3) | <a href='https://en.wikipedia.org/wiki/Category:Semantic_Web' title='Semantic_Web'>Semantic_Web</a> (3) | <a href='https://en.wikipedia.org/wiki/Category:Concepts' title='Concepts'>Concepts</a> (3) | <a href='https://en.wikipedia.org/wiki/Category:Meaning_(philosophy_of_language)' title='Meaning_(philosophy_of_language)'>Meaning_(philosophy_of_language)</a> (2) | <a href='https://en.wikipedia.org/wiki/Category:Web_services' title='Web_services'>Web_services</a> (2) | <a href='https://en.wikipedia.org/wiki/Category:Information_science' title='Information_science'>Information_science</a> (2) | <a href='https://en.wikipedia.org/wiki/Category:Configuration_files' title='Configuration_files'>Configuration_files</a> (2) | <a href='https://en.wikipedia.org/wiki/Category:Ontology_(information_science)' title='Ontology_(information_science)'>Ontology_(information_science)</a> (2) | <a href='https://en.wikipedia.org/wiki/Category:Design' title='Design'>Design</a> (2) | <a href='https://en.wikipedia.org/wiki/Category:Abstraction' title='Abstraction'>Abstraction</a> (2) | <a href='https://en.wikipedia.org/wiki/Category:Mental_content' title='Mental_content'>Mental_content</a> (2) | <a href='https://en.wikipedia.org/wiki/Category:Information' title='Information'>Information</a> (2) | <a href='https://en.wikipedia.org/wiki/Category:Library_science' title='Library_science'>Library_science</a> (2) | <a href='https://en.wikipedia.org/wiki/Category:Artificial_intelligence' title='Artificial_intelligence'>Artificial_intelligence</a> (2) | <a href='https://en.wikipedia.org/wiki/Category:Natural_language_processing' title='Natural_language_processing'>Natural_language_processing</a> (2) | <a href='https://en.wikipedia.org/wiki/Category:Perception' title='Perception'>Perception</a> (1) | <a href='https://en.wikipedia.org/wiki/Category:Statistical_mechanics' title='Statistical_mechanics'>Statistical_mechanics</a> (1) | <a href='https://en.wikipedia.org/wiki/Category:Web_development' title='Web_development'>Web_development</a> (1) | <a href='https://en.wikipedia.org/wiki/Category:Space' title='Space'>Space</a> (1) | <a href='https://en.wikipedia.org/wiki/Category:Entrepreneurship' title='Entrepreneurship'>Entrepreneurship</a> (1) | <a href='https://en.wikipedia.org/wiki/Category:Database_stubs' title='Database_stubs'>Database_stubs</a> (1) | <a href='https://en.wikipedia.org/wiki/Category:Online_databases' title='Online_databases'>Online_databases</a> (1) | <a href='https://en.wikipedia.org/wiki/Category:Open_content' title='Open_content'>Open_content</a> (1) | <a href='https://en.wikipedia.org/wiki/Category:Open_science' title='Open_science'>Open_science</a> (1) | <a href='https://en.wikipedia.org/wiki/Category:Collaboration' title='Collaboration'>Collaboration</a> (1) | <a href='https://en.wikipedia.org/wiki/Category:Knowledge_representation' title='Knowledge_representation'>Knowledge_representation</a> (1) | <a href='https://en.wikipedia.org/wiki/Category:Knowledge_bases' title='Knowledge_bases'>Knowledge_bases</a> (1) | <a href='https://en.wikipedia.org/wiki/Category:Area' title='Area'>Area</a> (1) | <a href='https://en.wikipedia.org/wiki/Category:Integers' title='Integers'>Integers</a> (1) | <a href='https://en.wikipedia.org/wiki/Category:Numeral_systems' title='Numeral_systems'>Numeral_systems</a> (1) | <a href='https://en.wikipedia.org/wiki/Category:Chemical_reactions' title='Chemical_reactions'>Chemical_reactions</a> (1) | <a href='https://en.wikipedia.org/wiki/Category:Identification' title='Identification'>Identification</a> (1) | <a href='https://en.wikipedia.org/wiki/Category:Acceleration' title='Acceleration'>Acceleration</a> (1) | <a href='https://en.wikipedia.org/wiki/Category:Machine_learning' title='Machine_learning'>Machine_learning</a> (1) | <a href='https://en.wikipedia.org/wiki/Category:Cybernetics' title='Cybernetics'>Cybernetics</a> (1) | <a href='https://en.wikipedia.org/wiki/Category:Learning' title='Learning'>Learning</a> (1) | <a href='https://en.wikipedia.org/wiki/Category:Internet_ages' title='Internet_ages'>Internet_ages</a> (1) | <a href='https://en.wikipedia.org/wiki/Category:Emerging_technologies' title='Emerging_technologies'>Emerging_technologies</a> (1) | <a href='https://en.wikipedia.org/wiki/Category:Computational_fields_of_study' title='Computational_fields_of_study'>Computational_fields_of_study</a> (1) | <a href='https://en.wikipedia.org/wiki/Category:Speech_recognition' title='Speech_recognition'>Speech_recognition</a> (1) | <a href='https://en.wikipedia.org/wiki/Category:Computational_linguistics' title='Computational_linguistics'>Computational_linguistics</a> (1) | <a href='https://en.wikipedia.org/wiki/Category:Bibliometrics' title='Bibliometrics'>Bibliometrics</a> (1) | <a href='https://en.wikipedia.org/wiki/Category:Innovation' title='Innovation'>Innovation</a> (1) | <a href='https://en.wikipedia.org/wiki/Category:Dosage_forms' title='Dosage_forms'>Dosage_forms</a> (1) | <a href='https://en.wikipedia.org/wiki/Category:Alchemical_processes' title='Alchemical_processes'>Alchemical_processes</a> (1) | <a href='https://en.wikipedia.org/wiki/Category:Solutions' title='Solutions'>Solutions</a> (1) | <a href='https://en.wikipedia.org/wiki/Category:Creativity' title='Creativity'>Creativity</a> (1) | <a href='https://en.wikipedia.org/wiki/Category:Consumption' title='Consumption'>Consumption</a> (1)\n",
       "    </div>\n",
       "    </div>"
      ],
      "text/plain": [
       "<IPython.core.display.HTML object>"
      ]
     },
     "metadata": {},
     "output_type": "display_data"
    }
   ],
   "source": [
    "display(get_html(text, processor))"
   ]
  },
  {
   "cell_type": "code",
   "execution_count": 14,
   "metadata": {},
   "outputs": [
    {
     "data": {
      "application/vnd.jupyter.widget-view+json": {
       "model_id": "37bc1242abf340e0b4e0325809cedcc0",
       "version_major": 2,
       "version_minor": 0
      },
      "text/plain": [
       "interactive(children=(Textarea(value='In the last decade, we experienced an urgent need for a flexible, contex…"
      ]
     },
     "metadata": {},
     "output_type": "display_data"
    }
   ],
   "source": [
    "text_area_widget = widgets.Textarea(\n",
    "    value=text,\n",
    "    placeholder=\"Type your text hear\",\n",
    "    description='String:',\n",
    "    disabled=False,\n",
    "    layout=Layout(width=\"90%\")\n",
    ")\n",
    "text_area_widget.rows=10;\n",
    "interact_manual(lambda text: get_html(text, processor), text=text_area_widget);"
   ]
  }
 ],
 "metadata": {
  "kernelspec": {
   "display_name": "Python 3",
   "language": "python",
   "name": "python3"
  },
  "language_info": {
   "codemirror_mode": {
    "name": "ipython",
    "version": 3
   },
   "file_extension": ".py",
   "mimetype": "text/x-python",
   "name": "python",
   "nbconvert_exporter": "python",
   "pygments_lexer": "ipython3",
   "version": "3.7.3"
  }
 },
 "nbformat": 4,
 "nbformat_minor": 4
}
