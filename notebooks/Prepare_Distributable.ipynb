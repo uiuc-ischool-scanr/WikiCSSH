{
 "cells": [
  {
   "cell_type": "code",
   "execution_count": 1,
   "metadata": {},
   "outputs": [],
   "source": [
    "import pandas as pd"
   ]
  },
  {
   "cell_type": "code",
   "execution_count": 2,
   "metadata": {},
   "outputs": [
    {
     "data": {
      "text/html": [
       "<div>\n",
       "<style scoped>\n",
       "    .dataframe tbody tr th:only-of-type {\n",
       "        vertical-align: middle;\n",
       "    }\n",
       "\n",
       "    .dataframe tbody tr th {\n",
       "        vertical-align: top;\n",
       "    }\n",
       "\n",
       "    .dataframe thead th {\n",
       "        text-align: right;\n",
       "    }\n",
       "</style>\n",
       "<table border=\"1\" class=\"dataframe\">\n",
       "  <thead>\n",
       "    <tr style=\"text-align: right;\">\n",
       "      <th></th>\n",
       "      <th>category</th>\n",
       "      <th>level</th>\n",
       "    </tr>\n",
       "  </thead>\n",
       "  <tbody>\n",
       "    <tr>\n",
       "      <td>0</td>\n",
       "      <td>Computer_science</td>\n",
       "      <td>1</td>\n",
       "    </tr>\n",
       "    <tr>\n",
       "      <td>1</td>\n",
       "      <td>Mathematics</td>\n",
       "      <td>1</td>\n",
       "    </tr>\n",
       "    <tr>\n",
       "      <td>2</td>\n",
       "      <td>Information_science</td>\n",
       "      <td>1</td>\n",
       "    </tr>\n",
       "    <tr>\n",
       "      <td>3</td>\n",
       "      <td>Computer_engineering</td>\n",
       "      <td>1</td>\n",
       "    </tr>\n",
       "    <tr>\n",
       "      <td>4</td>\n",
       "      <td>Statistics</td>\n",
       "      <td>1</td>\n",
       "    </tr>\n",
       "  </tbody>\n",
       "</table>\n",
       "</div>"
      ],
      "text/plain": [
       "               category  level\n",
       "0      Computer_science      1\n",
       "1           Mathematics      1\n",
       "2   Information_science      1\n",
       "3  Computer_engineering      1\n",
       "4            Statistics      1"
      ]
     },
     "execution_count": 2,
     "metadata": {},
     "output_type": "execute_result"
    }
   ],
   "source": [
    "df_categories = pd.read_csv('../data/v1/WikiCSSH_categories.csv')\n",
    "df_categories.head()"
   ]
  },
  {
   "cell_type": "code",
   "execution_count": 3,
   "metadata": {},
   "outputs": [
    {
     "data": {
      "text/html": [
       "<div>\n",
       "<style scoped>\n",
       "    .dataframe tbody tr th:only-of-type {\n",
       "        vertical-align: middle;\n",
       "    }\n",
       "\n",
       "    .dataframe tbody tr th {\n",
       "        vertical-align: top;\n",
       "    }\n",
       "\n",
       "    .dataframe thead th {\n",
       "        text-align: right;\n",
       "    }\n",
       "</style>\n",
       "<table border=\"1\" class=\"dataframe\">\n",
       "  <thead>\n",
       "    <tr style=\"text-align: right;\">\n",
       "      <th></th>\n",
       "      <th>parent_cat</th>\n",
       "      <th>child_cat</th>\n",
       "      <th>parent_level</th>\n",
       "      <th>child_level</th>\n",
       "    </tr>\n",
       "  </thead>\n",
       "  <tbody>\n",
       "    <tr>\n",
       "      <td>0</td>\n",
       "      <td>Computer_engineering</td>\n",
       "      <td>Electronic_engineering</td>\n",
       "      <td>1</td>\n",
       "      <td>2</td>\n",
       "    </tr>\n",
       "    <tr>\n",
       "      <td>1</td>\n",
       "      <td>Computer_engineering</td>\n",
       "      <td>Software_engineering</td>\n",
       "      <td>1</td>\n",
       "      <td>2</td>\n",
       "    </tr>\n",
       "    <tr>\n",
       "      <td>2</td>\n",
       "      <td>Computer_engineering</td>\n",
       "      <td>Computer_hardware</td>\n",
       "      <td>1</td>\n",
       "      <td>2</td>\n",
       "    </tr>\n",
       "    <tr>\n",
       "      <td>3</td>\n",
       "      <td>Computer_engineering</td>\n",
       "      <td>Computer_systems</td>\n",
       "      <td>1</td>\n",
       "      <td>2</td>\n",
       "    </tr>\n",
       "    <tr>\n",
       "      <td>4</td>\n",
       "      <td>Computer_engineering</td>\n",
       "      <td>Computer_engineering_stubs</td>\n",
       "      <td>1</td>\n",
       "      <td>2</td>\n",
       "    </tr>\n",
       "  </tbody>\n",
       "</table>\n",
       "</div>"
      ],
      "text/plain": [
       "             parent_cat                   child_cat  parent_level  child_level\n",
       "0  Computer_engineering      Electronic_engineering             1            2\n",
       "1  Computer_engineering        Software_engineering             1            2\n",
       "2  Computer_engineering           Computer_hardware             1            2\n",
       "3  Computer_engineering            Computer_systems             1            2\n",
       "4  Computer_engineering  Computer_engineering_stubs             1            2"
      ]
     },
     "execution_count": 3,
     "metadata": {},
     "output_type": "execute_result"
    }
   ],
   "source": [
    "df_category_links = pd.read_csv('../data/v1/WikiCSSH_category_links.csv')\n",
    "df_category_links.head()"
   ]
  },
  {
   "cell_type": "code",
   "execution_count": 4,
   "metadata": {},
   "outputs": [
    {
     "data": {
      "text/plain": [
       "91"
      ]
     },
     "execution_count": 4,
     "metadata": {},
     "output_type": "execute_result"
    }
   ],
   "source": [
    "isolate_cats = (\n",
    "    set(df_categories.category.values) \n",
    "    - set(\n",
    "        set(df_category_links.parent_cat.values) \n",
    "        | set(df_category_links.child_cat.values)\n",
    "    )\n",
    ")\n",
    "len(isolate_cats)"
   ]
  },
  {
   "cell_type": "code",
   "execution_count": 5,
   "metadata": {},
   "outputs": [
    {
     "data": {
      "text/plain": [
       "76"
      ]
     },
     "execution_count": 5,
     "metadata": {},
     "output_type": "execute_result"
    }
   ],
   "source": [
    "root_child_cats = set(\n",
    "    set(df_category_links.parent_cat.values) \n",
    "    - set(df_category_links.child_cat.values)\n",
    ")\n",
    "len(root_child_cats)"
   ]
  },
  {
   "cell_type": "code",
   "execution_count": 6,
   "metadata": {},
   "outputs": [
    {
     "data": {
      "text/plain": [
       "(8400, 4)"
      ]
     },
     "execution_count": 6,
     "metadata": {},
     "output_type": "execute_result"
    }
   ],
   "source": [
    "df_category_links_all = pd.concat([\n",
    "    df_category_links,\n",
    "    df_categories[df_categories.category.isin(root_child_cats)].rename(columns={\n",
    "        \"category\": \"child_cat\", \n",
    "        \"level\": \"child_level\", #\tparent_level\tchild_level\n",
    "    }).assign(parent_cat=\"<ROOT>\", parent_level=0),\n",
    "    pd.DataFrame({\n",
    "        \"parent_cat\": [\"\"],\n",
    "        \"child_cat\": [\"<ROOT>\"],\n",
    "        \"parent_level\": [-1],\n",
    "        \"child_level\": [0],\n",
    "    })\n",
    "#     df_categories[df_categories.category.isin(isolate_cats)].rename(columns={\n",
    "#         \"category\": \"child_cat\", \n",
    "#         \"level\": \"child_level\", #\tparent_level\tchild_level\n",
    "#     }).assign(parent_cat=\"\", parent_level=0)\n",
    "    \n",
    "], axis=0, sort=True).sort_values([\"parent_level\", \"child_level\"])\n",
    "df_category_links_all.shape"
   ]
  },
  {
   "cell_type": "code",
   "execution_count": 7,
   "metadata": {},
   "outputs": [
    {
     "data": {
      "text/html": [
       "<div>\n",
       "<style scoped>\n",
       "    .dataframe tbody tr th:only-of-type {\n",
       "        vertical-align: middle;\n",
       "    }\n",
       "\n",
       "    .dataframe tbody tr th {\n",
       "        vertical-align: top;\n",
       "    }\n",
       "\n",
       "    .dataframe thead th {\n",
       "        text-align: right;\n",
       "    }\n",
       "</style>\n",
       "<table border=\"1\" class=\"dataframe\">\n",
       "  <thead>\n",
       "    <tr style=\"text-align: right;\">\n",
       "      <th></th>\n",
       "      <th>child_cat</th>\n",
       "      <th>child_level</th>\n",
       "      <th>parent_cat</th>\n",
       "      <th>parent_level</th>\n",
       "    </tr>\n",
       "  </thead>\n",
       "  <tbody>\n",
       "    <tr>\n",
       "      <td>0</td>\n",
       "      <td>&lt;ROOT&gt;</td>\n",
       "      <td>0</td>\n",
       "      <td></td>\n",
       "      <td>-1</td>\n",
       "    </tr>\n",
       "    <tr>\n",
       "      <td>0</td>\n",
       "      <td>Computer_science</td>\n",
       "      <td>1</td>\n",
       "      <td>&lt;ROOT&gt;</td>\n",
       "      <td>0</td>\n",
       "    </tr>\n",
       "    <tr>\n",
       "      <td>1</td>\n",
       "      <td>Mathematics</td>\n",
       "      <td>1</td>\n",
       "      <td>&lt;ROOT&gt;</td>\n",
       "      <td>0</td>\n",
       "    </tr>\n",
       "    <tr>\n",
       "      <td>2</td>\n",
       "      <td>Information_science</td>\n",
       "      <td>1</td>\n",
       "      <td>&lt;ROOT&gt;</td>\n",
       "      <td>0</td>\n",
       "    </tr>\n",
       "    <tr>\n",
       "      <td>3</td>\n",
       "      <td>Computer_engineering</td>\n",
       "      <td>1</td>\n",
       "      <td>&lt;ROOT&gt;</td>\n",
       "      <td>0</td>\n",
       "    </tr>\n",
       "  </tbody>\n",
       "</table>\n",
       "</div>"
      ],
      "text/plain": [
       "              child_cat  child_level parent_cat  parent_level\n",
       "0                <ROOT>            0                       -1\n",
       "0      Computer_science            1     <ROOT>             0\n",
       "1           Mathematics            1     <ROOT>             0\n",
       "2   Information_science            1     <ROOT>             0\n",
       "3  Computer_engineering            1     <ROOT>             0"
      ]
     },
     "execution_count": 7,
     "metadata": {},
     "output_type": "execute_result"
    }
   ],
   "source": [
    "df_category_links_all.head()"
   ]
  },
  {
   "cell_type": "code",
   "execution_count": 8,
   "metadata": {},
   "outputs": [],
   "source": [
    "df_category_links_all.to_csv('../data/v1/WikiCSSH_category_links_all.csv', index=False)"
   ]
  },
  {
   "cell_type": "code",
   "execution_count": 9,
   "metadata": {},
   "outputs": [],
   "source": [
    "df_categories[df_categories.level<=5].to_csv(\"../data/v1/Wikicssh_core_categories.csv\", index=False)"
   ]
  },
  {
   "cell_type": "code",
   "execution_count": null,
   "metadata": {},
   "outputs": [],
   "source": []
  }
 ],
 "metadata": {
  "kernelspec": {
   "display_name": "Python 3",
   "language": "python",
   "name": "python3"
  },
  "language_info": {
   "codemirror_mode": {
    "name": "ipython",
    "version": 3
   },
   "file_extension": ".py",
   "mimetype": "text/x-python",
   "name": "python",
   "nbconvert_exporter": "python",
   "pygments_lexer": "ipython3",
   "version": "3.7.3"
  }
 },
 "nbformat": 4,
 "nbformat_minor": 4
}
