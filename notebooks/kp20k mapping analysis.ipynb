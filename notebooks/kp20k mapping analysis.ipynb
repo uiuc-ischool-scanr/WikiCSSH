{
 "cells": [
  {
   "cell_type": "code",
   "execution_count": 1,
   "metadata": {},
   "outputs": [],
   "source": [
    "import pandas as pd\n",
    "from nltk.stem import SnowballStemmer\n",
    "stemmer = SnowballStemmer(\"english\")\n",
    "def stemm(x):\n",
    "    lemmed = ' '.join(stemmer.stem(token) for token in x.split(' '))\n",
    "    return lemmed"
   ]
  },
  {
   "cell_type": "code",
   "execution_count": 2,
   "metadata": {},
   "outputs": [],
   "source": [
    "total = pd.read_csv('drive/My Drive/pages and redirects.csv')"
   ]
  },
  {
   "cell_type": "code",
   "execution_count": 3,
   "metadata": {},
   "outputs": [],
   "source": [
    "categ = pd.read_csv('drive/My Drive/categories.csv')"
   ]
  },
  {
   "cell_type": "code",
   "execution_count": 4,
   "metadata": {},
   "outputs": [],
   "source": [
    "evaluation1 = pd.read_pickle('drive/My Drive/kp20k.pickle')\n",
    "evaluation1 = pd.DataFrame(list(evaluation1.items()), columns=['cate', 'number'])\n",
    "evaluation1 = evaluation1.dropna()\n",
    "evaluation1['cate1'] = evaluation1['cate'].str.lower().apply(lambda x: stemm(x))"
   ]
  },
  {
   "cell_type": "code",
   "execution_count": 5,
   "metadata": {
    "scrolled": true
   },
   "outputs": [],
   "source": [
    "categ['category1']=categ['category'].str.replace('_', ' ').str.lower()\n",
    "total['page_title1']=total['page_title'].str.replace('_', ' ').str.lower()"
   ]
  },
  {
   "cell_type": "code",
   "execution_count": 6,
   "metadata": {},
   "outputs": [],
   "source": [
    "total12 = total[['redirect_page_title', 'min_level']].dropna()\n",
    "total12['redirect_page_title1'] = total12['redirect_page_title'].str.replace('_', ' ').str.lower()"
   ]
  },
  {
   "cell_type": "code",
   "execution_count": 7,
   "metadata": {},
   "outputs": [],
   "source": [
    "total = total[['page_title1', 'min_level']].dropna()"
   ]
  },
  {
   "cell_type": "code",
   "execution_count": 8,
   "metadata": {},
   "outputs": [],
   "source": [
    "categ['category1'] = categ['category1'].apply(lambda x: stemm(x))\n",
    "total['page_title1'] = total['page_title1'].apply(lambda x: stemm(x))\n",
    "total12['redirect_page_title1']=total12['redirect_page_title1'].apply(lambda x: stemm(x))"
   ]
  },
  {
   "cell_type": "code",
   "execution_count": 9,
   "metadata": {},
   "outputs": [],
   "source": [
    "ours = set(categ['category1'].tolist()) | set(total['page_title1'].tolist()) | set(total12['redirect_page_title1'].tolist())"
   ]
  },
  {
   "cell_type": "code",
   "execution_count": 10,
   "metadata": {},
   "outputs": [],
   "source": [
    "categ7 = set(categ[categ['level']<=7]['category1'].tolist())\n",
    "total7 = set(total[total['min_level']<=7]['page_title1'].tolist()) \n",
    "total127 = set(total12[total12['min_level']<=7]['redirect_page_title1'].tolist()) \n",
    "categ8 = set(categ[categ['level']>7]['category1'].tolist())\n",
    "total8 = set(total[total['min_level']>7]['page_title1'].tolist()) \n",
    "total128 = set(total12[total12['min_level']>7]['redirect_page_title1'].tolist()) "
   ]
  },
  {
   "cell_type": "code",
   "execution_count": 11,
   "metadata": {},
   "outputs": [],
   "source": [
    "ours7 = set(categ7) | set(total7) | set(total127)\n",
    "ours8 = set(categ8) | set(total8) | set(total128)"
   ]
  },
  {
   "cell_type": "code",
   "execution_count": 12,
   "metadata": {},
   "outputs": [],
   "source": [
    "categ['category1']\n",
    "categ['category1'] = categ['category1'].apply(lambda x: stemm(x))"
   ]
  },
  {
   "cell_type": "code",
   "execution_count": 13,
   "metadata": {},
   "outputs": [],
   "source": [
    "ECSO = evaluation1[evaluation1['cate1'].isin(set(categ[categ['level']>7]['category1']))]"
   ]
  },
  {
   "cell_type": "code",
   "execution_count": 14,
   "metadata": {},
   "outputs": [],
   "source": [
    "ECSO = evaluation1[evaluation1['cate1'].isin(set(categ[categ['level']<=7]['category1']))]"
   ]
  },
  {
   "cell_type": "code",
   "execution_count": 15,
   "metadata": {},
   "outputs": [],
   "source": [
    "ACM = pd.read_csv('drive/My Drive/ACM.csv', header = None, names = ['ACM'])"
   ]
  },
  {
   "cell_type": "code",
   "execution_count": 16,
   "metadata": {},
   "outputs": [],
   "source": [
    "ACM['ACM']=ACM['ACM'].str.lower().apply(lambda x: stemm(x))\n",
    "ACM_len = len(set(ACM['ACM'].tolist()).intersection(set(evaluation1['cate1'].tolist())))"
   ]
  },
  {
   "cell_type": "code",
   "execution_count": 17,
   "metadata": {},
   "outputs": [],
   "source": [
    "import numpy as np\n",
    "CSO = pd.read_csv('drive/My Drive/CSO.3.1.csv', header = None, names = ['CSO1',\"CSO2\",\"CSO3\"])\n",
    "topic = CSO['CSO1'].str.lower().unique()\n",
    "for i in range(len(topic)):\n",
    "    topic[i] = topic[i][topic[i].rfind('/')+1:-1]\n",
    "    \n",
    "topic1 = CSO['CSO3'].str.lower().unique()\n",
    "for i in range(len(topic1)):\n",
    "    topic1[i] = topic1[i][topic1[i].rfind('/')+1:-1]\n",
    "\n",
    "topic_total = np.append(topic, topic1)\n",
    "list_cso = np.unique(topic_total).tolist()\n",
    "\n",
    "CSO = pd.DataFrame(list_cso, columns = ['CSO'])\n",
    "CSO['CSO'] = CSO['CSO'].str.replace('_', ' ').dropna().str.lower().apply(lambda x: stemm(x))\n",
    "\n",
    "CSO_len = len(set(CSO['CSO'].tolist()).intersection(set(evaluation1['cate1'].tolist())))"
   ]
  },
  {
   "cell_type": "code",
   "execution_count": 18,
   "metadata": {},
   "outputs": [],
   "source": [
    "EACM = evaluation1[evaluation1['cate1'].isin(set(ACM['ACM'].tolist()))]\n",
    "ECSO = evaluation1[evaluation1['cate1'].isin(set(CSO['CSO'].tolist()))]\n",
    "EOURS = evaluation1[evaluation1['cate1'].isin(ours)]\n",
    "EOURS7=evaluation1[evaluation1['cate1'].isin(ours7)]\n",
    "EOURS8=evaluation1[evaluation1['cate1'].isin(ours8)]"
   ]
  },
  {
   "cell_type": "code",
   "execution_count": 19,
   "metadata": {},
   "outputs": [
    {
     "name": "stdout",
     "output_type": "stream",
     "text": [
      "ACM CCS (unique): 1284\n",
      "ACM CCS (total): 302326\n",
      "CSO (unique): 10985\n",
      "CSO (total): 797477\n",
      "WikiCSSH (unique) 62635\n",
      "WikiCSSH (total) 1456590\n",
      "Core WikiCSSH (unique) 45345\n",
      "Core WikiCSSH (total) 1207075\n",
      "Ancillary WikiCSSH (unique) 17290\n",
      "Ancillary WikiCSSH (total) 249515\n"
     ]
    }
   ],
   "source": [
    "print('ACM CCS (unique):', len(EACM['cate1'].unique()))\n",
    "print('ACM CCS (total):', EACM['number'].sum())\n",
    "print('CSO (unique):', len(ECSO['cate1'].unique()))\n",
    "print('CSO (total):', ECSO['number'].sum())\n",
    "print('WikiCSSH (unique)', len(EOURS['cate1'].unique())) \n",
    "print('WikiCSSH (total)', EOURS['number'].sum()) \n",
    "print('Core WikiCSSH (unique)', len(EOURS7['cate1'].unique())) \n",
    "print('Core WikiCSSH (total)', EOURS7['number'].sum())\n",
    "print('Ancillary WikiCSSH (unique)', len(EOURS['cate1'].unique()) - len(EOURS7['cate1'].unique())) \n",
    "print('Ancillary WikiCSSH (total)', EOURS['number'].sum()-EOURS7['number'].sum())"
   ]
  }
 ],
 "metadata": {
  "kernelspec": {
   "display_name": "Python 3",
   "language": "python",
   "name": "python3"
  },
  "language_info": {
   "codemirror_mode": {
    "name": "ipython",
    "version": 3
   },
   "file_extension": ".py",
   "mimetype": "text/x-python",
   "name": "python",
   "nbconvert_exporter": "python",
   "pygments_lexer": "ipython3",
   "version": "3.7.3"
  }
 },
 "nbformat": 4,
 "nbformat_minor": 2
}
